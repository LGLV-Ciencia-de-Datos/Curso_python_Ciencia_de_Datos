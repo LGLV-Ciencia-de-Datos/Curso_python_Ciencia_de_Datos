{
  "nbformat": 4,
  "nbformat_minor": 0,
  "metadata": {
    "colab": {
      "provenance": [],
      "authorship_tag": "ABX9TyPIkNvb2c/nv3kH9Ot8foxg",
      "include_colab_link": true
    },
    "kernelspec": {
      "name": "python3",
      "display_name": "Python 3"
    },
    "language_info": {
      "name": "python"
    }
  },
  "cells": [
    {
      "cell_type": "markdown",
      "metadata": {
        "id": "view-in-github",
        "colab_type": "text"
      },
      "source": [
        "<a href=\"https://colab.research.google.com/github/LGLV-Ciencia-de-Datos/Curso_python_Ciencia_de_Datos/blob/main/Ejercicio_Funciones_de_resumen_y_mapas.ipynb\" target=\"_parent\"><img src=\"https://colab.research.google.com/assets/colab-badge.svg\" alt=\"Open In Colab\"/></a>"
      ]
    },
    {
      "cell_type": "markdown",
      "source": [
        "# **Introducción**\n",
        "\n",
        "Ahora estás listo para obtener una comprensión más profunda de tus datos.\n",
        "\n",
        "\n",
        "Ejecute la siguiente celda para cargar sus datos"
      ],
      "metadata": {
        "id": "nSft5MCi-OL9"
      }
    },
    {
      "cell_type": "code",
      "source": [
        "import pandas as pd"
      ],
      "metadata": {
        "id": "FxzWUfqi_BaY"
      },
      "execution_count": null,
      "outputs": []
    },
    {
      "cell_type": "code",
      "source": [
        "reviews = pd.read_csv('https://raw.githubusercontent.com/davestroud/Wine/refs/heads/master/winemag-data-130k-v2.csv', index_col = 0)\n",
        "reviews"
      ],
      "metadata": {
        "id": "h3HSkyYp-mSW"
      },
      "execution_count": null,
      "outputs": []
    },
    {
      "cell_type": "markdown",
      "source": [
        "## 1.\n",
        "\n",
        "¿Cuál es la mediana de la columna de puntos en el DataFrame de reseñas?"
      ],
      "metadata": {
        "id": "y3MMeaEO-nol"
      }
    },
    {
      "cell_type": "code",
      "execution_count": null,
      "metadata": {
        "id": "ITyjYn1R-LjN"
      },
      "outputs": [],
      "source": [
        "# escribe to codigo aca.\n",
        "median_points =\n"
      ]
    },
    {
      "cell_type": "markdown",
      "source": [
        "## 2.\n",
        "\n",
        "¿Qué países están representados en el conjunto de datos? (Tu respuesta no debe incluir duplicados)."
      ],
      "metadata": {
        "id": "u9mEyRUg_vvo"
      }
    },
    {
      "cell_type": "code",
      "source": [
        "# escribe to codigo aca.\n",
        "countries ="
      ],
      "metadata": {
        "id": "chv7Avbl_7vz"
      },
      "execution_count": null,
      "outputs": []
    },
    {
      "cell_type": "markdown",
      "source": [
        "## 3.\n",
        "\n",
        "¿Con qué frecuencia aparece cada país en el conjunto de datos? Crea una Serie `reviews_per_country` que asigne a cada país la cantidad de reseñas de vinos de ese país."
      ],
      "metadata": {
        "id": "StAKZnBYAoOo"
      }
    },
    {
      "cell_type": "code",
      "source": [
        "# escribe to codigo aca."
      ],
      "metadata": {
        "id": "sNP6TfU2AtB8"
      },
      "execution_count": null,
      "outputs": []
    },
    {
      "cell_type": "markdown",
      "source": [
        "## 4.\n",
        "\n",
        "Cree la variable `centered_price` que contenga una versión de la columna de precios con el precio medio restado.\n",
        "\n",
        "(Nota: esta transformación de 'centrado' es un paso de preprocesamiento común antes de aplicar varios algoritmos de aprendizaje automático)."
      ],
      "metadata": {
        "id": "jCrRlE3lBJzB"
      }
    },
    {
      "cell_type": "code",
      "source": [
        "# escribe to codigo aca."
      ],
      "metadata": {
        "id": "ClAeXmN4BQ3e"
      },
      "execution_count": null,
      "outputs": []
    },
    {
      "cell_type": "markdown",
      "source": [
        "## 5.\n",
        "\n",
        "Soy un comprador de vino ahorrador. ¿Cuál es el vino con la \"mejor oferta\"? Crea una variable `bargain_wine` con el título del vino con la relación más alta de puntos por precio en el conjunto de datos."
      ],
      "metadata": {
        "id": "FmupSX-YB2wo"
      }
    },
    {
      "cell_type": "code",
      "source": [
        "# escribe to codigo aca."
      ],
      "metadata": {
        "id": "yj-xOVfZCBQs"
      },
      "execution_count": null,
      "outputs": []
    },
    {
      "cell_type": "markdown",
      "source": [
        "## 6.\n",
        "\n",
        "Solo hay un número limitado de palabras que puedes usar para describir una botella de vino. ¿Es más probable que un vino sea \"tropical\" o \"fruity\"? Crea una Serie `descriptor_counts` que cuente cuántas veces aparece cada una de estas dos palabras en la columna `description` del conjunto de datos. (Para simplificar, ignoremos las versiones en mayúsculas de estas palabras)."
      ],
      "metadata": {
        "id": "6vgujvCpGYVn"
      }
    },
    {
      "cell_type": "code",
      "source": [
        "# escribe to codigo aca.\n",
        "\n",
        "# descriptor_counts = pd.Series([n_trop, n_fruity], index=['tropical', 'fruity'])\n",
        "\n",
        "descriptor_counts ="
      ],
      "metadata": {
        "id": "tZdMK0ceGYDr"
      },
      "execution_count": null,
      "outputs": []
    },
    {
      "cell_type": "markdown",
      "source": [
        "## 7.\n",
        "\n",
        "Nos gustaría alojar estas reseñas de vinos en nuestro sitio web, pero un sistema de calificación que va de 80 a 100 puntos es demasiado difícil de entender. Queremos traducirlas a un sistema simple de estrellas. Una puntuación de 95 o más se considera 3 estrellas, una puntuación de al menos 85 pero menos de 95 es 2 estrellas. Cualquier otra puntuación es 1 estrella.\n",
        "\n",
        "Además, la Asociación Canadiense de Viticultores compró muchos anuncios en el sitio, por lo que cualquier vino de Canadá debería obtener automáticamente 3 estrellas, independientemente de su puntuación.\n",
        "\n",
        "Crea una serie llamada `star_ratings` con el número de estrellas que corresponde a cada reseña en el conjunto de datos."
      ],
      "metadata": {
        "id": "vwvlAXhjHpDU"
      }
    },
    {
      "cell_type": "code",
      "source": [
        "# escribe to codigo aca.\n",
        "star_ratings ="
      ],
      "metadata": {
        "id": "kX0b_43QHvj7"
      },
      "execution_count": null,
      "outputs": []
    },
    {
      "cell_type": "markdown",
      "source": [
        "## 8.\n",
        "\n",
        "Crea una nueva columna en el DataFrame `reviews` llamada `stars`, usando la Series `star_ratings` que muestra la logica de la pregunta 7: 3 estrellas para puntuaciones de 95 o más o que es de Canada, 2 estrellas para puntuaciones entre 85 y 94, y 1 estrella para las demás."
      ],
      "metadata": {
        "id": "nQkOo97Z4mKl"
      }
    },
    {
      "cell_type": "code",
      "source": [
        "# escribe to codigo aca."
      ],
      "metadata": {
        "id": "eji382UWyujb"
      },
      "execution_count": null,
      "outputs": []
    },
    {
      "cell_type": "markdown",
      "source": [
        "## 9.\n",
        "\n",
        "Obtén un nuevo DataFrame llamado `star_ratings_df` que contenga únicamente las columnas `country`, `points` y la recién creada columna `stars`."
      ],
      "metadata": {
        "id": "B_T0xsez5E7c"
      }
    },
    {
      "cell_type": "code",
      "source": [
        "# escribe to codigo aca.\n",
        "star_ratings_df ="
      ],
      "metadata": {
        "id": "ocXOEcrM5Dni"
      },
      "execution_count": null,
      "outputs": []
    },
    {
      "cell_type": "markdown",
      "source": [
        "## 10.\n",
        "\n",
        "Mostrar vinos de Canadá con 3 estrellas\n",
        "\n",
        "¿Cómo puedes verificar que los vinos de Canadá, incluso aquellos con puntuaciones de 85 o menos, han sido correctamente calificados con 3 estrellas? Usando `star_ratings_df` obten una muestra de estos vinos para demostrar la regla especial."
      ],
      "metadata": {
        "id": "dTi7iNWT7WIu"
      }
    },
    {
      "cell_type": "code",
      "source": [
        "# escribe to codigo aca."
      ],
      "metadata": {
        "id": "sWX0zhm72dyR"
      },
      "execution_count": null,
      "outputs": []
    }
  ]
}