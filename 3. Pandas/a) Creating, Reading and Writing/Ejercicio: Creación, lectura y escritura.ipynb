{
  "nbformat": 4,
  "nbformat_minor": 0,
  "metadata": {
    "colab": {
      "provenance": [],
      "authorship_tag": "ABX9TyMflxJ16N/aMLYW4uez9mgR",
      "include_colab_link": true
    },
    "kernelspec": {
      "name": "python3",
      "display_name": "Python 3"
    },
    "language_info": {
      "name": "python"
    }
  },
  "cells": [
    {
      "cell_type": "markdown",
      "metadata": {
        "id": "view-in-github",
        "colab_type": "text"
      },
      "source": [
        "<a href=\"https://colab.research.google.com/github/LGLV-Ciencia-de-Datos/Curso_python_Ciencia_de_Datos/blob/main/3.%20Pandas/a)%20Creating%2C%20Reading%20and%20Writing/Ejercicio%3A%20Creaci%C3%B3n%2C%20lectura%20y%20escritura.ipynb\" target=\"_parent\"><img src=\"https://colab.research.google.com/assets/colab-badge.svg\" alt=\"Open In Colab\"/></a>"
      ]
    },
    {
      "cell_type": "markdown",
      "source": [
        "# Ejercicio: Creación, lectura y escritura (Creating, Reading and Writing)"
      ],
      "metadata": {
        "id": "d_2P7Jv24Ddh"
      }
    },
    {
      "cell_type": "markdown",
      "source": [
        "## 1.\n",
        "En la siguiente celda, crea un DataFrame `fruits` que se vea así:\n",
        "\n",
        "|    | Apples | Bananas |\n",
        "|---:|-------:|--------:|\n",
        "| 0  | 30     | 21      |"
      ],
      "metadata": {
        "id": "kiMAsBxE4NMJ"
      }
    },
    {
      "cell_type": "code",
      "source": [
        "# Importa la libreria pandas"
      ],
      "metadata": {
        "id": "hysQmgu95Y_a"
      },
      "execution_count": null,
      "outputs": []
    },
    {
      "cell_type": "code",
      "source": [
        "#escribe aca tu codigo:\n",
        "fruits =\n"
      ],
      "metadata": {
        "id": "EDtnzrdE4Cwr"
      },
      "execution_count": null,
      "outputs": []
    },
    {
      "cell_type": "markdown",
      "source": [
        "## 2.\n",
        " Crea un DataFrame `fruit_sales` que coincida con el diagrama a continuación:\n",
        "\n",
        "|             | Apples | Bananas |\n",
        "|------------:|-------:|--------:|\n",
        "| 2017 Sales  | 30     | 21      |\n",
        "| 2018 Sales  | 41     | 34      |\n"
      ],
      "metadata": {
        "id": "N6WLgQR554mb"
      }
    },
    {
      "cell_type": "code",
      "source": [
        "#escribe aca tu codigo:\n",
        "fruit_sales ="
      ],
      "metadata": {
        "id": "lRKJePbE6BA5"
      },
      "execution_count": null,
      "outputs": []
    },
    {
      "cell_type": "markdown",
      "source": [
        "## 3.\n",
        "Crea una variable `ingredients` con una Serie que se vea así:\n",
        "\n",
        "    Flour     4 cups\n",
        "    Milk       1 cup\n",
        "    Eggs     2 large\n",
        "    Spam       1 can\n",
        "    Name: Dinner, dtype: object"
      ],
      "metadata": {
        "id": "SiQRub808JYY"
      }
    },
    {
      "cell_type": "code",
      "execution_count": null,
      "metadata": {
        "id": "edM3Lf8c3-x7"
      },
      "outputs": [],
      "source": [
        "#escribe aca tu codigo:\n",
        "ingrediets =\n"
      ]
    },
    {
      "cell_type": "markdown",
      "source": [
        "## 4.\n",
        "Lee el siguiente conjunto de datos CSV de reseñas de vino (wine reviews) en un DataFrame llamado `reviews`:"
      ],
      "metadata": {
        "id": "3NyeqPfc9R6A"
      }
    },
    {
      "cell_type": "code",
      "source": [
        "#escribe aca tu codigo:\n",
        "\n",
        "'''La ruta al archivo csv es:\n",
        " https://raw.githubusercontent.com/davestroud/Wine/refs/heads/master/winemag-data-130k-v2.csv'.\n",
        " Las primeras líneas se ven así:'''\n",
        "\n",
        "reviews ="
      ],
      "metadata": {
        "id": "oVjMJ54b9cnp"
      },
      "execution_count": null,
      "outputs": []
    },
    {
      "cell_type": "markdown",
      "source": [
        "## 5.\n",
        "\n",
        "Ejecuta la siguiente celda para crear y mostrar un DataFrame llamado animals:"
      ],
      "metadata": {
        "id": "Qm7XjCxU-TM7"
      }
    },
    {
      "cell_type": "code",
      "source": [
        "animals = pd.DataFrame({'Cows': [12, 20], 'Goats': [22, 19]}, index=['Year 1', 'Year 2'])\n",
        "animals"
      ],
      "metadata": {
        "id": "yBW1Oygp-aq0"
      },
      "execution_count": null,
      "outputs": []
    },
    {
      "cell_type": "markdown",
      "source": [
        "En la celda de abajo, escribe el código para guardar este DataFrame en el disco como un archivo csv con el nombre `cows_and_goats.csv`."
      ],
      "metadata": {
        "id": "dcjzzuXU-ZUr"
      }
    },
    {
      "cell_type": "code",
      "source": [
        "#escribe aca tu codigo:\n",
        "\n",
        "animals"
      ],
      "metadata": {
        "id": "7LMM3NoT-uza"
      },
      "execution_count": null,
      "outputs": []
    }
  ]
}