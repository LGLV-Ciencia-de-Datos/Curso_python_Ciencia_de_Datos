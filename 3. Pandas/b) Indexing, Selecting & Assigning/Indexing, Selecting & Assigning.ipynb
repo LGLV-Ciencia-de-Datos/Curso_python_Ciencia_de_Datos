{
  "nbformat": 4,
  "nbformat_minor": 0,
  "metadata": {
    "colab": {
      "provenance": [],
      "authorship_tag": "ABX9TyMDbJyXE3mSSqiV6n10l/GG",
      "include_colab_link": true
    },
    "kernelspec": {
      "name": "python3",
      "display_name": "Python 3"
    },
    "language_info": {
      "name": "python"
    }
  },
  "cells": [
    {
      "cell_type": "markdown",
      "metadata": {
        "id": "view-in-github",
        "colab_type": "text"
      },
      "source": [
        "<a href=\"https://colab.research.google.com/github/LGLV-Ciencia-de-Datos/Curso_python_Ciencia_de_Datos/blob/main/3.%20Pandas/b)%20Indexing%2C%20Selecting%20%26%20Assigning/Indexing%2C%20Selecting%20%26%20Assigning.ipynb\" target=\"_parent\"><img src=\"https://colab.research.google.com/assets/colab-badge.svg\" alt=\"Open In Colab\"/></a>"
      ]
    },
    {
      "cell_type": "markdown",
      "source": [
        "# **Indexing, Selecting & Assigning** (Indexación, Selección y Asignación)\n",
        "Los científicos de datos profesionales hacen esto docenas de veces al día. ¡Tú también puedes!"
      ],
      "metadata": {
        "id": "2_C1ATQ1ctjE"
      }
    },
    {
      "cell_type": "markdown",
      "source": [
        "# **Introducción**\n",
        "\n",
        "Seleccionar valores específicos de un DataFrame o una Serie de pandas para trabajar es un paso implícito en casi cualquier operación de datos que vayas a ejecutar. Por lo tanto, una de las primeras cosas que necesitas aprender al trabajar con datos en Python es cómo seleccionar los puntos de datos relevantes para ti de manera rápida y efectiva.\n"
      ],
      "metadata": {
        "id": "QvQ1W6kqdnCS"
      }
    },
    {
      "cell_type": "markdown",
      "source": [
        "### **Descriptores de acceso nativos** (Native accessors)\n",
        "\n",
        "Los objetos nativos de Python ofrecen buenas formas de indexar datos. Pandas adopta todas estas formas, lo que hace que sea fácil empezar a trabajar.\n",
        "\n",
        "Considera el siguiente DataFrame:"
      ],
      "metadata": {
        "id": "xhpH4W6GefgH"
      }
    },
    {
      "cell_type": "code",
      "execution_count": null,
      "metadata": {
        "id": "INj2eQisco5f"
      },
      "outputs": [],
      "source": [
        "\n"
      ]
    },
    {
      "cell_type": "code",
      "source": [
        "reviews = pd.read_csv('https://raw.githubusercontent.com/davestroud/Wine/refs/heads/master/winemag-data-130k-v2.csv', index_col = 0)\n",
        "reviews.shape"
      ],
      "metadata": {
        "id": "Dk5fXcuQdKMO"
      },
      "execution_count": null,
      "outputs": []
    },
    {
      "cell_type": "code",
      "source": [
        "reviews.head()"
      ],
      "metadata": {
        "id": "6TUdJEUQfxNv"
      },
      "execution_count": null,
      "outputs": []
    },
    {
      "cell_type": "markdown",
      "source": [
        "En Python, podemos acceder a la propiedad de un objeto accediendo a ella como un atributo. Por ejemplo, un objeto `book` podría tener una propiedad `title`, a la cual podemos acceder llamando a `book.title`. Las columnas en un DataFrame de pandas funcionan de manera muy similar.\n",
        "\n",
        "Por lo tanto, para acceder a la propiedad `country` de **reviews**, podemos usar:"
      ],
      "metadata": {
        "id": "1THHpcv2ghBo"
      }
    },
    {
      "cell_type": "code",
      "source": [
        "reviews.country"
      ],
      "metadata": {
        "id": "U3eU8f-Xg89W"
      },
      "execution_count": null,
      "outputs": []
    },
    {
      "cell_type": "markdown",
      "source": [
        "Si tenemos un diccionario de Python, podemos acceder a sus valores usando el operador de indexación ([]). Podemos hacer lo mismo con las columnas de un DataFrame:"
      ],
      "metadata": {
        "id": "clFlFbXthkyh"
      }
    },
    {
      "cell_type": "code",
      "source": [
        "reviews['country']"
      ],
      "metadata": {
        "id": "XD5CzqO1hkE0"
      },
      "execution_count": null,
      "outputs": []
    },
    {
      "cell_type": "markdown",
      "source": [
        "Para seleccionar una Series específica de un DataFrame, existen dos métodos. Ambos son sintácticamente válidos, pero el operador de indexación `[]` tiene una ventaja: puede manejar nombres de columnas que contienen caracteres especiales o espacios (por ejemplo, si la columna se llamara `country providence`, `reviews.country providence` no funcionaría).\n",
        "\n",
        "¿Una Series de pandas no se parece un poco a un diccionario elegante? En esencia, lo es. Por eso, no es sorprendente que para acceder a un solo valor específico, solo necesitemos usar el operador de indexación [] una vez más."
      ],
      "metadata": {
        "id": "XQ06AeqPiNLG"
      }
    },
    {
      "cell_type": "code",
      "source": [
        "reviews['country'][0]"
      ],
      "metadata": {
        "id": "-1B3lXc2iMsK"
      },
      "execution_count": null,
      "outputs": []
    },
    {
      "cell_type": "markdown",
      "source": [
        "## **La indexación en pandas** (Indexing)\n",
        "\n",
        "El operador de indexación y la selección de atributos son convenientes porque funcionan de la misma manera que en el resto del ecosistema de Python. Como principiante, esto hace que sean fáciles de aprender y usar. Sin embargo, pandas tiene sus propios operadores de acceso, `loc` y `iloc`. Para operaciones más avanzadas, estos son los que se supone que debes usar."
      ],
      "metadata": {
        "id": "bd18u3jCi2p5"
      }
    },
    {
      "cell_type": "markdown",
      "source": [
        "### **Selección basada en índices** (Index-based selection)\n",
        "\n",
        "El indexado en Pandas funciona bajo uno de dos paradigmas. El primero es la selección basada en índices (Index-based selection): seleccionar datos según su posición numérica en los datos. `iloc` sigue este paradigma.\n",
        "\n",
        "Para seleccionar la primera fila de datos en un DataFrame, podemos usar lo siguiente:"
      ],
      "metadata": {
        "id": "lRiN8EAIjUy8"
      }
    },
    {
      "cell_type": "code",
      "source": [
        "reviews.iloc[0]"
      ],
      "metadata": {
        "id": "n-c7PkkQjAP_"
      },
      "execution_count": null,
      "outputs": []
    },
    {
      "cell_type": "markdown",
      "source": [
        "Tanto `loc` como `iloc` operan con el formato de **fila-primero**, **columna-segundo**. Esto es lo opuesto a lo que hacemos en Python nativo, que es columna-primero, fila-segundo.\n",
        "\n",
        "Esto significa que es un poco más fácil recuperar filas y un poco más difícil recuperar columnas. Para obtener una columna con iloc, podemos hacer lo siguiente:"
      ],
      "metadata": {
        "id": "VZZRtgo1kNXM"
      }
    },
    {
      "cell_type": "code",
      "source": [
        "reviews.iloc[:,0]"
      ],
      "metadata": {
        "id": "F7qhH3npkX0V"
      },
      "execution_count": null,
      "outputs": []
    },
    {
      "cell_type": "markdown",
      "source": [
        "El operador `:` (dos puntos), que también proviene de Python nativo, por sí solo significa \"todo\". Sin embargo, cuando se combina con otros selectores, se puede usar para indicar un rango de valores. Por ejemplo, para seleccionar la columna \"country\" solo de la primera, segunda y tercera fila, haríamos:"
      ],
      "metadata": {
        "id": "_8qqwSmsk7sw"
      }
    },
    {
      "cell_type": "code",
      "source": [
        "reviews.iloc[:3,0]"
      ],
      "metadata": {
        "id": "X9LeI-oolCqF"
      },
      "execution_count": null,
      "outputs": []
    },
    {
      "cell_type": "markdown",
      "source": [
        "Para seleccionar solo la segunda y tercera entrada, haríamos:"
      ],
      "metadata": {
        "id": "EoT9eHnjlZhZ"
      }
    },
    {
      "cell_type": "code",
      "source": [
        "reviews.iloc[1:3,0]"
      ],
      "metadata": {
        "id": "b8Zg3r8ylbKn"
      },
      "execution_count": null,
      "outputs": []
    },
    {
      "cell_type": "markdown",
      "source": [
        "También es posible pasar una lista:"
      ],
      "metadata": {
        "id": "oBhpdAS0l2Kr"
      }
    },
    {
      "cell_type": "code",
      "source": [
        "reviews.iloc[[10,11,12], 0]"
      ],
      "metadata": {
        "id": "LetmkRZNl3bb"
      },
      "execution_count": null,
      "outputs": []
    },
    {
      "cell_type": "markdown",
      "source": [
        "Finalmente, vale la pena saber que los números negativos se pueden usar en la selección. Esto hará que la cuenta comience hacia adelante desde el final de los valores. Así, por ejemplo, aquí están los últimos cinco elementos del conjunto de datos."
      ],
      "metadata": {
        "id": "2hHDPAlTmanO"
      }
    },
    {
      "cell_type": "code",
      "source": [
        "reviews.iloc[-10:,0]"
      ],
      "metadata": {
        "id": "zo7O3ahpmjyD"
      },
      "execution_count": null,
      "outputs": []
    },
    {
      "cell_type": "markdown",
      "source": [
        "### **Selección basada en etiquetas** (label-based selection)\n",
        "\n",
        "La segunda forma de selección de atributos es la que sigue el operador loc: la selección basada en etiquetas (label-based selection). En este enfoque, lo que importa es el valor del índice de los datos, no su posición."
      ],
      "metadata": {
        "id": "oon5W-__m8HJ"
      }
    },
    {
      "cell_type": "markdown",
      "source": [
        "Por ejemplo, para obtener la primera entrada en reviews, ahora haríamos lo siguiente:"
      ],
      "metadata": {
        "id": "-uMKa-dLnO9I"
      }
    },
    {
      "cell_type": "code",
      "source": [
        "reviews.loc[0,'country']"
      ],
      "metadata": {
        "id": "YgYbDXDSnW4c"
      },
      "execution_count": null,
      "outputs": []
    },
    {
      "cell_type": "markdown",
      "source": [
        "`iloc` es conceptualmente más simple que `loc` porque ignora los índices del conjunto de datos. Cuando usamos `iloc`, tratamos el conjunto de datos como una gran matriz (una lista de listas) a la que tenemos que acceder por su posición. Por el contrario, `loc` usa la información en los índices para funcionar. Dado que tu conjunto de datos generalmente tiene índices con significado, por lo general es más fácil hacer las cosas usando `loc`. Por ejemplo, aquí hay una operación que es mucho más sencilla usando `loc`:"
      ],
      "metadata": {
        "id": "FL-kSO-unzvy"
      }
    },
    {
      "cell_type": "code",
      "source": [
        "reviews.columns\n"
      ],
      "metadata": {
        "id": "t9nijVy_oLwW"
      },
      "execution_count": null,
      "outputs": []
    },
    {
      "cell_type": "code",
      "source": [
        "reviews.loc[:,['taster_name', 'taster_twitter_handle', 'points']]"
      ],
      "metadata": {
        "id": "gM6zjwIuoPXG"
      },
      "execution_count": null,
      "outputs": []
    },
    {
      "cell_type": "code",
      "source": [
        "reviews.iloc[:,[8,9,3]]"
      ],
      "metadata": {
        "id": "lQV3YSmTov8l"
      },
      "execution_count": null,
      "outputs": []
    },
    {
      "cell_type": "markdown",
      "source": [
        "### Selección entre `loc` y `iloc`\n",
        "\n",
        "Al elegir o hacer la transición entre `loc` e `iloc`, hay un \"detalle\" que vale la pena tener en cuenta: los dos métodos usan esquemas de indexación ligeramente diferentes.\n",
        "\n",
        "`iloc` utiliza el esquema de indexación de la librería estándar de Python (stdlib), donde el primer elemento del rango está incluido y el último está excluido. Por lo tanto, 0:10 seleccionará las entradas 0,...,9. Por su parte, `loc` indexa de forma inclusiva. Así, 0:10 seleccionará las entradas 0,...,10.\n",
        "\n",
        "¿Por qué el cambio? Recuerda que `loc` puede indexar cualquier tipo de la librería estándar, como por ejemplo, cadenas de texto. Si tenemos un DataFrame con valores de índice 'Apples', ..., 'Potatoes', ..., y queremos seleccionar \"todas las frutas en orden alfabético entre 'Apples'y'Potatoes', es mucho más conveniente indexar `df.loc['Apples':'Potatoes']` que indexar algo como `df.loc['Apples', 'Potatoet']` (la 't' viene después de la 's' en el alfabeto).\n",
        "\n",
        "Esto es particularmente confuso cuando el índice del DataFrame es una simple lista numérica, por ejemplo, 0,...,1000. En este caso, `df.iloc[0:1000]` devolverá 1000 entradas, mientras que `df.loc[0:1000]` devolverá 1001. Para obtener 1000 elementos usando `loc`, necesitarás bajar uno y pedir `df.loc[0:999]`.\n",
        "\n",
        "Por lo demás, la semántica de uso de loc es la misma que la de iloc."
      ],
      "metadata": {
        "id": "HEL1N_xzppg9"
      }
    },
    {
      "cell_type": "markdown",
      "source": [
        "### **Manipulación del índice** (Manipulating the index)\n",
        "\n",
        "La selección basada en etiquetas obtiene su poder de las etiquetas en el índice. Un punto clave es que el índice que usamos no es inmutable; podemos manipularlo de la forma que mejor nos parezca.\n",
        "\n",
        "El método `set_index()` puede usarse para esta tarea. Esto es lo que sucede cuando establecemos el `set_index()` en el campo `title`:"
      ],
      "metadata": {
        "id": "2FRKeQYzrwy8"
      }
    },
    {
      "cell_type": "code",
      "source": [
        "reviews.set_index('title')"
      ],
      "metadata": {
        "id": "mcD8S7bdsin2"
      },
      "execution_count": null,
      "outputs": []
    },
    {
      "cell_type": "markdown",
      "source": [
        "### **Selección Condicional** (Conditional selection)\n",
        "\n",
        "Hasta ahora hemos estado indexando varios segmentos de datos, utilizando las propiedades estructurales del propio DataFrame. Sin embargo, para hacer cosas interesantes con los datos, a menudo necesitamos hacer preguntas basadas en condiciones."
      ],
      "metadata": {
        "id": "H1Ox3oontH9U"
      }
    },
    {
      "cell_type": "markdown",
      "source": [
        "Por ejemplo, supongamos que nos interesan específicamente los vinos italianos que son mejores que el promedio.\n",
        "\n",
        "Podemos comenzar verificando si cada vino es italiano o no:"
      ],
      "metadata": {
        "id": "zercekLAt9sl"
      }
    },
    {
      "cell_type": "code",
      "source": [
        "reviews.country == 'Italy'"
      ],
      "metadata": {
        "id": "wWJWyH4LuBO9"
      },
      "execution_count": null,
      "outputs": []
    },
    {
      "cell_type": "code",
      "source": [
        "reviews.loc[reviews.country == 'Italy']"
      ],
      "metadata": {
        "id": "nXVPc2q5tHPY"
      },
      "execution_count": null,
      "outputs": []
    },
    {
      "cell_type": "markdown",
      "source": [
        "Este DataFrame tiene ~20,000 filas. El original tenía ~130,000. Eso significa que alrededor del 15% de los vinos provienen de Italia.\n",
        "\n",
        "También queríamos saber cuáles son mejores que el promedio. Los vinos son calificados en una escala de 80 a 100 puntos, por lo que esto podría significar vinos que obtuvieron al menos 90 puntos.\n",
        "\n",
        "Podemos usar el símbolo de `ampersand (&)` para combinar las dos preguntas:"
      ],
      "metadata": {
        "id": "_KaeXceav2gv"
      }
    },
    {
      "cell_type": "code",
      "source": [
        "reviews.loc[(reviews.country == 'Italy') & (reviews.points >= 90)]"
      ],
      "metadata": {
        "id": "waXuNyluv4Vz"
      },
      "execution_count": null,
      "outputs": []
    },
    {
      "cell_type": "markdown",
      "source": [
        "Supongamos que compraremos cualquier vino que se produzca en Italia `o` que tenga una calificación por encima del promedio. Para esto, usamos una barra vertical (`|`):"
      ],
      "metadata": {
        "id": "UB67FPRunWJV"
      }
    },
    {
      "cell_type": "code",
      "source": [
        "reviews.loc[(reviews.country == 'Italy') | (reviews.points >= 90)]"
      ],
      "metadata": {
        "id": "OwzNKYA5xc60"
      },
      "execution_count": null,
      "outputs": []
    },
    {
      "cell_type": "markdown",
      "source": [
        "Pandas viene con algunos selectores condicionales incorporados, dos de los cuales destacaremos aquí.\n",
        "\n",
        "El primero es `isin`. `isin` te permite seleccionar datos cuyo valor \"está en\" una lista de valores. Por ejemplo, así es como podemos usarlo para seleccionar vinos solo de Italia o Francia:"
      ],
      "metadata": {
        "id": "cghqbnBWyFyG"
      }
    },
    {
      "cell_type": "code",
      "source": [
        "reviews.loc[reviews.country.isin(['Italy', 'France'])]"
      ],
      "metadata": {
        "id": "-7-0UCvSyTIK"
      },
      "execution_count": null,
      "outputs": []
    },
    {
      "cell_type": "markdown",
      "source": [
        "La segunda es `isnull` (y su compañera `notnull`). Estos métodos te permiten resaltar valores que están (o no están) vacíos (NaN). Por ejemplo, para filtrar los vinos que carecen de una etiqueta de precio en el conjunto de datos, esto es lo que haríamos:"
      ],
      "metadata": {
        "id": "T4HHwsKNy19d"
      }
    },
    {
      "cell_type": "code",
      "source": [
        "reviews.loc[reviews.price.notnull()]"
      ],
      "metadata": {
        "id": "MiTiUZOtzCB0"
      },
      "execution_count": null,
      "outputs": []
    },
    {
      "cell_type": "code",
      "source": [
        "reviews.loc[reviews.points.notnull()]"
      ],
      "metadata": {
        "id": "0HMSM96PzoaF"
      },
      "execution_count": null,
      "outputs": []
    },
    {
      "cell_type": "markdown",
      "source": [
        "### **Asignación de datos** (Assigning data)\n",
        "\n",
        "Yendo en la dirección opuesta, asignar datos a un DataFrame es fácil. Puedes asignar tanto un valor constante:"
      ],
      "metadata": {
        "id": "9xfiQx5S0Qu7"
      }
    },
    {
      "cell_type": "code",
      "source": [
        "reviews.columns"
      ],
      "metadata": {
        "id": "aWmevHXQ1Lej"
      },
      "execution_count": null,
      "outputs": []
    },
    {
      "cell_type": "code",
      "source": [
        "reviews['cytric'] = 'everyone'"
      ],
      "metadata": {
        "id": "FRttvrQ20_R2"
      },
      "execution_count": null,
      "outputs": []
    },
    {
      "cell_type": "code",
      "source": [
        "reviews['index_backwards'] = range(len(reviews), 0, -1)\n",
        "reviews['index_backwards']"
      ],
      "metadata": {
        "id": "iP2k92Iu2SlO"
      },
      "execution_count": null,
      "outputs": []
    }
  ]
}