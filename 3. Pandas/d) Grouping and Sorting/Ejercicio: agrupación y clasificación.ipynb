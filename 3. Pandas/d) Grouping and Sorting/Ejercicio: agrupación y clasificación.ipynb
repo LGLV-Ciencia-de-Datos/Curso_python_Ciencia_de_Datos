{
  "nbformat": 4,
  "nbformat_minor": 0,
  "metadata": {
    "colab": {
      "provenance": [],
      "authorship_tag": "ABX9TyP4C86pCPIsHj+hDp4qYc2H",
      "include_colab_link": true
    },
    "kernelspec": {
      "name": "python3",
      "display_name": "Python 3"
    },
    "language_info": {
      "name": "python"
    }
  },
  "cells": [
    {
      "cell_type": "markdown",
      "metadata": {
        "id": "view-in-github",
        "colab_type": "text"
      },
      "source": [
        "<a href=\"https://colab.research.google.com/github/LGLV-Ciencia-de-Datos/Curso_python_Ciencia_de_Datos/blob/main/3.%20Pandas/d)%20Grouping%20and%20Sorting/Ejercicio%3A%20agrupaci%C3%B3n%20y%20clasificaci%C3%B3n.ipynb\" target=\"_parent\"><img src=\"https://colab.research.google.com/assets/colab-badge.svg\" alt=\"Open In Colab\"/></a>"
      ]
    },
    {
      "cell_type": "markdown",
      "source": [
        "# **Introducción**\n",
        "\n",
        "En estos ejercicios aplicaremos análisis por grupos a nuestro conjunto de datos.\n",
        "\n",
        "Ejecuta la celda de código a continuación para cargar los datos antes de realizar los ejercicios."
      ],
      "metadata": {
        "id": "DUUARrsTA9Zy"
      }
    },
    {
      "cell_type": "code",
      "source": [],
      "metadata": {
        "id": "ksfcfP77BFZw"
      },
      "execution_count": null,
      "outputs": []
    },
    {
      "cell_type": "code",
      "execution_count": null,
      "metadata": {
        "id": "HxtqSQ4IAo1T"
      },
      "outputs": [],
      "source": [
        "reviews = pd.read_csv('https://raw.githubusercontent.com/davestroud/Wine/refs/heads/master/winemag-data-130k-v2.csv', index_col = 0)\n",
        "reviews"
      ]
    },
    {
      "cell_type": "markdown",
      "source": [
        "## 1.\n",
        "\n",
        "¿Quiénes son los críticos de vinos más comunes en el conjunto de datos? Crea una Series cuyo índice sea la categoría `taster_twitter_handle` del conjunto de datos, y cuyos valores cuenten cuántas reseñas escribió cada persona."
      ],
      "metadata": {
        "id": "WOIqdJSTBTdi"
      }
    },
    {
      "cell_type": "code",
      "source": [
        "# Tu código aca.\n"
      ],
      "metadata": {
        "id": "IqCXEWPKBdUW"
      },
      "execution_count": null,
      "outputs": []
    },
    {
      "cell_type": "markdown",
      "source": [
        "## 2.\n",
        "\n",
        "¿Cuál es el mejor vino que puedo comprar por una cantidad de dinero determinada? Crea una `Series` cuyo índice sean los precios del vino y cuyos valores sean la puntuación máxima otorgada a un vino que cuesta esa cantidad, según las reseñas. Ordena los valores por precio, de forma ascendente (para que 4.0 dólares esté al principio y 3300.0 dólares esté al final)."
      ],
      "metadata": {
        "id": "ZrYzskXnBxbD"
      }
    },
    {
      "cell_type": "code",
      "source": [
        "# Tu código aca."
      ],
      "metadata": {
        "id": "09P4aGyQB8rg"
      },
      "execution_count": null,
      "outputs": []
    },
    {
      "cell_type": "markdown",
      "source": [
        "## 3.\n",
        "\n",
        "¿Cuáles son los precios mínimo y máximo para cada variedad de vino? Crea un DataFrame cuyo índice sea la categoría de variedad del conjunto de datos y cuyos valores sean los valores mínimo y máximo de la misma."
      ],
      "metadata": {
        "id": "LdEha7L6C9Fz"
      }
    },
    {
      "cell_type": "code",
      "source": [
        "# Tu código aca."
      ],
      "metadata": {
        "id": "pEOtt915C8XS"
      },
      "execution_count": null,
      "outputs": []
    },
    {
      "cell_type": "markdown",
      "source": [
        "## 4.\n",
        "\n",
        "¿Cuáles son las variedades de vino más caras? Crea una variable llamada `sorted_varieties` que contenga una copia del DataFrame de la pregunta anterior, donde las variedades estén ordenadas de forma descendente, primero por el precio mínimo y luego por el precio máximo (para resolver empates)."
      ],
      "metadata": {
        "id": "3ENStS6mEH1v"
      }
    },
    {
      "cell_type": "code",
      "source": [
        "# Tu código aca."
      ],
      "metadata": {
        "id": "w3oGscS2EHgh"
      },
      "execution_count": null,
      "outputs": []
    },
    {
      "cell_type": "markdown",
      "source": [
        "## 5.\n",
        "\n",
        "Crea una `Series` cuyo índice sean los revisores y cuyos valores sean el puntaje de reseña promedio que cada revisor ha dado. Pista: necesitarás las columnas `taster_name` y `points`."
      ],
      "metadata": {
        "id": "IFtz0UeuGcZJ"
      }
    },
    {
      "cell_type": "code",
      "source": [
        "# Tu código aca."
      ],
      "metadata": {
        "id": "g1__ysZUGon0"
      },
      "execution_count": null,
      "outputs": []
    },
    {
      "cell_type": "markdown",
      "source": [
        "## 6.\n",
        "¿Qué combinación de países y variedades son las más comunes? Crea una Series cuyo índice sea un MultiIndex de pares {país, variedad}. Por ejemplo, un pinot noir producido en Estados Unidos debería corresponder a {\"US\", \"Pinot Noir\"}. Ordena los valores en la Series en orden descendente según el recuento de vinos."
      ],
      "metadata": {
        "id": "gKSId29BHlxS"
      }
    },
    {
      "cell_type": "code",
      "source": [
        "# Tu código aca."
      ],
      "metadata": {
        "id": "Ht99AkZKHk9n"
      },
      "execution_count": null,
      "outputs": []
    }
  ]
}