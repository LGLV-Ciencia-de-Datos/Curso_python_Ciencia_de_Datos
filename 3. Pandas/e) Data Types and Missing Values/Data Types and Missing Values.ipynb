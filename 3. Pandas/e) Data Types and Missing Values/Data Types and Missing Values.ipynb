{
  "nbformat": 4,
  "nbformat_minor": 0,
  "metadata": {
    "colab": {
      "provenance": [],
      "authorship_tag": "ABX9TyNi9iiq0k1+QzCAYXBKCg6z",
      "include_colab_link": true
    },
    "kernelspec": {
      "name": "python3",
      "display_name": "Python 3"
    },
    "language_info": {
      "name": "python"
    }
  },
  "cells": [
    {
      "cell_type": "markdown",
      "metadata": {
        "id": "view-in-github",
        "colab_type": "text"
      },
      "source": [
        "<a href=\"https://colab.research.google.com/github/LGLV-Ciencia-de-Datos/Curso_python_Ciencia_de_Datos/blob/main/3.%20Pandas/e)%20Data%20Types%20and%20Missing%20Values/Data%20Types%20and%20Missing%20Values.ipynb\" target=\"_parent\"><img src=\"https://colab.research.google.com/assets/colab-badge.svg\" alt=\"Open In Colab\"/></a>"
      ]
    },
    {
      "cell_type": "markdown",
      "source": [
        "# **Tipos de datos y valores faltantes** (Data Types and Missing Values)\n",
        "\n",
        "Soluciona los problemas más comunes que impiden el progreso."
      ],
      "metadata": {
        "id": "jekcOEGAUY8j"
      }
    },
    {
      "cell_type": "markdown",
      "source": [
        "### **Introducción**\n",
        "\n",
        "En este tutorial, aprenderás a investigar los tipos de datos dentro de un DataFrame o Series. También, aprenderás a encontrar y reemplazar entradas."
      ],
      "metadata": {
        "id": "4vHGzuoQUm7L"
      }
    },
    {
      "cell_type": "code",
      "source": [
        "import pandas as pd"
      ],
      "metadata": {
        "id": "gPjAMk1bU_Lr"
      },
      "execution_count": null,
      "outputs": []
    },
    {
      "cell_type": "code",
      "execution_count": null,
      "metadata": {
        "id": "CgBwE9hYULfQ"
      },
      "outputs": [],
      "source": [
        "reviews = pd.read_csv('https://raw.githubusercontent.com/davestroud/Wine/refs/heads/master/winemag-data-130k-v2.csv', index_col = 0)\n"
      ]
    },
    {
      "cell_type": "code",
      "source": [
        "# reviews.index.dtype"
      ],
      "metadata": {
        "colab": {
          "base_uri": "https://localhost:8080/"
        },
        "id": "yhpuQ7HrU6uU",
        "outputId": "c816cf06-497f-4479-864a-6ce87c552dd9"
      },
      "execution_count": null,
      "outputs": [
        {
          "output_type": "execute_result",
          "data": {
            "text/plain": [
              "dtype('int64')"
            ]
          },
          "metadata": {},
          "execution_count": 5
        }
      ]
    },
    {
      "cell_type": "markdown",
      "source": [
        "Alternativamente, la propiedad `.dtypes` devuelve el tipo de dato de cada columna en el DataFrame."
      ],
      "metadata": {
        "id": "54VYhcMFVv3e"
      }
    },
    {
      "cell_type": "code",
      "source": [
        "# reviews.dtypes"
      ],
      "metadata": {
        "id": "ROKWioV_VbVz"
      },
      "execution_count": null,
      "outputs": []
    },
    {
      "cell_type": "markdown",
      "source": [
        "Los tipos de datos nos informan sobre cómo pandas almacena la información internamente. `float64` significa que usa un número de punto flotante de 64 bits; `int64` significa que usa un número entero de un tamaño similar, y así sucesivamente.\n",
        "\n",
        "Una particularidad a tener en cuenta (y que se muestra muy claramente aquí) es que las columnas que consisten completamente en cadenas de texto no tienen un tipo propio; en su lugar, se les asigna el tipo object.\n",
        "\n",
        "Es posible convertir una columna de un tipo a otro, siempre que dicha conversión tenga sentido, usando la función `astype()`. Por ejemplo, podemos transformar la columna de points de su tipo de datos int64 a un tipo de datos float64:"
      ],
      "metadata": {
        "id": "4bA-Z9z4WMQK"
      }
    },
    {
      "cell_type": "code",
      "source": [
        "# reviews.points.astype('float64')"
      ],
      "metadata": {
        "id": "DJH_WB1bWLv5"
      },
      "execution_count": null,
      "outputs": []
    },
    {
      "cell_type": "markdown",
      "source": [
        "El índice `index` de un DataFrame o Series también tiene su propio tipo de datos `dtype`."
      ],
      "metadata": {
        "id": "Ot6NdxpSW4CV"
      }
    },
    {
      "cell_type": "code",
      "source": [
        "# reviews.index.dtype"
      ],
      "metadata": {
        "colab": {
          "base_uri": "https://localhost:8080/"
        },
        "id": "akDdQcdnXGPf",
        "outputId": "dd426e48-a87d-416c-92c8-8143bee41ec4"
      },
      "execution_count": null,
      "outputs": [
        {
          "output_type": "execute_result",
          "data": {
            "text/plain": [
              "dtype('int64')"
            ]
          },
          "metadata": {},
          "execution_count": 8
        }
      ]
    },
    {
      "cell_type": "markdown",
      "source": [
        "### **Datos faltantes** (Missing data)\n",
        "\n",
        "Las entradas a las que les faltan valores reciben el valor NaN, abreviatura de \"Not a Number\" (No es un número). Por razones técnicas, estos valores NaN son siempre del tipo de dato float64.\n",
        "\n",
        "Pandas proporciona algunos métodos específicos para los datos faltantes. Para seleccionar las entradas NaN, puedes usar `pd.isnull()` (o su método complementario `pd.notnull()`). Esto está pensado para usarse de la siguiente manera:"
      ],
      "metadata": {
        "id": "sVG9e_y9XjdO"
      }
    },
    {
      "cell_type": "code",
      "source": [
        "# reviews.columns"
      ],
      "metadata": {
        "colab": {
          "base_uri": "https://localhost:8080/"
        },
        "id": "C-ajI9OFZZz7",
        "outputId": "cf6f7192-21e3-4f33-bf50-d986297bf29a"
      },
      "execution_count": null,
      "outputs": [
        {
          "output_type": "execute_result",
          "data": {
            "text/plain": [
              "Index(['country', 'description', 'designation', 'points', 'price', 'province',\n",
              "       'region_1', 'region_2', 'taster_name', 'taster_twitter_handle', 'title',\n",
              "       'variety', 'winery'],\n",
              "      dtype='object')"
            ]
          },
          "metadata": {},
          "execution_count": 18
        }
      ]
    },
    {
      "cell_type": "code",
      "source": [
        "# reviews[pd.isnull(reviews.country)]"
      ],
      "metadata": {
        "id": "XDB7-W_sXhyO"
      },
      "execution_count": null,
      "outputs": []
    },
    {
      "cell_type": "markdown",
      "source": [
        "Reemplazar los valores faltantes es una operación común. Pandas proporciona un método muy útil para este problema: `fillna()`. El método `fillna()` ofrece diferentes estrategias para lidiar con este tipo de datos. Por ejemplo, podemos simplemente reemplazar cada NaN con un \"Desconocido\":"
      ],
      "metadata": {
        "id": "pYsjRfxuaAzm"
      }
    },
    {
      "cell_type": "code",
      "source": [
        "# reviews.region_2.fillna(\"Unknown\")"
      ],
      "metadata": {
        "id": "777Rtcl5ZsUH"
      },
      "execution_count": null,
      "outputs": []
    },
    {
      "cell_type": "markdown",
      "source": [
        "O podríamos rellenar cada valor faltante con el primer valor no nulo que aparezca en algún momento después del registro dado en la base de datos. Esto se conoce como la estrategia de relleno hacia atrás o `backfill`.\n",
        "\n",
        "De manera alternativa, es posible que tengamos un valor no nulo que deseamos reemplazar. Por ejemplo, supongamos que desde que se publicó este conjunto de datos, la crítica Kerin O'Keefe ha cambiado su nombre de usuario en Twitter de @kerinokeefe a @kerino. Una forma de reflejar este cambio en el conjunto de datos es usando el método `replace()`:"
      ],
      "metadata": {
        "id": "B7SdbU7ZabTp"
      }
    },
    {
      "cell_type": "code",
      "source": [
        "# reviews.taster_twitter_handle.replace(\"@kerinokeefe\", \"@kerino\")"
      ],
      "metadata": {
        "id": "NmB62yRdbaGu"
      },
      "execution_count": null,
      "outputs": []
    },
    {
      "cell_type": "code",
      "source": [
        "# reviews['taster_twitter_handle']"
      ],
      "metadata": {
        "id": "jX4P1XnabK07"
      },
      "execution_count": null,
      "outputs": []
    },
    {
      "cell_type": "markdown",
      "source": [
        "El método `replace()` vale la pena mencionarlo aquí porque es útil para reemplazar datos faltantes a los que se les ha asignado algún tipo de valor centinela en el conjunto de datos: cosas como \"Unknown\" (Desconocido), \"Undisclosed\" (No revelado), \"Invalid\" (Inválido), etcétera."
      ],
      "metadata": {
        "id": "caIjanrnb2BL"
      }
    }
  ]
}