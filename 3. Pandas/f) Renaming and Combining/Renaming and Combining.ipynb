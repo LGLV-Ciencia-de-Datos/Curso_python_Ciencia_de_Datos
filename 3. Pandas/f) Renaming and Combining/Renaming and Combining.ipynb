{
  "nbformat": 4,
  "nbformat_minor": 0,
  "metadata": {
    "colab": {
      "provenance": [],
      "authorship_tag": "ABX9TyOunPIp8H6tEtvwsB5sgFzP",
      "include_colab_link": true
    },
    "kernelspec": {
      "name": "python3",
      "display_name": "Python 3"
    },
    "language_info": {
      "name": "python"
    }
  },
  "cells": [
    {
      "cell_type": "markdown",
      "metadata": {
        "id": "view-in-github",
        "colab_type": "text"
      },
      "source": [
        "<a href=\"https://colab.research.google.com/github/LGLV-Ciencia-de-Datos/Curso_python_Ciencia_de_Datos/blob/main/3.%20Pandas/f)%20Renaming%20and%20Combining/f)%20Renaming%20and%20Combining.ipynb\" target=\"_parent\"><img src=\"https://colab.research.google.com/assets/colab-badge.svg\" alt=\"Open In Colab\"/></a>"
      ]
    },
    {
      "cell_type": "markdown",
      "source": [
        "# **Renombrar y combinar** (Renaming and Combining)\n",
        "Los datos provienen de muchas fuentes. Ayuda a que todo tenga sentido en conjunto."
      ],
      "metadata": {
        "id": "PA0N6Kqscbrx"
      }
    },
    {
      "cell_type": "markdown",
      "source": [
        "### **Introducción**\n",
        "\n",
        "Con frecuencia, los datos nos llegan con nombres de columnas, nombres de índices u otras convenciones de nomenclatura que no nos satisfacen. En este caso, aprenderás a usar las funciones de pandas para cambiar los nombres de las entradas problemáticas a algo mejor."
      ],
      "metadata": {
        "id": "h0sPPc2HdDxx"
      }
    },
    {
      "cell_type": "code",
      "source": [
        "# pd.set_option('max_rows', 5)"
      ],
      "metadata": {
        "id": "1l1ejh8acz2x"
      },
      "execution_count": null,
      "outputs": []
    },
    {
      "cell_type": "code",
      "execution_count": null,
      "metadata": {
        "id": "ObVj53Q5cYdo"
      },
      "outputs": [],
      "source": [
        "reviews = pd.read_csv('https://raw.githubusercontent.com/davestroud/Wine/refs/heads/master/winemag-data-130k-v2.csv', index_col = 0)\n"
      ]
    },
    {
      "cell_type": "markdown",
      "source": [
        "### **Renombrar** (Renaming)\n",
        "\n",
        "La primera función que presentaremos aquí es `rename()`, que te permite cambiar los nombres de los índices y/o de las columnas. Por ejemplo, para cambiar la columna \"points\" en nuestro conjunto de datos a \"score\", haríamos lo siguiente:"
      ],
      "metadata": {
        "id": "KsZ3fBdRdPml"
      }
    },
    {
      "cell_type": "code",
      "source": [],
      "metadata": {
        "id": "dUs_xdwldXR0"
      },
      "execution_count": null,
      "outputs": []
    },
    {
      "cell_type": "markdown",
      "source": [
        "La función `rename()` te permite cambiar el nombre de los valores de un índice o de una columna especificando el parámetro clave `index` o `column`, respectivamente. Admite una variedad de formatos de entrada, pero, por lo general, un diccionario de Python es el más conveniente. A continuación, se presenta un ejemplo que la utiliza para renombrar algunos elementos del índice."
      ],
      "metadata": {
        "id": "gJcKg28udfvn"
      }
    },
    {
      "cell_type": "code",
      "source": [
        "# reviews.rename(index = {0: 'firstEntry', 1: 'secondEntry'})"
      ],
      "metadata": {
        "id": "np4m0ad7dfeA"
      },
      "execution_count": null,
      "outputs": []
    },
    {
      "cell_type": "markdown",
      "source": [
        "Probablemente cambiarás el nombre de las columnas con mucha frecuencia, pero el de los valores del índice muy rara vez. Para eso, `set_index()` suele ser más conveniente.\n",
        "\n",
        "Tanto el índice de filas como el de columnas pueden tener su propio atributo de nombre. El método complementario `rename_axis(`) puede usarse para cambiar estos nombres. Por ejemplo:"
      ],
      "metadata": {
        "id": "454kE0tae-wO"
      }
    },
    {
      "cell_type": "code",
      "source": [
        "# reviews.rename_axis('wines', axis = 'rows').rename_axis('fields', axis = 'columns')"
      ],
      "metadata": {
        "id": "tUuupGD6e-LA"
      },
      "execution_count": null,
      "outputs": []
    },
    {
      "cell_type": "markdown",
      "source": [
        "### **Combinando** (Combining)\n",
        "\n",
        "Cuando realizamos operaciones en un conjunto de datos, a veces necesitaremos combinar diferentes DataFrames y/o Series de formas no triviales. Pandas tiene tres métodos principales para hacer esto. En orden de complejidad creciente, estos son `concat()`, `join()` y `merge()`. La mayoría de lo que puede hacer `merge()` también se puede realizar de forma más simple con `join()`, por lo que lo omitiremos y nos centraremos en las dos primeras funciones aquí.\n",
        "\n",
        "El método de combinación más simple es `concat()`. Dada una lista de elementos, esta función los unirá a lo largo de un eje.\n",
        "\n",
        "Esto es útil cuando tenemos datos en diferentes objetos DataFrame o Series, pero con los mismos campos (columnas). Un ejemplo: el conjunto de datos de videos de YouTube [Youtube Videos Dataset](https://www.kaggle.com/datasets/datasnaek/youtube-new), que divide los datos según el país de origen (por ejemplo, Canadá y el Reino Unido, en este ejemplo). Si queremos estudiar varios países simultáneamente, podemos usar `concat()` para unirlos:"
      ],
      "metadata": {
        "id": "D78Z-1yOf_CC"
      }
    },
    {
      "cell_type": "code",
      "source": [
        "# canadian_youtube = pd.read_csv(\"https://raw.githubusercontent.com/LGLV-Ciencia-de-Datos/Curso_python_Ciencia_de_Datos/refs/heads/main/CAurl_20mb.csv\")\n",
        "# british_youtube = pd.read_csv(\"https://raw.githubusercontent.com/LGLV-Ciencia-de-Datos/Curso_python_Ciencia_de_Datos/refs/heads/main/BRurl_20mb.csv\")\n",
        "\n",
        "# pd.concat([canadian_youtube, british_youtube])"
      ],
      "metadata": {
        "id": "Wh8-TsPRpTEx"
      },
      "execution_count": null,
      "outputs": []
    },
    {
      "cell_type": "code",
      "source": [
        "# canadian_youtube.shape"
      ],
      "metadata": {
        "id": "u5N5UVdRpiod"
      },
      "execution_count": null,
      "outputs": []
    },
    {
      "cell_type": "code",
      "source": [
        "# british_youtube.shape"
      ],
      "metadata": {
        "id": "4-nW9s8kpzCk"
      },
      "execution_count": null,
      "outputs": []
    },
    {
      "cell_type": "code",
      "source": [
        "# df_concat = pd.concat([canadian_youtube, british_youtube])\n",
        "pd.concat([canadian_youtube, british_youtube])"
      ],
      "metadata": {
        "id": "eBQDT5xep3ly"
      },
      "execution_count": null,
      "outputs": []
    },
    {
      "cell_type": "code",
      "source": [
        "df_concat.columns"
      ],
      "metadata": {
        "id": "phW6RFeIq6jQ"
      },
      "execution_count": null,
      "outputs": []
    },
    {
      "cell_type": "markdown",
      "source": [
        "El combinador de complejidad intermedia es `join()`. `join()` te permite combinar diferentes objetos DataFrame que tienen un índice en común. Por ejemplo, para obtener los videos que fueron tendencia el mismo día tanto en Canadá como en el Reino Unido, podríamos hacer lo siguiente:"
      ],
      "metadata": {
        "id": "HIw_UxySql6h"
      }
    },
    {
      "cell_type": "code",
      "source": [
        "left = canadian_youtube.set_index(['title', 'trending_date'])\n",
        "right = british_youtube.set_index(['title', 'trending_date'])\n",
        "\n",
        "left.join(right, lsuffix='_CAN', rsuffix='_UK')"
      ],
      "metadata": {
        "id": "mSCZ2MbQqlIu"
      },
      "execution_count": null,
      "outputs": []
    },
    {
      "cell_type": "markdown",
      "source": [
        "Los parámetros `lsuffix` y `rsuffix` son necesarios aquí porque los datos tienen los mismos nombres de columna en los conjuntos de datos británico y canadiense. Si esto no fuera así (por ejemplo, porque los hubiéramos renombrado de antemano) no los necesitaríamos."
      ],
      "metadata": {
        "id": "hsknn8I1rUtC"
      }
    }
  ]
}