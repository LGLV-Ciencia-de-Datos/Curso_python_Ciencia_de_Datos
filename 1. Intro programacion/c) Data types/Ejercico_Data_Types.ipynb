{
 "cells": [
  {
   "cell_type": "markdown",
   "metadata": {},
   "source": [
    "# Data Type\n",
    "\n",
    "En el tutorial, aprendiste acerca de cuatro tipos de datos diferentes: flots, integers, strings y booleanos. En este ejercicio, experimentarás con ellos."
   ]
  },
  {
   "cell_type": "markdown",
   "metadata": {},
   "source": [
    "### Pregunta 1\n",
    "\n",
    "Has visto cómo convertir un número flot en un número integer con la función int. Pruébalo tú mismo ejecutando la celda de código que aparece a continuación."
   ]
  },
  {
   "cell_type": "code",
   "execution_count": null,
   "metadata": {},
   "outputs": [],
   "source": [
    "# Define a float\n",
    "y = 1.\n",
    "print(y)\n",
    "print(type(y))\n",
    "\n",
    "# Convert float to integer with the int function\n",
    "z = int(y)\n",
    "print(z)\n",
    "print(type(z))"
   ]
  },
  {
   "cell_type": "markdown",
   "metadata": {},
   "source": [
    "En este caso, el float que estás usando no tiene números después del decimal.\n",
    "\n",
    "- Pero, ¿qué sucede cuando intentas convertir un float con una parte fraccionaria en un entero?\n",
    "\n",
    "- ¿Cómo cambia el resultado de la función int para números positivos y negativos?\n",
    "\n",
    "Usa la siguiente celda de código para investigar y responder estas preguntas. Siéntete libre de agregar o eliminar cualquier línea de código: ¡es tu espacio de trabajo!"
   ]
  },
  {
   "cell_type": "code",
   "execution_count": null,
   "metadata": {},
   "outputs": [],
   "source": [
    "# ¡Descomenta y ejecuta este código para comenzar!\n",
    "#print(int(1.2321))\n",
    "#print(int(1.747))\n",
    "#print(int(-3.94535))\n",
    "#print(int(-2.19774))"
   ]
  },
  {
   "cell_type": "markdown",
   "metadata": {},
   "source": [
    "¿Problemas?\n",
    "\n",
    "debes quitar el hashtag # inicial en cada print"
   ]
  },
  {
   "cell_type": "markdown",
   "metadata": {},
   "source": [
    "Los números flotantes negativos siempre se redondean hacia ARRIBA al número entero más cercano (por ejemplo, tanto -1,1 como -1,9 se redondean hacia ARRIBA a -1). Los números flotantes positivos siempre se redondean hacia ABAJO al número entero más cercano (por ejemplo, 2,1 y 2,9 se redondean hacia abajo a 2).\n"
   ]
  },
  {
   "cell_type": "markdown",
   "metadata": {},
   "source": [
    "### Pregunta 2\n",
    "\n",
    "En el tutorial, aprendiste sobre los booleanos (que pueden tomar un valor de `True` o `False`), además de los números enteros, flotantes y cadenas. Para esta pregunta, tu objetivo es determinar qué sucede cuando multiplicas un booleano por cualquiera de estos tipos de datos. Específicamente,\n",
    "- ¿Qué sucede cuando multiplicas un entero o flotante por `True`? ¿Qué sucede cuando los multiplicas por `False`? ¿Cómo cambia la respuesta si los números son positivos o negativos?\n",
    "- ¿Qué sucede cuando multiplicas una cadena por `True`? ¿Por `False`?\n",
    "\n",
    "Usa la siguiente celda de código para tu investigación."
   ]
  },
  {
   "cell_type": "code",
   "execution_count": null,
   "metadata": {},
   "outputs": [],
   "source": [
    "# ¡Descomenta y ejecuta este código!\n",
    "\n",
    "#print(3 * True)\n",
    "#print(-3.2 * True)\n",
    "#print(3.5 * False)\n",
    "#print('abc' * True)\n",
    "#print(type('abc' * False))\n",
    "#print(len('Luis' * False))"
   ]
  },
  {
   "cell_type": "markdown",
   "metadata": {},
   "source": [
    "Cuando multiplicas un int o un float por un booleano con valor True, simplemente devuelve ese mismo int o flot (y es equivalente a multiplicar por 1). Si multiplicas un int o un float por un booleano con valor False, siempre devuelve 0. Esto es cierto tanto para números positivos como negativos. Si multiplicas una cadena por un booleano con valor True, simplemente devuelve esa misma cadena. Y si multiplicas una cadena por un booleano con valor False, devuelve una cadena vacía (o una cadena con longitud cero)."
   ]
  },
  {
   "cell_type": "markdown",
   "metadata": {},
   "source": [
    "### Pregunta 3\n",
    "\n",
    "En esta pregunta, se basará en el trabajo del ejercicio anterior para escribir una función que calcule el valor de una casa.\n",
    "\n",
    "Utilice la siguiente celda de código para crear una función `get_expected_cost` que tome como entrada tres variables:\n",
    "- `beds` - número de habitaciones (tipo de datos float)\n",
    "- `baths` - número de baños (tipo de datos float)\n",
    "- `has_basement` - si la casa tiene o no sótano (tipo de datos booleano)\n",
    "\n",
    "Debería devolver el costo esperado de una casa con esas características. Suponga que:\n",
    "- el costo esperado para una casa con 0 habitaciones `beds` y 0 baños `baths`, y sin sótano `has_basement` es 80000,\n",
    "- cada habitación suma 30000 al costo esperado,\n",
    "- cada baño suma 10000 al costo esperado, y\n",
    "- un sótano suma 40000 al costo esperado.\n",
    "\n",
    "Por ejemplo,\n",
    "- una casa con 1 dormitorio `beds`, 1 baño `baths` y sin sótano `has_basement` tiene un costo esperado de 80000 + 30000 + 10000 = 120000. Este valor se calculará con `get_expected_cost(1, 1, False)`.\n",
    "- una casa con 2 dormitorios, 1 baño y sótano tiene un costo esperado de 80000 + 2*30000 + 10000 + 40000 = 190000. Este valor se calculará con `get_expected_cost(2, 1, True)`."
   ]
  },
  {
   "cell_type": "code",
   "execution_count": null,
   "metadata": {},
   "outputs": [],
   "source": [
    "def get_expected_cost(beds, baths, has_basement):\n",
    "    valor = ___ # Coloca aca tu código\n",
    "    return value"
   ]
  },
  {
   "cell_type": "markdown",
   "metadata": {},
   "source": [
    "### Pregunta 4\n",
    "\n",
    "Continuaremos con nuestro estudio de la aritmética booleana. Para esta pregunta, tu tarea es proporcionar una descripción de lo que sucede cuando sumas valores booleanos.\n",
    "\n",
    "Utiliza la siguiente celda de código para tu investigación. Siéntete libre de agregar o eliminar cualquier línea de código: ¡úsala como tu espacio de trabajo!"
   ]
  },
  {
   "cell_type": "code",
   "execution_count": null,
   "metadata": {},
   "outputs": [],
   "source": [
    "# ¡Descomenta y ejecuta este código!\n",
    "#print(False + False)\n",
    "#print(True + False)\n",
    "#print(False + True)\n",
    "#print(True + True)\n",
    "#print(False + True + True + True)"
   ]
  },
  {
   "cell_type": "markdown",
   "metadata": {},
   "source": [
    "Al suma valores booleanos, sumar `False` es equivalente a sumar 0, y sumar `True` es equivalente a sumar 1."
   ]
  },
  {
   "cell_type": "markdown",
   "metadata": {},
   "source": [
    "### 🌶️ Pregunta 5\n",
    "\n",
    "Tienes una tienda online en la que vendes anillos con grabados personalizados. Ofreces anillos bañados en oro y de oro macizo.\n",
    "\n",
    "Los anillos bañados en oro tienen un coste base de 50 y cobras 7  por unidad grabada.\n",
    "Los anillos de oro macizo tienen un coste base de 100 y cobras 10 por unidad grabada.\n",
    "Los espacios y la puntuación se cuentan como unidades grabadas.\n",
    "\n",
    "Escribe una función cost_of_project() que acepte dos argumentos:\n",
    "\n",
    "- engraving - una cadena de Python con el texto del grabado\n",
    "- solid_gold - un valor booleano que indica si el anillo es de oro macizo"
   ]
  },
  {
   "cell_type": "code",
   "execution_count": null,
   "metadata": {},
   "outputs": [],
   "source": [
    "def cost_of_project(engaving, solid_gold):\n",
    "    cost = ___ # Coloca aca tu código\n",
    "    return cost"
   ]
  },
  {
   "cell_type": "markdown",
   "metadata": {},
   "source": [
    "Ejecute la siguiente celda de código para calcular el costo de grabar Charlie+Denver en un anillo de oro macizo."
   ]
  },
  {
   "cell_type": "code",
   "execution_count": null,
   "metadata": {},
   "outputs": [],
   "source": []
  },
  {
   "cell_type": "markdown",
   "metadata": {},
   "source": [
    "Utilice la siguiente celda de código para calcular el costo del grabado 08/10/2000 en un anillo bañado en oro.\n"
   ]
  },
  {
   "cell_type": "code",
   "execution_count": null,
   "metadata": {},
   "outputs": [],
   "source": []
  }
 ],
 "metadata": {
  "kernelspec": {
   "display_name": "venv",
   "language": "python",
   "name": "python3"
  },
  "language_info": {
   "codemirror_mode": {
    "name": "ipython",
    "version": 3
   },
   "file_extension": ".py",
   "mimetype": "text/x-python",
   "name": "python",
   "nbconvert_exporter": "python",
   "pygments_lexer": "ipython3",
   "version": "3.12.0"
  }
 },
 "nbformat": 4,
 "nbformat_minor": 2
}
