{
 "cells": [
  {
   "cell_type": "markdown",
   "metadata": {},
   "source": [
    "# Tipos de datos\n",
    "Explore números enteros (integers), flotantes (floats), booleanos (booleans) y cadenas (strings)."
   ]
  },
  {
   "cell_type": "markdown",
   "metadata": {},
   "source": [
    "### Introducción\n",
    "\n",
    "Siempre que creas una variable en Python, tiene un valor con un tipo de datos correspondiente. Hay muchos tipos de datos diferentes, como números enteros, flotantes, booleanos y cadenas, todos los cuales cubriremos en esta lección. (Este es solo un pequeño subconjunto de los tipos de datos disponibles; también hay diccionarios (dictionaries), conjuntos (sets), listas (lists), tuplas (tuples), y mucho más).\n",
    "\n",
    "Los tipos de datos son importantes porque determinan qué tipo de acciones puedes hacer con ellos. Por ejemplo, puedes dividir dos flotantes, pero no puedes dividir dos cadenas. Por ejemplo, 12.0/2.0 tiene sentido, pero \"cat\"/\"dog\" no.\n",
    "\n",
    "Para evitar errores, debemos asegurarnos de que las acciones coincidan con los tipos de datos que tenemos."
   ]
  },
  {
   "cell_type": "markdown",
   "metadata": {},
   "source": [
    "\n",
    "### Enteros (Integers)\n",
    "\n",
    "Los números enteros son números sin ninguna parte fraccionaria y pueden ser positivos (1, 2, 3, ...), negativos (-1, -2, -3, ...) o cero (0).\n",
    "\n",
    "En la celda de código que aparece a continuación, configuramos una variable x como un entero. Luego, verificamos el tipo de datos con type() y solo necesitamos pasar el nombre de la variable entre paréntesis.\n"
   ]
  },
  {
   "cell_type": "code",
   "execution_count": null,
   "metadata": {},
   "outputs": [],
   "source": []
  },
  {
   "cell_type": "markdown",
   "metadata": {},
   "source": [
    "En la salida anterior, <class 'int'> hace referencia al tipo de datos entero."
   ]
  },
  {
   "cell_type": "markdown",
   "metadata": {},
   "source": [
    "### Flotantes (Floats)\n",
    "\n",
    "Los flotantes son números con partes fraccionarias. Pueden tener muchos números después del decimal."
   ]
  },
  {
   "cell_type": "code",
   "execution_count": null,
   "metadata": {},
   "outputs": [],
   "source": [
    "import math # math incluye funciones comunes como trigonometría, logaritmos y constantes como π y e:\n"
   ]
  },
  {
   "cell_type": "markdown",
   "metadata": {},
   "source": [
    "También podemos especificar una flotante con una fracción."
   ]
  },
  {
   "cell_type": "code",
   "execution_count": null,
   "metadata": {},
   "outputs": [],
   "source": []
  },
  {
   "cell_type": "markdown",
   "metadata": {},
   "source": [
    "Una función que es particularmente útil para fracciones es la función round(). Permite redondear un número a un número especificado de decimales."
   ]
  },
  {
   "cell_type": "code",
   "execution_count": null,
   "metadata": {},
   "outputs": [],
   "source": []
  },
  {
   "cell_type": "markdown",
   "metadata": {},
   "source": [
    "Cada vez que escribes un número con un punto decimal, Python lo reconoce como un tipo de datos flotante.\n",
    "\n",
    "Por ejemplo, 1. (o 1.0, 1,00, etc.) será reconocido como una flotante. Este es el caso, aunque estos números técnicamente no tienen parte fraccionada."
   ]
  },
  {
   "cell_type": "code",
   "execution_count": null,
   "metadata": {},
   "outputs": [],
   "source": []
  },
  {
   "cell_type": "markdown",
   "metadata": {},
   "source": [
    "### Booleanos (Booleans)\n",
    "\n",
    "Los booleanos representan uno de dos valores: Verdadero (True) o Falso (False). En la celda de código de abajo, zone se establece en un booleano con valor Verdadero."
   ]
  },
  {
   "cell_type": "code",
   "execution_count": null,
   "metadata": {},
   "outputs": [],
   "source": []
  },
  {
   "cell_type": "markdown",
   "metadata": {},
   "source": [
    "A continuación, z-two está listo para un booleano con valor Falso () False."
   ]
  },
  {
   "cell_type": "code",
   "execution_count": null,
   "metadata": {},
   "outputs": [],
   "source": []
  },
  {
   "cell_type": "markdown",
   "metadata": {},
   "source": [
    "Los booleanos se utilizan para representar el valor verdadero de una expresión. Dado que 1 < 2 es una declaración verdadera, z-3 adquiere un valor de True."
   ]
  },
  {
   "cell_type": "code",
   "execution_count": null,
   "metadata": {},
   "outputs": [],
   "source": []
  },
  {
   "cell_type": "markdown",
   "metadata": {},
   "source": [
    "Del mismo modo, dado que 5 < 3 es una declaración falsa, z-four adquiere un valor de False."
   ]
  },
  {
   "cell_type": "code",
   "execution_count": null,
   "metadata": {},
   "outputs": [],
   "source": []
  },
  {
   "cell_type": "markdown",
   "metadata": {},
   "source": [
    "Podemos cambiar el valor de un booleano usando not. Por lo tanto, not True es equivalente a False, y not False se vuelve True."
   ]
  },
  {
   "cell_type": "code",
   "execution_count": null,
   "metadata": {},
   "outputs": [],
   "source": []
  },
  {
   "cell_type": "markdown",
   "metadata": {},
   "source": [
    "Los booleanos serán importantes en la siguiente lección, cuando se aprenda sobre las condiciones y declaraciones condicionales."
   ]
  },
  {
   "cell_type": "markdown",
   "metadata": {},
   "source": [
    "### Cadenas (Strings)\n",
    "\n",
    "El tipo de datos de string es una colección de caracteres (como letras alfabéticos, puntuación, dígitos numéricos o símbolos) contenidos en comillas. Las strings se utilizan comúnmente para representar textos."
   ]
  },
  {
   "cell_type": "code",
   "execution_count": null,
   "metadata": {},
   "outputs": [],
   "source": []
  },
  {
   "cell_type": "markdown",
   "metadata": {},
   "source": [
    "Se puede obtener la longitud de una cuerda con len(). \"Hola, Python\" tiene longitud 14, porque tiene 14 caracteres, incluyendo el espacio, coma y la marca de exclamación. Tenga en cuenta que las comillas no se incluyen al calcular la longitud."
   ]
  },
  {
   "cell_type": "code",
   "execution_count": null,
   "metadata": {},
   "outputs": [],
   "source": []
  },
  {
   "cell_type": "markdown",
   "metadata": {},
   "source": [
    "Un tipo especial de string es la string vacía, que tiene longitud cero."
   ]
  },
  {
   "cell_type": "code",
   "execution_count": null,
   "metadata": {},
   "outputs": [],
   "source": []
  },
  {
   "cell_type": "markdown",
   "metadata": {},
   "source": [
    "Si pones un número entre comillas, tiene un tipo de datos de string."
   ]
  },
  {
   "cell_type": "code",
   "execution_count": null,
   "metadata": {},
   "outputs": [],
   "source": []
  },
  {
   "cell_type": "markdown",
   "metadata": {},
   "source": [
    "Si tenemos un string que es trasformable a un flotante, podemos usar float().\n",
    "\n",
    "Esto no siempre funcionará. Por ejemplo, podemos convertir \"10.43430\" y \"3\" en floats, pero no podemos convertir \"Hola, Python\" en un float."
   ]
  },
  {
   "cell_type": "code",
   "execution_count": null,
   "metadata": {},
   "outputs": [],
   "source": []
  },
  {
   "cell_type": "markdown",
   "metadata": {},
   "source": [
    "Al igual que puede añadir dos números (flots o enteros), también puede añadir dos strings. Se traduce en una cadena más larga que combina los dos strings originales concatenándolas."
   ]
  },
  {
   "cell_type": "code",
   "execution_count": null,
   "metadata": {},
   "outputs": [],
   "source": []
  },
  {
   "cell_type": "markdown",
   "metadata": {},
   "source": [
    "Tenga en cuenta que no es posible hacer resta o división con dos strings. Tampoco puedes multiplicar dos strings, pero puedes multiplicar una string por un entero. Esto de nuevo resulta en una cadena que es sólo la cadena original concatenada consigo mismo un número especificado de veces."
   ]
  },
  {
   "cell_type": "code",
   "execution_count": null,
   "metadata": {},
   "outputs": [],
   "source": []
  },
  {
   "cell_type": "markdown",
   "metadata": {},
   "source": [
    "Tenga en cuenta que no puede multiplicar un string por un float. Tratar de hacerlo devolverá un error."
   ]
  },
  {
   "cell_type": "code",
   "execution_count": null,
   "metadata": {},
   "outputs": [],
   "source": []
  },
  {
   "cell_type": "markdown",
   "metadata": {},
   "source": [
    "En el error, la \"secuencia\" es la string \"abc\", y el \"no-int de tipo 'float'\" es la flotante (3.). Por lo tanto, el mensaje de error puede ser reformeado para decir \"no se puede multiplicar la string por float\"."
   ]
  }
 ],
 "metadata": {
  "kernelspec": {
   "display_name": "venv",
   "language": "python",
   "name": "python3"
  },
  "language_info": {
   "codemirror_mode": {
    "name": "ipython",
    "version": 3
   },
   "file_extension": ".py",
   "mimetype": "text/x-python",
   "name": "python",
   "nbconvert_exporter": "python",
   "pygments_lexer": "ipython3",
   "version": "3.12.0"
  }
 },
 "nbformat": 4,
 "nbformat_minor": 2
}
