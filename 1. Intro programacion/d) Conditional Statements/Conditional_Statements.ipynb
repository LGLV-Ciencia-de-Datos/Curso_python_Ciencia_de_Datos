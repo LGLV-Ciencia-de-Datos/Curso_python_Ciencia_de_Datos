{
 "cells": [
  {
   "cell_type": "markdown",
   "metadata": {},
   "source": [
    "# Conditions and Conditional Statements\n",
    "\n",
    "### Condiciones y Declaraciones condicionales\n",
    "Modificar cómo se ejecutan las funciones, dependiendo de la entrada."
   ]
  },
  {
   "cell_type": "markdown",
   "metadata": {},
   "source": [
    "Introducción\n",
    "\n",
    "Ya has visto que cuando cambias el valor de entrada a una función, a menudo obtienes una salida diferente. Por ejemplo, considere una función `add.five()` que sólo añade cinco a cualquier número y devuelve el resultado. A continuación, `add.five(7)` devolverá una salida de 12 (=7+5), y `add.five(8)` devolverá una salida de 13 (=8+5). Tenga en cuenta que no importa cuál sea la entrada, la acción que realiza la función es siempre la misma: siempre añade cinco.\n",
    "\n",
    "Pero en su lugar podría necesitar una función que realice una acción que dependa de la entrada. Por ejemplo, es posible que necesite una función `add-three-or-eight()`, que añada tres si la entrada es menor a 10, y añade ocho si la entrada es 10 o más. A continuación, `add-three-or-eight(1)`, devolverá 4 (=1+3), pero `add-three-or-eight(11)` regresará 19 (=11+8). En este caso, la acción que realiza la función varía con la entrada.\n",
    "\n",
    "En esta lección, aprenderá a utilizar las condiciones y declaraciones condicionales para modificar cómo funcionan tus funciones."
   ]
  },
  {
   "cell_type": "markdown",
   "metadata": {},
   "source": [
    "### Condiciones (Conditions)\n",
    "\n",
    "En programación, las condiciones son declaraciones que son verdaderas `True` o falsas `False`. Hay muchas maneras diferentes de escribir las condiciones en Python, pero algunas de las formas más comunes de escribir condiciones sólo comparar dos valores diferentes. Por ejemplo, puede comprobar si 2 es mayor de 3."
   ]
  },
  {
   "cell_type": "code",
   "execution_count": null,
   "metadata": {},
   "outputs": [],
   "source": []
  },
  {
   "cell_type": "markdown",
   "metadata": {},
   "source": [
    "Python identifica esto como Falso, ya que 2 no es mayor que 3.\n",
    "\n",
    "También puede utilizar las condiciones para comparar los valores de las variables. En la siguiente celda de código, la `var_one` tiene un valor de 1, y `var_two` tiene un valor de dos. En las condiciones, comprobamos si la `var_one` es inferior a 1 (que es falsa), y comprobamos si `var_two` es mayor o igual a `var_one` (que es `True`)."
   ]
  },
  {
   "cell_type": "code",
   "execution_count": null,
   "metadata": {},
   "outputs": [],
   "source": []
  },
  {
   "cell_type": "markdown",
   "metadata": {},
   "source": [
    "Para obtener una lista de símbolos comunes que puede utilizar para construir condiciones, consulte la tabla a continuación.\n"
   ]
  },
  {
   "attachments": {
    "image.png": {
     "image/png": "[encoded data removed]"
    }
   },
   "cell_type": "markdown",
   "metadata": {},
   "source": [
    "![image.png](attachment:image.png)"
   ]
  },
  {
   "cell_type": "markdown",
   "metadata": {},
   "source": [
    "Nota importante: Cuando compruebe dos valores son iguales, asegúrese de usar el signo ==, y no el signo =.\n",
    "\n",
    "- `var_one == 1` Comprueba si el valor de `var_one` es 1, pero\n",
    "- `var_one = 1` establece el valor de `var_one` a 1."
   ]
  },
  {
   "cell_type": "markdown",
   "metadata": {},
   "source": [
    "### Declaraciones condicionales (Conditional Statements)\n",
    "\n",
    "Declaraciones condicionales usan las condiciones para modificar cómo se ejecuta su función. Comproban el valor de una condición, y si la condición evalúa a `True`, entonces se ejecuta un cierto bloque de código. (De lo contrario, si la condición es `False`, entonces el código no se ejecuta.)\n",
    "\n",
    "Hay varios ejemplos de esto en las siguientes secciones.\n",
    "### Declaraciones \"if\"\n",
    "\n",
    "El tipo más simple de declaración condicional es una declaración `if`. Puedes ver un ejemplo de esto en la función de `evaluate_temp()` a continuación. La función acepta una temperatura corporal (en Celcius) como entrada.\n",
    "\n",
    "Inicialmente, el mensaje está configurado a `Normal temperature`.\n",
    "Entonces, `if` `temp > 38` es `True` (por ejemplo, la temperatura corporal es mayor de 38°C), el mensaje se actualiza a `Fever`. De lo contrario, `if` `temp > 38` es `False`, entonces el mensaje no se actualiza.\n",
    "Finalmente, el mensaje es devuelto por la función."
   ]
  },
  {
   "cell_type": "code",
   "execution_count": null,
   "metadata": {},
   "outputs": [],
   "source": []
  },
  {
   "cell_type": "markdown",
   "metadata": {},
   "source": [
    "En la siguiente celda de código, llamamos a la función, donde la temperatura es de 37°C. El mensaje es `Normal temperature`, porque la temperatura es inferior a 38°C (`temp > 38` evalúa a `False`) en este caso."
   ]
  },
  {
   "cell_type": "code",
   "execution_count": null,
   "metadata": {},
   "outputs": [],
   "source": []
  },
  {
   "cell_type": "markdown",
   "metadata": {},
   "source": [
    "Sin embargo, si la temperatura es en su lugar de 39°C, ya que esto es mayor de 38°C, el mensaje se actualiza a `Fever`."
   ]
  },
  {
   "cell_type": "code",
   "execution_count": null,
   "metadata": {},
   "outputs": [],
   "source": []
  },
  {
   "cell_type": "markdown",
   "metadata": {},
   "source": [
    "Tenga en cuenta que hay dos niveles de sangria (indentación):\n",
    "\n",
    "- El primer nivel de sangría es porque siempre tenemos que mantener el bloque de código dentro de una función.\n",
    "- El segundo nivel de sangría es porque también tenemos que identificar el bloque de código perteneciente a la declaración `if`. (Como verás, también tendremos que hacer un identación de código para declaraciones de `elif` y `else`.)\n",
    "\n",
    "Tenga en cuenta que debido a que la declaración de retorno `return` no está identado bajo la declaración `if`, siempre se ejecuta, si temp 38 es `True` o `False`."
   ]
  },
  {
   "cell_type": "markdown",
   "metadata": {},
   "source": [
    "### Declaraciones \"if... else\"...\n",
    "\n",
    "Podemos usar declaraciones `else` para ejecutar código si una declaración es falsa. El código bajo la declaración `if` se ejecuta si la declaración es `True`, y el código bajo `else` se ejecuta si la declaración es `False`."
   ]
  },
  {
   "cell_type": "code",
   "execution_count": null,
   "metadata": {},
   "outputs": [],
   "source": []
  },
  {
   "cell_type": "markdown",
   "metadata": {},
   "source": [
    "Esta función `evaluate_temp_with_else()`, con la misma, tiene un comportamiento equivalente a la función de `evaluate_temp()`.\n",
    "\n",
    "En la siguiente celda de código, llamamos a esta nueva función, donde la temperatura es de 37°C. En este caso, se evalúa la temperatura 38 a Falso, por lo que el código bajo la declaración \"else\" se ejecuta, y el mensaje de `Normal temperature` se devuelve."
   ]
  },
  {
   "cell_type": "code",
   "execution_count": null,
   "metadata": {},
   "outputs": [],
   "source": []
  },
  {
   "cell_type": "markdown",
   "metadata": {},
   "source": [
    "Al igual que con la función anterior, indentamos los bloques de código después de las declaraciones `if` y `else`.\n",
    "tambien los bloques `if`, `elif` y `else` se debe indentar...\n",
    "\n",
    "Podemos usar `elif` (que es corto para `else if`) para comprobar si múltiples condiciones podrían ser ciertas. La función siguiente:\n",
    "\n",
    "- Primero comprueba `if` `temp > 38`, Si esto es `True`, entonces el mensaje está configurado a `Fever`.\n",
    "- Mientras el mensaje no se haya establecido, la función comprueba `if` `temp > 35`. Si esto es cierto, entonces el mensaje está configurado a `Normal temperature`.\n",
    "- Entonces, si aún no se ha establecido ningún mensaje, la declaración \"else\" asegura que el mensaje está configurado a `Low temperature`. Y se imprime el mensaje.\n",
    "\n",
    "Usted puede pensar en `elif` como decir ... \"bien, que la condición anterior (por ejemplo, `temp > 38`) era `False`, así que vamos a comprobar si esta nueva condición (por ejemplo, `temp > 35`) podría ser cierta!\n",
    "\n"
   ]
  },
  {
   "cell_type": "code",
   "execution_count": null,
   "metadata": {},
   "outputs": [],
   "source": []
  },
  {
   "cell_type": "markdown",
   "metadata": {},
   "source": [
    "En la celda de código de abajo, ejecutamos el código bajo la declaración `elif`, porque la temperatura 38 es `False`, y `temp > 35` es verdadera. Una vez que se ejecuta este código, la función se salta sobre la instrucción \"else\" y devuelve el mensaje."
   ]
  },
  {
   "cell_type": "code",
   "execution_count": null,
   "metadata": {},
   "outputs": [],
   "source": []
  },
  {
   "cell_type": "markdown",
   "metadata": {},
   "source": [
    "Finalmente, probamos un caso en el que la temperatura es inferior a 35°C. Dado que los condicionales en las declaraciones `if` y `elif` ambos evalúan a `False`, se ejecuta el bloque de código dentro de la declaración `else`."
   ]
  },
  {
   "cell_type": "code",
   "execution_count": null,
   "metadata": {},
   "outputs": [],
   "source": []
  },
  {
   "cell_type": "markdown",
   "metadata": {},
   "source": [
    "### Ejemplo - Cálculos\n",
    "\n",
    "Hasta ahora, se utilizaron declaraciones condicionales para decidir cómo establecer los valores de las variables. Pero también puedes usar declaraciones condicionales para realizar diferentes cálculos.\n",
    "\n",
    "En este siguiente ejemplo, digamos que vives en un país con sólo dos tipos de impuestos. Todos los que ganan menos de 12000 pagan el 25% en impuestos, y cualquiera que gane 12000 o más paga el 30%. La función siguiente calcula cuánto impuesto se debe."
   ]
  },
  {
   "cell_type": "code",
   "execution_count": null,
   "metadata": {},
   "outputs": [],
   "source": [
    "\n"
   ]
  },
  {
   "cell_type": "markdown",
   "metadata": {},
   "source": [
    "La siguiente celda de código utiliza la función."
   ]
  },
  {
   "cell_type": "code",
   "execution_count": null,
   "metadata": {},
   "outputs": [],
   "source": [
    "Luis_taxes =\n",
    "Luz_taxes ="
   ]
  },
  {
   "cell_type": "markdown",
   "metadata": {},
   "source": [
    "En cada caso, llamamos a la función `get-taxes()` y usamos el valor que se devuelve para establecer el valor de una variable.\n",
    "\n",
    "- Para los `Luis_taxe`, calculamos los impuestos adeudados por una persona que gana `9000`. En este caso, llamamos a la función `get-taxes()` con `earnings` establecidas a `9000`. Por lo tanto, `earnings < 12000` son `True`, y `tax-owed` se establece en `.25 * 9000`. Luego devolvemos `tax_owed`.\n",
    "- Para los `Luz_taxe`, calculamos los impuestos adeudados por una persona que gana `15000`. En este caso, llamamos a la función `get-taxes()` con ganancias establecidas en `15000`. Por lo tanto, `earnings < 12000` son `False`, y `tax-owed` se establece en `.30 * 15000`. Luego devolvemos el valor de `tax_owed`.\n",
    "\n",
    "Antes de pasar a otro ejemplo - recuerda la función `add_three_or_eigth()` de la introducción? Acepta un número como entrada y añade tres si la entrada es inferior a 10, y de otra manera suma ocho. Puedes averiguar cómo escribirías esta función?."
   ]
  },
  {
   "cell_type": "code",
   "execution_count": null,
   "metadata": {},
   "outputs": [],
   "source": []
  },
  {
   "cell_type": "code",
   "execution_count": null,
   "metadata": {},
   "outputs": [],
   "source": []
  },
  {
   "cell_type": "markdown",
   "metadata": {},
   "source": [
    "### Ejemplo - Múltiples declaraciones \"elif\".\n",
    "\n",
    "Hasta ahora, hemos visto `elif` utilizado sólo una vez en una función. Pero no hay límite en el número de declaraciones `elif` que puedes usar. Por ejemplo, el siguiente bloque de código calcula la dosis de medicación (en mililitros) para dar a un niño, basado en el peso (en kilogramos).\n",
    "\n",
    "Nota: Esta función no debe usarse como consejo médico y representa un medicamento falso."
   ]
  },
  {
   "cell_type": "code",
   "execution_count": 1,
   "metadata": {},
   "outputs": [],
   "source": [
    "def get_dose(weight):\n",
    "    # Dosage is 1.25 ml for anyone under 5.2 kg\n",
    "    if weight < 5.2:\n",
    "        dose = 1.25\n",
    "    elif weight < 7.9:\n",
    "        dose = 2.5\n",
    "    elif weight < 10.4:\n",
    "        dose = 3.75\n",
    "    elif weight < 15.9:\n",
    "        dose = 5\n",
    "    elif weight < 21.2:\n",
    "        dose = 7.5\n",
    "    # Dosage is 10 ml for anyone 21.2 kg or over\n",
    "    else:\n",
    "        dose = 10\n",
    "    return dose"
   ]
  },
  {
   "cell_type": "markdown",
   "metadata": {},
   "source": [
    "La siguiente celda de código ejecuta la función. Asegúrese de que la salida tiene sentido para usted.\n",
    "\n",
    "- En este caso, la declaración `if` fue `False`, y todas las declaraciones de `elif` evalúan a la `False`, hasta que llegamos a `weight < 15.9`, que es `True`, y la `dose` se establece en `5`.\n",
    "- Una vez que una declaración `elif` evalúa a `True` y el bloque de código se ejecuta, la función salta todas las declaraciones restantes de `elif` y `else`. Después de saltar estos, todo lo que queda es la declaración de `return`, que devuelve el valor de la `dose`.\n",
    "- El orden de las declaraciones `elif` sí importa aquí. Reordenar las declaraciones devolverá un resultado muy diferente."
   ]
  },
  {
   "cell_type": "code",
   "execution_count": 2,
   "metadata": {},
   "outputs": [
    {
     "data": {
      "text/plain": [
       "5"
      ]
     },
     "execution_count": 2,
     "metadata": {},
     "output_type": "execute_result"
    }
   ],
   "source": [
    "get_dose(12)"
   ]
  },
  {
   "cell_type": "code",
   "execution_count": null,
   "metadata": {},
   "outputs": [],
   "source": []
  }
 ],
 "metadata": {
  "kernelspec": {
   "display_name": "venv",
   "language": "python",
   "name": "python3"
  },
  "language_info": {
   "codemirror_mode": {
    "name": "ipython",
    "version": 3
   },
   "file_extension": ".py",
   "mimetype": "text/x-python",
   "name": "python",
   "nbconvert_exporter": "python",
   "pygments_lexer": "ipython3",
   "version": "3.12.0"
  }
 },
 "nbformat": 4,
 "nbformat_minor": 2
}
