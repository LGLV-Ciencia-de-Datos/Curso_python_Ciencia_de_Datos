{
 "cells": [
  {
   "cell_type": "markdown",
   "metadata": {},
   "source": [
    "# Conditions and conditional statements\n",
    "\n",
    "En el tutorial, aprendiste sobre condiciones y declaraciones condicionales. En este ejercicio, usarás lo que aprendiste para responder varias preguntas."
   ]
  },
  {
   "cell_type": "markdown",
   "metadata": {},
   "source": [
    "### Pregunta 1\n",
    "\n",
    "Trabajas en la oficina de admisiones de una universidad. Al inspeccionar un conjunto de datos de solicitantes de ingreso a la universidad, notas que algunos estudiantes han representado sus calificaciones con letras (`\"A\"`, `\"B\"`, `\"C\"`, `\"D\"`, `\"F\"`), mientras que otros han representado sus calificaciones con un número entre 0 y 100.\n",
    "\n",
    "Te das cuenta de que, para mantener la coherencia, todas las calificaciones deben tener el mismo formato y decides darles el mismo formato a todas. Para la conversión, decides asignar:\n",
    "- `\"A\"` - cualquier calificación entre 90 y 100, inclusive\n",
    "- `\"B\"` - cualquier calificación entre 80 y 89, inclusive\n",
    "- `\"C\"` - cualquier calificación entre 70 y 79, inclusive\n",
    "- `\"D\"` - cualquier calificación entre 60 y 69, inclusive\n",
    "- `\"F\"` - cualquier calificación <60\n",
    "\n",
    "Escribe una función `get_grade()` que tome como entrada:\n",
    "- `score` - un entero entre 0 y 100 correspondiente a una calificación numérica\n",
    "\n",
    "Debería devolver una cadena de Python con la calificación en letras a la que corresponde. Por ejemplo,\n",
    "- Una calificación de 85 corresponde a una calificación B. En otras palabras, `get_grade(85)` debería devolver `\"B\"`.\n",
    "- Una calificación de 49 corresponde a una calificación F. En otras palabras, `get_grade(49)` debería devolver `\"F\"`.\n",
    "\n",
    "Asegúrese de que, al proporcionar la calificación que devuelve la función, esté entre comillas. (Por ejemplo, si desea devolver `\"A\"`, debe escribir `return \"A\"` y no `return A`).\n"
   ]
  },
  {
   "cell_type": "code",
   "execution_count": 10,
   "metadata": {},
   "outputs": [],
   "source": [
    "def get_grade(score):\n",
    "    if score >= 90 and score <= 100:\n",
    "        message = f'Un score de {score} corresponde a una calificación de: \"A\"'\n",
    "        \n",
    "    elif score >= 80 and score <= 89:\n",
    "        message = f'Un score de {score} corresponde a una calificación de: \"B\"'\n",
    "        \n",
    "    elif score >= 70 and score <= 79:\n",
    "        message = f'Un score de {score} corresponde a una calificación de: \"C\"'\n",
    "        \n",
    "    elif score >= 60 and score <= 69:\n",
    "        message = f'Un score de {score} corresponde a una calificación de: \"D\"'\n",
    "       \n",
    "    elif score < 60:\n",
    "        message = f'Un score de {score} corresponde a una calificación de: \"F\"'\n",
    "\n",
    "    return message\n"
   ]
  },
  {
   "cell_type": "code",
   "execution_count": 13,
   "metadata": {},
   "outputs": [
    {
     "data": {
      "text/plain": [
       "'Un score de 49 corresponde a una calificación de: \"F\"'"
      ]
     },
     "execution_count": 13,
     "metadata": {},
     "output_type": "execute_result"
    }
   ],
   "source": [
    "get_grade(49)"
   ]
  },
  {
   "cell_type": "markdown",
   "metadata": {},
   "source": [
    "### Pregunta 2\n",
    "\n",
    "En el ejercicio de la lección anterior, escribiste una función `cost_of_project()` que estimaba el precio de los anillos para una tienda en línea que vende anillos con grabados personalizados. Esta función no usaba declaraciones condicionales. En este ejercicio, reescribirás la función para usar declaraciones condicionales. Recuerda que la tienda en línea tiene la siguiente estructura de precios:\n",
    "- Los anillos enchapados en oro tienen un costo base de \\\\$50 y cobras \\\\$7 por unidad grabada.\n",
    "- Los anillos de oro macizo tienen un costo base de \\\\$100 y cobras \\\\$10 por unidad grabada.\n",
    "- Los espacios y la puntuación se cuentan como unidades grabadas.\n",
    "\n",
    "Tu función `cost_of_project()` toma dos argumentos:\n",
    "- `engraving` - una cadena de Python con el texto del grabado\n",
    "- `solid_gold` - un booleano que indica si el anillo es de oro macizo\n",
    "\n",
    "Debería devolver el costo del proyecto.\n",
    "\n",
    "La función se ha completado parcialmente y necesita completar los espacios en blanco para completar la función.\n"
   ]
  },
  {
   "cell_type": "code",
   "execution_count": null,
   "metadata": {},
   "outputs": [],
   "source": [
    "def cost_of_project(engraving, solid_gold):\n",
    "    if solid_gold == True:\n",
    "        cost = ___"
   ]
  },
  {
   "cell_type": "code",
   "execution_count": null,
   "metadata": {},
   "outputs": [
    {
     "data": {
      "text/plain": [
       "78"
      ]
     },
     "execution_count": 20,
     "metadata": {},
     "output_type": "execute_result"
    }
   ],
   "source": [
    "cost_of_project('', False)"
   ]
  },
  {
   "cell_type": "markdown",
   "metadata": {},
   "source": [
    "### Pregunta 3\n",
    "\n",
    "Eres programador en una agencia de agua. Recientemente, te han encomendado escribir una función `get_water_bill()` que toma como entrada:\n",
    "- `num_gallons` = la cantidad de galones de agua que un cliente usó ese mes. (Esto siempre será un número entero sin parte decimal).\n",
    "\n",
    "Debería generar la factura del agua.\n",
    "\n",
    "La agencia del agua utiliza esta estructura de precios:\n",
    "<table style=\"width: 100%;\">\n",
    "<tbody>\n",
    "<tr><th><b>Nivel</b></th><th><b>Cantidad en galones</b></th><th><b>Precio por 1000 galones</b></th></tr>\n",
    "<tr>\n",
    "<td>Nivel 1</td>\n",
    "<td>0 - 8000</td>\n",
    "<td>\\$5</td>\n",
    "</tr>\n",
    "<tr>\n",
    "<td>Nivel 2</td>\n",
    "<td>8001 - 22 000</td>\n",
    "<td>\\$6</td>\n",
    "</tr>\n",
    "<tr>\n",
    "<td>Nivel 3</td>\n",
    "<td>22 001 - 30 000</td>\n",
    "<td>\\$7</td>\n",
    "</tr>\n",
    "<tr>\n",
    "<td>Nivel 4</td>\n",
    "<td>30 001+</td>\n",
    "<td>\\$10</td>\n",
    "</tr>\n",
    "</tbody>\n",
    "</table>\n",
    "\n",
    "Por ejemplo:\n",
    "- Alguien que usa 10 000 galones de agua en un mes se ubica en el Nivel 2 y debe pagar una factura de agua de \\\\$6 * 10 = \\\\$60. En otras palabras, `get_water_bill(10000)` debería devolver `60.0`.\n",
    "- Alguien que usa 25 000 galones de agua en un mes se ubica en el Nivel 3 y debe pagar una factura de agua de \\\\$7 * 25 = \\\\$175. En otras palabras, `get_water_bill(25000)` debería devolver `175,0`.\n",
    "\n",
    "**No redondee su respuesta.** Por lo tanto, su respuesta podría devolver fracciones de un centavo."
   ]
  },
  {
   "cell_type": "code",
   "execution_count": null,
   "metadata": {},
   "outputs": [],
   "source": [
    "def get_water_bill(num_gallons):\n",
    "    bill = 1000\n",
    "    return bill\n"
   ]
  },
  {
   "cell_type": "code",
   "execution_count": null,
   "metadata": {},
   "outputs": [],
   "source": []
  },
  {
   "cell_type": "markdown",
   "metadata": {},
   "source": [
    "### Pregunta 4\n",
    "\n",
    "Trabajas para una empresa que ofrece servicios de datos. Por $100 al mes, tu empresa proporciona 15 gigabytes (GB) de datos. Luego, cualquier dato adicional se factura a $0,10/MB (o $100/GB, ya que 1000 MB son 1 GB).\n",
    "\n",
    "Usa la siguiente celda de código para escribir una función get_phone_bill() que tome como entrada:\n",
    "\n",
    "gb = número de GB que el cliente utilizó en un mes\n",
    "\n",
    "Debería devolver la factura telefónica total del cliente.\n",
    "\n",
    "Por ejemplo:\n",
    "\n",
    "- A un cliente que utiliza 10 GB de datos en un mes se le facturan solo $100, ya que el uso se mantuvo por debajo de los 15 GB. En otras palabras, get_phone_bill(10) debería devolver 100.\n",
    "- Un cliente que utiliza 15,1 GB (o 15 GB + 100 MB) de datos en un mes se ha excedido en 0,1 GB, por lo que debe pagar $100 (costo del plan), más $0,10 * 100 = $10, lo que da una factura total de $110. En otras palabras, get_phone_bill(15,1) debería devolver 110."
   ]
  },
  {
   "cell_type": "code",
   "execution_count": null,
   "metadata": {},
   "outputs": [],
   "source": [
    "# TODO: Edit the function to return the correct bill for different\n",
    "# values of GB\n",
    "def get_phone_bill(gb):\n",
    "    bill = 100\n",
    "    return bill"
   ]
  },
  {
   "cell_type": "code",
   "execution_count": null,
   "metadata": {},
   "outputs": [],
   "source": []
  },
  {
   "cell_type": "markdown",
   "metadata": {},
   "source": [
    "### 🌶️ Pregunta 5\n",
    "\n",
    "En México, los alimentos y bebidas con alto contenido de grasas saturadas, grasas trans, azúcar, sodio y/o calorías aparecen con etiquetas de advertencia diseñadas para ayudar a los consumidores a tomar decisiones alimentarias saludables.\n",
    "\n",
    "Por ejemplo, la [caja de galletas](https://world.openfoodfacts.org/product/7501000673209/florentinas-gamesa) de la imagen de abajo aparece con dos etiquetas (en la esquina superior derecha):\n",
    "- EXCESO CALORÍAS (en inglés, EXCESS CALORIES)\n",
    "- EXCESO AZÚCARES (en inglés, EXCESS SUGAR)\n",
    "\n",
    "<center><img src=\"https://storage.googleapis.com/kaggle-media/learn/images/VXYKHnM.png\" alt=\"drawing\" width=\"500\"/></center>\n",
    "\n",
    "En esta pregunta, trabajarás con una función `get_labels()` que toma los detalles nutricionales de un alimento e imprime las etiquetas de advertencia necesarias. Esta función acepta varias entradas:\n",
    "- `food_type` = uno de `\"solid\"` o `\"liquid\"`\n",
    "- `serving_size` = tamaño de una porción (si es sólida, en gramos; si es líquida, en mililitros)\n",
    "- `calories_per_serving` = calorías en una porción\n",
    "- `saturated_fat_g` = gramos de grasa saturada en una porción\n",
    "- `trans_fat_g` = gramos de grasa trans en una porción\n",
    "- `sodium_mg` = mg de sodio en una porción\n",
    "- `sugars_g` = gramos de azúcar en una porción\n",
    "\n",
    "Ten en cuenta que parte del código aquí puede resultarte desconocido, ya que no hemos compartido los detalles de cómo funcionan algunas de las funciones como `excess_sugar()` o `excess_saturated_fat()`. Pero a un alto nivel, estas son funciones que devuelven un valor de `True` si se considera que el alimento tiene un exceso de azúcar o grasa saturada, respectivamente. Estas funciones se utilizan dentro de la función `get_labels()`, y siempre que hay un exceso (de azúcar o grasas saturadas, pero también de grasas trans, sodio o calorías), imprime la etiqueta correspondiente."
   ]
  },
  {
   "cell_type": "markdown",
   "metadata": {},
   "source": [
    "Ejecuta el siguiente codigo"
   ]
  },
  {
   "cell_type": "code",
   "execution_count": 17,
   "metadata": {},
   "outputs": [],
   "source": [
    "# Funciones para verificar si hay exceso en cada nutriente\n",
    "\n",
    "# Exceso de azúcar: si el azúcar representa más del 10% de las calorías totales\n",
    "def excess_sugar(sugars_g, calories_per_serving):\n",
    "    sugar_calories = sugars_g * 4  # 1g de azúcar = 4 calorías\n",
    "    return sugar_calories > (calories_per_serving * 0.1)\n",
    "\n",
    "# Exceso de grasas saturadas: si las grasas saturadas representan más del 5% de las calorías\n",
    "def excess_saturated_fat(saturated_fat_g, calories_per_serving):\n",
    "    saturated_fat_calories = saturated_fat_g * 9  # 1g de grasa = 9 calorías\n",
    "    return saturated_fat_calories > (calories_per_serving * 0.05)\n",
    "\n",
    "# Exceso de grasas trans: si las grasas trans representan más del 2% de las calorías\n",
    "def excess_trans_fat(trans_fat_g, calories_per_serving):\n",
    "    trans_fat_calories = trans_fat_g * 9  # 1g de grasa = 9 calorías\n",
    "    return trans_fat_calories > (calories_per_serving * 0.02)\n",
    "\n",
    "# Exceso de sodio: si el sodio supera el 2% de la ingesta diaria recomendada (2300 mg)\n",
    "def excess_sodium(calories_per_serving, sodium_mg):\n",
    "    daily_sodium = 2300  # ingesta diaria recomendada de sodio en mg\n",
    "    return sodium_mg > (daily_sodium * 0.02)\n",
    "\n",
    "# Exceso de calorías: ahora será modificado para imprimir si hay un número de calorías por porción mayor que un umbral (500)\n",
    "def excess_calories(food_type, calories_per_serving, serving_size):\n",
    "    # Verificar si las calorías por porción superan las 500 calorías, o si deseas siempre un mensaje para calorías altas\n",
    "    return calories_per_serving > 100  # Ajuste: ahora imprimirá si las calorías son mayores a 100"
   ]
  },
  {
   "cell_type": "markdown",
   "metadata": {},
   "source": [
    "La siguiente celda de código demuestra cómo usar `get_labels()` para obtener las etiquetas de advertencia que debe contener el alimento. Comenzamos con [bologna](https://world.openfoodfacts.org/product/4099100179378/bologna). Aquí hay [una imagen](https://storage.googleapis.com/kaggle-media/learn/images/Cfcx72e.png) con toda la información nutricional. Tenga en cuenta que para este alimento,\n",
    "- `food_type = \"solid\"` (porque la mortadela es un sólido y no un líquido)\n",
    "- `serving_size = 32` (el tamaño de la porción es de 32 gramos)\n",
    "- `calories_per_serving = 110` (hay 110 calorías por porción)\n",
    "- `saturated_fat_g = 2.5` (hay 2.5 gramos de grasa saturada por porción)\n",
    "- `trans_fat_g = 0` (hay 0 gramos de grasa trans por porción)\n",
    "- `sodium_mg = 400` (hay 400 mg de sodio por porción)\n",
    "- `sugars_g = 1` (la información nutricional dice <1 g, pero lo redondearemos a 1 gramo por porción para estar seguros)\n",
    "\n",
    "Al proporcionar todos estos valores a la función, podemos imprimir las etiquetas de advertencia.\n"
   ]
  },
  {
   "cell_type": "code",
   "execution_count": 18,
   "metadata": {},
   "outputs": [],
   "source": [
    "# Función principal que imprime las etiquetas basadas en las condiciones anteriores\n",
    "def get_labels(food_type, serving_size, calories_per_serving, saturated_fat_g, trans_fat_g, sodium_mg, sugars_g):\n",
    "    # Imprimir etiquetas según los hallazgos\n",
    "    if excess_sugar(sugars_g, calories_per_serving):\n",
    "        print(\"EXCESO AZÚCARES / EXCESS SUGAR\")\n",
    "    if excess_saturated_fat(saturated_fat_g, calories_per_serving):\n",
    "        print(\"EXCESO GRASAS SATURADAS / EXCESS SATURATED FAT\")\n",
    "    if excess_trans_fat(trans_fat_g, calories_per_serving):\n",
    "        print(\"EXCESO GRASAS TRANS / EXCESS TRANS FAT\")\n",
    "    if excess_sodium(calories_per_serving, sodium_mg):\n",
    "        print(\"EXCESO SODIO / EXCESS SODIUM\")\n",
    "    if excess_calories(food_type, calories_per_serving, serving_size):\n",
    "        print(\"EXCESO CALORÍAS / EXCESS CALORIES\")\n",
    "\n"
   ]
  },
  {
   "cell_type": "code",
   "execution_count": 22,
   "metadata": {},
   "outputs": [
    {
     "name": "stdout",
     "output_type": "stream",
     "text": [
      "EXCESO GRASAS SATURADAS / EXCESS SATURATED FAT\n",
      "EXCESO SODIO / EXCESS SODIUM\n",
      "EXCESO CALORÍAS / EXCESS CALORIES\n"
     ]
    }
   ],
   "source": [
    "# bologna https://world.openfoodfacts.org/product/4099100179378/bologna\n",
    "get_labels(\"solid\", 32, 110, 2.5, 0, 400, 1)"
   ]
  },
  {
   "cell_type": "markdown",
   "metadata": {},
   "source": [
    "### Esta mortadela tiene tres etiquetas, impresas en la salida anterior.\n",
    "\n",
    "Para el resto de esta pregunta, usarás la misma función get_labels() para determinar las etiquetas de más alimentos. Esta pregunta está diseñada para ayudarte a practicar y sentirte cómodo con el código que otras personas han escrito, y donde no tienes tiempo para revisar cada línea de código antes de interactuar con él. Por ejemplo, cuando tomes el curso de Introducción al aprendizaje automático, trabajarás con un paquete de Python llamado \"scikit-learn\", que es una gran colección de código que aprenderás a ejecutar sin revisar todo el código en detalle (ya que tomaría demasiado tiempo, y puedes confiar en que se implementó correctamente).\n",
    "\n",
    "En general, a medida que continúes codificando en Python, a menudo ejecutarás código que otras personas han escrito. Esta es una práctica común para programadores avanzados.\n",
    "\n",
    "En la siguiente celda de código, completa los valores de este cereal. Aquí hay una imagen con toda la información nutricional.\n",
    "\n",
    "Nota: ejecutar la línea de código a continuación tal como está devolverá un error. Primero debes completar los valores nutricionales."
   ]
  },
  {
   "cell_type": "code",
   "execution_count": 30,
   "metadata": {},
   "outputs": [],
   "source": [
    "# zucaritas cereal https://world.openfoodfacts.org/product/7501008023624/zucaritas-kellogg-s\n",
    "# TODO: Uncomment the line below, fill in the values, and run the function\n",
    "# get_labels()"
   ]
  },
  {
   "cell_type": "markdown",
   "metadata": {},
   "source": [
    "A continuación, prueba estos palitos de mozzarella. Te dejamos una imagen con toda la información nutricional."
   ]
  },
  {
   "cell_type": "code",
   "execution_count": 31,
   "metadata": {},
   "outputs": [],
   "source": [
    "# mozzarella sticks https://world-es.openfoodfacts.org/producto/0062325540104/mozzarella-cheese-sticks\n",
    "# TODO: Uncomment the line below, fill in the values, and run the function\n",
    "# get_labels()"
   ]
  },
  {
   "cell_type": "markdown",
   "metadata": {},
   "source": [
    "Siéntete libre de saltar al final del cuaderno ahora y ejecutar q5.check() para completar el ejercicio. Si quieres probar más alimentos,\n",
    "\n",
    "- prueba estas galletas. Aquí hay una imagen con toda la información nutricional.\n",
    "- prueba este refresco. Aquí hay una imagen con toda la información nutricional.\n",
    "\n",
    "Usa las dos celdas de código a continuación para esto."
   ]
  },
  {
   "cell_type": "code",
   "execution_count": 32,
   "metadata": {},
   "outputs": [],
   "source": [
    "# pillsbury cookies https://world.openfoodfacts.org/product/0069700118545/biscuits-au-sucre-pretraches\n",
    "# TODO: Uncomment the line below, fill in the values, and run the function\n",
    "# get_labels()"
   ]
  },
  {
   "cell_type": "code",
   "execution_count": 33,
   "metadata": {},
   "outputs": [],
   "source": [
    "# sunkist orange soda https://world-es.openfoodfacts.org/producto/0078000113464/orange-soda-sunkist\n",
    "# TODO: Uncomment the line below, fill in the values, and run the function\n",
    "# get_labels()"
   ]
  }
 ],
 "metadata": {
  "kernelspec": {
   "display_name": "venv",
   "language": "python",
   "name": "python3"
  },
  "language_info": {
   "codemirror_mode": {
    "name": "ipython",
    "version": 3
   },
   "file_extension": ".py",
   "mimetype": "text/x-python",
   "name": "python",
   "nbconvert_exporter": "python",
   "pygments_lexer": "ipython3",
   "version": "3.12.0"
  }
 },
 "nbformat": 4,
 "nbformat_minor": 2
}
