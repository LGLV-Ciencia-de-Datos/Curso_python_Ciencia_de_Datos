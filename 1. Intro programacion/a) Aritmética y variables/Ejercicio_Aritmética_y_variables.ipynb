{
  "cells": [
    {
      "cell_type": "markdown",
      "metadata": {
        "id": "nwXr-Wn3YsYB"
      },
      "source": [
        "# Aritmética y variables\n",
        "\n",
        "Este ejercicio le permitirá comenzar a ejecutar su propio código.\n",
        "Configure el cuaderno\n",
        "\n",
        "Para comenzar, ejecute el código en la siguiente celda.\n",
        "\n",
        "Comience haciendo clic dentro de la celda del código.\n",
        "Haga clic en el triángulo (con la forma de un \"botón de reproducción\") que aparece a la izquierda de la celda del código.\n",
        "Si su código se ejecutó correctamente, verá Configuración completa como resultado debajo de la celda.\n",
        "\n",
        "En lugar de hacer clic en el triángulo, también puede ejecutar el código presionando Shift + Enter en su teclado. ¡Pruébelo ahora! No ocurrirá nada malo si ejecuta el código más de una vez."
      ]
    },
    {
      "cell_type": "markdown",
      "metadata": {
        "id": "DLD-pL3xaSse"
      },
      "source": [
        "### Pregunta 1\n",
        "\n",
        "A continuación, ejecutará parte del código del tutorial para que pueda ver cómo funciona. Ejecute la siguiente celda de código sin cambios."
      ]
    },
    {
      "cell_type": "code",
      "execution_count": null,
      "metadata": {
        "id": "tOnxKf_oaR7T"
      },
      "outputs": [],
      "source": [
        "print(\"¡Hola mundo!\")"
      ]
    },
    {
      "cell_type": "markdown",
      "metadata": {
        "id": "IW2n9230aigi"
      },
      "source": [
        "Acabas de ejecutar el código para imprimir ¡Hola mundo!, que deberías ver en el resultado anterior."
      ]
    },
    {
      "cell_type": "markdown",
      "metadata": {
        "id": "SSOZl5idbj3U"
      },
      "source": [
        "### Pregunta 2\n",
        "\n",
        "Ahora, imprimirá otro mensaje de su elección. Para ello, cambie print(\"¡Su mensaje aquí!\") para utilizar un mensaje diferente. Por ejemplo, puede cambiarlo a algo como:\n",
        "\n",
        "print(\"¡Buenos días!\")\n",
        "print(\"Estoy aprendiendo a codificar :D\")\n",
        "\n",
        "O puede ver qué sucede si escribe algo como print(\"3+4\"). ¿Devuelve 7 o simplemente piensa en \"3+4\" como otro mensaje más?\n",
        "\n",
        "Asegúrese de que su mensaje esté entre comillas (\") y que el mensaje en sí no utilice comillas. Por ejemplo, esto generará un error: print(\"Ella dijo \"gran trabajo\" y me dio un \"high-five!\") porque el mensaje contiene comillas. Si decide realizar el curso de Python después de completar este curso, aprenderá más sobre cómo evitar este error en la Lección 6.\n",
        "\n",
        "¡Siéntase libre de probar varios mensajes!"
      ]
    },
    {
      "cell_type": "code",
      "execution_count": null,
      "metadata": {
        "id": "3RJ47CdKZyel"
      },
      "outputs": [],
      "source": [
        "# TODO: Change the message\n",
        "print(\"¡Su mensaje aquí!\")"
      ]
    },
    {
      "cell_type": "markdown",
      "metadata": {
        "id": "Hz_rrbqKdcaG"
      },
      "source": [
        "### Pregunta 3\n",
        "\n",
        "Como aprendiste en el tutorial, un comentario en Python tiene un signo de numeral (#) delante, que le indica a Python que ignore el texto que lo sigue.\n",
        "\n",
        "Poner un signo de numeral delante de una línea de código hará que Python ignore ese código. Por ejemplo, Python ignoraría esta línea y no aparecería nada en el resultado:\n",
        "\n",
        "* #print(1+2)\n",
        "\n",
        "Quitar el signo de numeral hará que puedas ejecutar el código nuevamente. Cuando eliminamos el signo de numeral delante de una línea de código, lo llamamos descomentar.\n",
        "\n",
        "En este problema, descomentarás dos líneas en la celda de código a continuación y verás el resultado:\n",
        "\n",
        "Elimina el # de suma. Para evitar errores, NO elimines el # delante de # Descomentar para ver la sugerencia.\n",
        "A continuación, elimina el # de print('El resultado de la suma es:', suma).\n"
      ]
    },
    {
      "cell_type": "code",
      "execution_count": null,
      "metadata": {
        "id": "vo-PHFdrdg1_"
      },
      "outputs": [],
      "source": [
        "# Descomentar para ver la sugerencia.\n",
        "\n",
        "# suma = 3+4\n",
        "print(suma)\n",
        "\n",
        "# Desconeta para ver el resultado.\n",
        "\n",
        "# print('El resultado de la suma es:', suma)"
      ]
    },
    {
      "cell_type": "markdown",
      "metadata": {
        "id": "Y9D__mbfgJDE"
      },
      "source": [
        "### Pregunta 4\n",
        "\n",
        "En el tutorial, definió varias variables para calcular la cantidad total de segundos en un año. Ejecute la siguiente celda de código para realizar el cálculo aquí."
      ]
    },
    {
      "cell_type": "code",
      "execution_count": null,
      "metadata": {
        "id": "mgcM8w8yeph_"
      },
      "outputs": [],
      "source": [
        "# Create variables\n",
        "num_years = 4\n",
        "days_per_year = 365\n",
        "hours_per_day = 24\n",
        "mins_per_hour = 60\n",
        "secs_per_min = 60\n",
        "\n",
        "# Calculate number of seconds in four years\n",
        "total_secs = secs_per_min * mins_per_hour * hours_per_day * days_per_year * num_years\n",
        "print(total_secs)"
      ]
    },
    {
      "cell_type": "markdown",
      "metadata": {
        "id": "UdVBD7Wmgb3X"
      },
      "source": [
        "Utilice la siguiente celda de código para:\n",
        "\n",
        "Defina una variable births_per_min y configúrela en 250. (En promedio, nacen 250 bebés cada minuto).\n",
        "Defina una variable births_per_day que contenga la cantidad promedio de bebés que nacen cada día. (Para establecer el valor de esta variable, debe utilizar births_per_min y algunas de las variables de la celda de código anterior)."
      ]
    },
    {
      "cell_type": "code",
      "execution_count": null,
      "metadata": {
        "id": "KPtVNRNEen52"
      },
      "outputs": [],
      "source": [
        "# TODO: Set the value of the births_per_min variable\n",
        "births_per_min = ___\n",
        "\n",
        "# TODO: Set the value of the births_per_day variable\n",
        "births_per_day = ___\n"
      ]
    },
    {
      "cell_type": "markdown",
      "metadata": {
        "id": "kD7sGqM1hH_a"
      },
      "source": [
        "### 🌶️ Pregunta 5\n",
        "\n",
        "(¡Las preguntas marcadas con un 🌶️ serán un poco más desafiantes que las demás! Recuerda que siempre puedes obtener una pista o ver la solución).\n",
        "\n",
        "La competencia Titanic es la competencia de ciencia de datos más famosa de Kaggle. En esta competencia, los participantes tienen el desafío de construir un modelo de aprendizaje automático que pueda predecir si los pasajeros sobrevivieron o no al naufragio del Titanic, en función de información como la edad, el sexo, el tamaño de la familia y el número de boleto.\n",
        "\n",
        "Ejecuta la siguiente celda de código sin cambios para cargar y obtener una vista previa de los datos del Titanic.\n",
        "\n",
        "No te preocupes por los detalles del código por ahora: el resultado final es simplemente que todos los datos del Titanic se han cargado en una variable llamada titanic_data. (Para aprender a escribir este código tú mismo, puedes tomar el curso de Python y luego el curso de Pandas).\n"
      ]
    },
    {
      "cell_type": "code",
      "execution_count": null,
      "metadata": {},
      "outputs": [],
      "source": [
        "pip install pandas"
      ]
    },
    {
      "cell_type": "code",
      "execution_count": 7,
      "metadata": {
        "id": "aDNkfEoDiQSe"
      },
      "outputs": [
        {
          "data": {
            "text/html": [
              "<div>\n",
              "<style scoped>\n",
              "    .dataframe tbody tr th:only-of-type {\n",
              "        vertical-align: middle;\n",
              "    }\n",
              "\n",
              "    .dataframe tbody tr th {\n",
              "        vertical-align: top;\n",
              "    }\n",
              "\n",
              "    .dataframe thead th {\n",
              "        text-align: right;\n",
              "    }\n",
              "</style>\n",
              "<table border=\"1\" class=\"dataframe\">\n",
              "  <thead>\n",
              "    <tr style=\"text-align: right;\">\n",
              "      <th></th>\n",
              "      <th>PassengerId</th>\n",
              "      <th>Survived</th>\n",
              "      <th>Pclass</th>\n",
              "      <th>Name</th>\n",
              "      <th>Sex</th>\n",
              "      <th>Age</th>\n",
              "      <th>SibSp</th>\n",
              "      <th>Parch</th>\n",
              "      <th>Ticket</th>\n",
              "      <th>Fare</th>\n",
              "      <th>Cabin</th>\n",
              "      <th>Embarked</th>\n",
              "    </tr>\n",
              "  </thead>\n",
              "  <tbody>\n",
              "    <tr>\n",
              "      <th>0</th>\n",
              "      <td>1</td>\n",
              "      <td>0</td>\n",
              "      <td>3</td>\n",
              "      <td>Braund, Mr. Owen Harris</td>\n",
              "      <td>male</td>\n",
              "      <td>22.0</td>\n",
              "      <td>1</td>\n",
              "      <td>0</td>\n",
              "      <td>A/5 21171</td>\n",
              "      <td>7.2500</td>\n",
              "      <td>NaN</td>\n",
              "      <td>S</td>\n",
              "    </tr>\n",
              "    <tr>\n",
              "      <th>1</th>\n",
              "      <td>2</td>\n",
              "      <td>1</td>\n",
              "      <td>1</td>\n",
              "      <td>Cumings, Mrs. John Bradley (Florence Briggs Th...</td>\n",
              "      <td>female</td>\n",
              "      <td>38.0</td>\n",
              "      <td>1</td>\n",
              "      <td>0</td>\n",
              "      <td>PC 17599</td>\n",
              "      <td>71.2833</td>\n",
              "      <td>C85</td>\n",
              "      <td>C</td>\n",
              "    </tr>\n",
              "    <tr>\n",
              "      <th>2</th>\n",
              "      <td>3</td>\n",
              "      <td>1</td>\n",
              "      <td>3</td>\n",
              "      <td>Heikkinen, Miss. Laina</td>\n",
              "      <td>female</td>\n",
              "      <td>26.0</td>\n",
              "      <td>0</td>\n",
              "      <td>0</td>\n",
              "      <td>STON/O2. 3101282</td>\n",
              "      <td>7.9250</td>\n",
              "      <td>NaN</td>\n",
              "      <td>S</td>\n",
              "    </tr>\n",
              "    <tr>\n",
              "      <th>3</th>\n",
              "      <td>4</td>\n",
              "      <td>1</td>\n",
              "      <td>1</td>\n",
              "      <td>Futrelle, Mrs. Jacques Heath (Lily May Peel)</td>\n",
              "      <td>female</td>\n",
              "      <td>35.0</td>\n",
              "      <td>1</td>\n",
              "      <td>0</td>\n",
              "      <td>113803</td>\n",
              "      <td>53.1000</td>\n",
              "      <td>C123</td>\n",
              "      <td>S</td>\n",
              "    </tr>\n",
              "    <tr>\n",
              "      <th>4</th>\n",
              "      <td>5</td>\n",
              "      <td>0</td>\n",
              "      <td>3</td>\n",
              "      <td>Allen, Mr. William Henry</td>\n",
              "      <td>male</td>\n",
              "      <td>35.0</td>\n",
              "      <td>0</td>\n",
              "      <td>0</td>\n",
              "      <td>373450</td>\n",
              "      <td>8.0500</td>\n",
              "      <td>NaN</td>\n",
              "      <td>S</td>\n",
              "    </tr>\n",
              "  </tbody>\n",
              "</table>\n",
              "</div>"
            ],
            "text/plain": [
              "   PassengerId  Survived  Pclass  \\\n",
              "0            1         0       3   \n",
              "1            2         1       1   \n",
              "2            3         1       3   \n",
              "3            4         1       1   \n",
              "4            5         0       3   \n",
              "\n",
              "                                                Name     Sex   Age  SibSp  \\\n",
              "0                            Braund, Mr. Owen Harris    male  22.0      1   \n",
              "1  Cumings, Mrs. John Bradley (Florence Briggs Th...  female  38.0      1   \n",
              "2                             Heikkinen, Miss. Laina  female  26.0      0   \n",
              "3       Futrelle, Mrs. Jacques Heath (Lily May Peel)  female  35.0      1   \n",
              "4                           Allen, Mr. William Henry    male  35.0      0   \n",
              "\n",
              "   Parch            Ticket     Fare Cabin Embarked  \n",
              "0      0         A/5 21171   7.2500   NaN        S  \n",
              "1      0          PC 17599  71.2833   C85        C  \n",
              "2      0  STON/O2. 3101282   7.9250   NaN        S  \n",
              "3      0            113803  53.1000  C123        S  \n",
              "4      0            373450   8.0500   NaN        S  "
            ]
          },
          "execution_count": 7,
          "metadata": {},
          "output_type": "execute_result"
        }
      ],
      "source": [
        "import pandas as pd\n",
        "url = 'https://raw.githubusercontent.com/MicrosoftDocs/mslearn-introduction-to-machine-learning/main/Data/titanic.csv'\n",
        "titanic_data = pd.read_csv(url)\n",
        "titanic_data.head()"
      ]
    },
    {
      "cell_type": "markdown",
      "metadata": {
        "id": "iPmRsGPKi6-m"
      },
      "source": [
        "Los datos tienen una fila diferente para cada pasajero.\n",
        "\n",
        "La siguiente celda de código define e imprime los valores de tres variables:\n",
        "\n",
        "* total = número total de pasajeros que abordaron el barco\n",
        "* survivor = número de pasajeros que sobrevivieron al naufragio\n",
        "* minors = número de pasajeros menores de 18 años\n",
        "\n",
        "Ejecute la celda de código sin cambios. (No se preocupe por los detalles de cómo se calculan estas variables por ahora. Puede obtener más información sobre cómo calcular estos valores en el curso de Pandas)."
      ]
    },
    {
      "cell_type": "code",
      "execution_count": 5,
      "metadata": {
        "id": "pouqp6CFjTmo"
      },
      "outputs": [
        {
          "name": "stdout",
          "output_type": "stream",
          "text": [
            "891\n",
            "342\n",
            "113\n"
          ]
        }
      ],
      "source": [
        "# Number of total passengers\n",
        "total = len(titanic_data)\n",
        "print(total)\n",
        "\n",
        "# Number of passengers who survived\n",
        "survived = (titanic_data.Survived == 1).sum()\n",
        "print(survived)\n",
        "\n",
        "# Number of passengers under 18\n",
        "minors = (titanic_data.Age < 18).sum()\n",
        "print(minors)"
      ]
    },
    {
      "cell_type": "markdown",
      "metadata": {
        "id": "rAtGKKQVjJDc"
      },
      "source": [
        "Por lo tanto,\n",
        "\n",
        "* total = 891 (había 891 pasajeros a bordo del Titanic),\n",
        "* survived = 342 (342 pasajeros sobrevivieron) y\n",
        "* minors = 113 (113 pasajeros eran menores de 18 años).\n",
        "\n",
        "En la celda de código a continuación, reemplace los guiones bajos (____) con código para calcular los valores de dos variables más:\n",
        "\n",
        "* survived_fraction debe configurarse como la fracción de pasajeros que sobrevivieron al desastre del Titanic.\n",
        "* minors_fraction debe ser la fracción de pasajeros que eran menores (menores de 18 años).\n",
        "\n",
        "Para cada variable, su respuesta debe ser un número entre 0 y 1."
      ]
    },
    {
      "cell_type": "code",
      "execution_count": null,
      "metadata": {
        "id": "hhqDQtuWjsLL"
      },
      "outputs": [],
      "source": [
        "# TODO: Fill in the value of the survived_fraction variable\n",
        "survived_fraction = survived/total\n",
        "# Print the value of the variable\n",
        "print(survived_fraction)\n",
        "\n",
        "# TODO: Fill in the value of the minors_fraction variable\n",
        "minors_fraction = minors/total\n",
        "\n",
        "# Print the value of the variable\n",
        "print(minors_fraction)"
      ]
    },
    {
      "cell_type": "markdown",
      "metadata": {
        "id": "x-vwib3vmCJ2"
      },
      "source": [
        "debes obtener:\n",
        "\n",
        "* 0.3838383838383838\n",
        "* 0.12682379349046016\n",
        "\n",
        "De lo contrario, verifica tu codigo."
      ]
    }
  ],
  "metadata": {
    "colab": {
      "provenance": []
    },
    "kernelspec": {
      "display_name": "base",
      "language": "python",
      "name": "python3"
    },
    "language_info": {
      "codemirror_mode": {
        "name": "ipython",
        "version": 3
      },
      "file_extension": ".py",
      "mimetype": "text/x-python",
      "name": "python",
      "nbconvert_exporter": "python",
      "pygments_lexer": "ipython3",
      "version": "3.13.2"
    }
  },
  "nbformat": 4,
  "nbformat_minor": 0
}
