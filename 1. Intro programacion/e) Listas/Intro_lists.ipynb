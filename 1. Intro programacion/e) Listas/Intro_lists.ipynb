{
 "cells": [
  {
   "cell_type": "markdown",
   "metadata": {},
   "source": [
    "# Introducción a las listas\n",
    "Organice sus datos para que pueda trabajar con ellos de manera eficiente."
   ]
  },
  {
   "cell_type": "markdown",
   "metadata": {},
   "source": [
    "### Introducción.\n",
    "\n",
    "Al hacer ciencia de datos, necesitas una manera de organizar tus datos para que puedas trabajar con ellos de manera eficiente. Python tiene muchas estructuras de datos disponibles para mantener sus datos, tales como listas (lists), conjuntos (sets), diccionarios (dicts) y tuples (tuples). En este tutorial, aprenderás a trabajar con las listas de Python.\n",
    "\n",
    "### Motivación\n",
    "\n",
    "En la competencia de Petal al Metal, su objetivo es clasificar la especie de una flor basada únicamente en su imagen. (Esta es una tarea común en la visión por computadora, y se llama clasificación de imágenes.) Hacia este objetivo, digamos que organizas los nombres de las especies de flores en los datos.\n",
    "\n",
    "Una forma de hacerlo es organizando los nombres en una cadena (string) de Python."
   ]
  },
  {
   "cell_type": "code",
   "execution_count": 29,
   "metadata": {},
   "outputs": [
    {
     "name": "stdout",
     "output_type": "stream",
     "text": [
      "<class 'str'>\n",
      "pink primrose,hard-leaved pocket orchid,canterbury bells,sweet pea,english marigold,tiger lily,moon orchid,bird of paradise,monkshood,globe thistle\n"
     ]
    }
   ],
   "source": [
    "flowers = \"pink primrose,hard-leaved pocket orchid,canterbury bells,sweet pea,english marigold,tiger lily,moon orchid,bird of paradise,monkshood,globe thistle\"\n",
    "\n",
    "print(type(flowers))\n",
    "print(flowers)"
   ]
  },
  {
   "cell_type": "code",
   "execution_count": 30,
   "metadata": {},
   "outputs": [
    {
     "data": {
      "text/plain": [
       "['pink primrose',\n",
       " 'hard-leaved pocket orchid',\n",
       " 'canterbury bells',\n",
       " 'sweet pea',\n",
       " 'english marigold',\n",
       " 'tiger lily',\n",
       " 'moon orchid',\n",
       " 'bird of paradise',\n",
       " 'monkshood',\n",
       " 'globe thistle']"
      ]
     },
     "execution_count": 30,
     "metadata": {},
     "output_type": "execute_result"
    }
   ],
   "source": [
    "flowers.split(',') # Separa los elementos de una horacion cada vez que halla una coma"
   ]
  },
  {
   "cell_type": "code",
   "execution_count": 31,
   "metadata": {},
   "outputs": [
    {
     "name": "stdout",
     "output_type": "stream",
     "text": [
      "<class 'list'>\n",
      "['pink primrose', 'hard-leaved pocket orchid', 'canterbury bells', 'sweet pea', 'english marigold', 'tiger lily', 'moon orchid', 'bird of paradise', 'monkshood', 'globe thistle']\n"
     ]
    }
   ],
   "source": [
    "flowers_list = flowers.split(',')\n",
    "print(type(flowers_list))\n",
    "print(flowers_list)"
   ]
  },
  {
   "cell_type": "markdown",
   "metadata": {},
   "source": [
    "A primera vista, no se ve muy diferente, ya sea que representes la información en una cadena o lista de Python. Pero como verás, hay un montón de tareas que puedes hacer más fácilmente con una lista. Por ejemplo, una lista facilitará:\n",
    "\n",
    "- obtener un artículo en una posición especificada (primero, segundo, tercero, etc),\n",
    "- comprobar el número de artículos y\n",
    "- añade y elimina elementos."
   ]
  },
  {
   "cell_type": "markdown",
   "metadata": {},
   "source": [
    "### Listas (lists)\n",
    "\n",
    "#### Longitud. (length)\n",
    "\n",
    "Podemos contar el número de entradas en cualquier lista con len(), que es corto para \"longitud\". Sólo necesita suministrar el nombre de la lista entre paréntesis."
   ]
  },
  {
   "cell_type": "code",
   "execution_count": 32,
   "metadata": {},
   "outputs": [
    {
     "name": "stdout",
     "output_type": "stream",
     "text": [
      "La lista flowers_list tine \"10\" elementos\n"
     ]
    }
   ],
   "source": [
    "# Cuantos elementso tiene flowers_list\n",
    "print(f'La lista flowers_list tine \"{len(flowers_list)}\" elementos')"
   ]
  },
  {
   "cell_type": "markdown",
   "metadata": {},
   "source": [
    "### Indexación (Indexing)\n",
    "\n",
    "Podemos referir a cualquier elemento de la lista de acuerdo con su posición en la lista (primero, segundo, tercero, etc.). Esto se llama indexación.\n",
    "\n",
    "Tenga en cuenta que Python utiliza indexación basada en cero, lo que significa que:\n",
    "\n",
    "- para obtener el primer elemento de la lista, se `utiliza [0]`,\n",
    "- para obtener el segundo elemento de la lista, se `utiliza [1]`, y\n",
    "- para obtener el ultimo elemento de la lista, se utiliza uno menos que la longitud de la lista `utiliza [-1]`."
   ]
  },
  {
   "cell_type": "code",
   "execution_count": 33,
   "metadata": {},
   "outputs": [
    {
     "name": "stdout",
     "output_type": "stream",
     "text": [
      "['pink primrose', 'hard-leaved pocket orchid', 'canterbury bells', 'sweet pea', 'english marigold', 'tiger lily', 'moon orchid', 'bird of paradise', 'monkshood', 'globe thistle']\n"
     ]
    }
   ],
   "source": [
    "print(flowers_list)"
   ]
  },
  {
   "cell_type": "code",
   "execution_count": 34,
   "metadata": {},
   "outputs": [
    {
     "name": "stdout",
     "output_type": "stream",
     "text": [
      "El primer elemento es: pink primrose\n",
      "El segundo elemento es: hard-leaved pocket orchid\n",
      "Ele último elemento es: globe thistle\n"
     ]
    }
   ],
   "source": [
    "print(f'El primer elemento es: {flowers_list[0]}')\n",
    "print(f'El segundo elemento es: {flowers_list[1]}')\n",
    "print(f'Ele último elemento es: {flowers_list[-1]}')"
   ]
  },
  {
   "cell_type": "markdown",
   "metadata": {},
   "source": [
    "Nota lateral: Usted puede haber notado que en la celda de código anterior, usamos una sola print() para imprimir varios elementos tanto una cadena de Python como (\"El primer elemento es:\") como un valor de la lista como (florers_list[0]). Para imprimir varias cosas en Python con un solo comando, sólo necesitamos separarlas con una coma."
   ]
  },
  {
   "cell_type": "code",
   "execution_count": 35,
   "metadata": {},
   "outputs": [
    {
     "name": "stdout",
     "output_type": "stream",
     "text": [
      "El primero, segundo y último elementos son: pink primrose, hard-leaved pocket orchid, globe thistle\n"
     ]
    }
   ],
   "source": [
    "print(f'El primero, segundo y último elementos son: {flowers_list[0]}, {flowers_list[1]}, {flowers_list[-1]}')"
   ]
  },
  {
   "cell_type": "markdown",
   "metadata": {},
   "source": [
    "### Cortando (Slicing)\n",
    "\n",
    "También puedes obtener un segmento de una lista (por ejemplo, las tres primeras entradas o las últimas dos entradas). Esto se llama cortar. Por ejemplo:\n",
    "\n",
    "- para tirar de las primeras entradas x, se `utiliza [:x]`, y\n",
    "- para tirar de las últimas entradas y, se `utiliza [-y:]`."
   ]
  },
  {
   "cell_type": "code",
   "execution_count": 36,
   "metadata": {},
   "outputs": [
    {
     "name": "stdout",
     "output_type": "stream",
     "text": [
      "Los primeros tres elementos de la lista son: ['pink primrose', 'hard-leaved pocket orchid', 'canterbury bells']\n",
      "Los útimos dos elementos de la lista son: ['monkshood', 'globe thistle']\n"
     ]
    }
   ],
   "source": [
    "print(f'Los primeros tres elementos de la lista son: {flowers_list[:3]}')\n",
    "print(f'Los útimos dos elementos de la lista son: {flowers_list[-2:]}')\n"
   ]
  },
  {
   "cell_type": "markdown",
   "metadata": {},
   "source": [
    "Como puedes ver arriba, cuando cortamos una lista, devuelve una nueva lista."
   ]
  },
  {
   "cell_type": "markdown",
   "metadata": {},
   "source": [
    "### Eliminar elementos\n",
    "\n",
    "Eliminar un elemento de una lista con `.remove()`, y pon el artículo que le gustaría quitar entre paréntesis."
   ]
  },
  {
   "cell_type": "code",
   "execution_count": 37,
   "metadata": {},
   "outputs": [
    {
     "data": {
      "text/plain": [
       "['pink primrose',\n",
       " 'hard-leaved pocket orchid',\n",
       " 'canterbury bells',\n",
       " 'sweet pea',\n",
       " 'english marigold',\n",
       " 'tiger lily',\n",
       " 'moon orchid',\n",
       " 'bird of paradise',\n",
       " 'monkshood',\n",
       " 'globe thistle']"
      ]
     },
     "execution_count": 37,
     "metadata": {},
     "output_type": "execute_result"
    }
   ],
   "source": [
    "flowers_list\n"
   ]
  },
  {
   "cell_type": "code",
   "execution_count": 38,
   "metadata": {},
   "outputs": [
    {
     "data": {
      "text/plain": [
       "['pink primrose',\n",
       " 'hard-leaved pocket orchid',\n",
       " 'canterbury bells',\n",
       " 'english marigold',\n",
       " 'tiger lily',\n",
       " 'moon orchid',\n",
       " 'bird of paradise',\n",
       " 'monkshood',\n",
       " 'globe thistle']"
      ]
     },
     "execution_count": 38,
     "metadata": {},
     "output_type": "execute_result"
    }
   ],
   "source": [
    "new_flowers_list = flowers_list.copy() # \n",
    "new_flowers_list.remove('sweet pea')\n",
    "new_flowers_list\n"
   ]
  },
  {
   "cell_type": "code",
   "execution_count": 39,
   "metadata": {},
   "outputs": [
    {
     "data": {
      "text/plain": [
       "['pink primrose',\n",
       " 'hard-leaved pocket orchid',\n",
       " 'canterbury bells',\n",
       " 'english marigold',\n",
       " 'tiger lily',\n",
       " 'moon orchid',\n",
       " 'bird of paradise',\n",
       " 'monkshood',\n",
       " 'globe thistle']"
      ]
     },
     "execution_count": 39,
     "metadata": {},
     "output_type": "execute_result"
    }
   ],
   "source": [
    "new_flowers_list_2 = [flower for flower in flowers_list if flower != 'sweet pea']\n",
    "new_flowers_list_2"
   ]
  },
  {
   "cell_type": "code",
   "execution_count": 40,
   "metadata": {},
   "outputs": [
    {
     "data": {
      "text/plain": [
       "['pink primrose',\n",
       " 'hard-leaved pocket orchid',\n",
       " 'canterbury bells',\n",
       " 'english marigold',\n",
       " 'tiger lily',\n",
       " 'moon orchid',\n",
       " 'bird of paradise',\n",
       " 'monkshood',\n",
       " 'globe thistle']"
      ]
     },
     "execution_count": 40,
     "metadata": {},
     "output_type": "execute_result"
    }
   ],
   "source": [
    "new_list = []\n",
    "for flower in flowers_list:\n",
    "    if flower != 'sweet pea':\n",
    "        new_list.append(flower)\n",
    "new_list "
   ]
  },
  {
   "cell_type": "markdown",
   "metadata": {},
   "source": [
    "### Añadiendo elementos.\n",
    "\n",
    "Añade un elemento a una lista con `.append()`, y pon el artículo que le gustaría añadir entre paréntesis."
   ]
  },
  {
   "cell_type": "code",
   "execution_count": 41,
   "metadata": {},
   "outputs": [
    {
     "data": {
      "text/plain": [
       "['pink primrose',\n",
       " 'hard-leaved pocket orchid',\n",
       " 'canterbury bells',\n",
       " 'english marigold',\n",
       " 'tiger lily',\n",
       " 'moon orchid',\n",
       " 'bird of paradise',\n",
       " 'monkshood',\n",
       " 'globe thistle',\n",
       " 'last_element']"
      ]
     },
     "execution_count": 41,
     "metadata": {},
     "output_type": "execute_result"
    }
   ],
   "source": [
    "new_flowers_list.append('last_element')\n",
    "new_flowers_list"
   ]
  },
  {
   "cell_type": "markdown",
   "metadata": {},
   "source": [
    "\n",
    "### Las listas no son sólo para cadenas de texto (strings).\n",
    "\n",
    "Hasta ahora, sólo hemos trabajado con listas donde cada elemento de la lista es una cadena. Pero las listas pueden tener elementos con cualquier tipo de datos, incluyendo booleanos, números enteros y flotadores.\n",
    "\n",
    "Por ejemplo, considere las ventas de libros duros en la primera semana de abril de 2000 en una tienda minorista."
   ]
  },
  {
   "cell_type": "code",
   "execution_count": 42,
   "metadata": {},
   "outputs": [],
   "source": [
    "hardcover_sales = [139, 128, 172, 139, 191, 168, 170]"
   ]
  },
  {
   "cell_type": "markdown",
   "metadata": {},
   "source": [
    "Aquí, la hardcover_sales es una lista de enteros. Similar a cuando se trabaja con las cadenas de texto, todavía puede hacer cosas como obtener la longitud, obtener entradas individuales, y ampliar la lista."
   ]
  },
  {
   "cell_type": "code",
   "execution_count": 43,
   "metadata": {},
   "outputs": [
    {
     "name": "stdout",
     "output_type": "stream",
     "text": [
      "El número de ventas del mes son: 7\n",
      "La entrada número dos es: 172\n"
     ]
    }
   ],
   "source": [
    "print(f'El número de ventas del mes son: {len(hardcover_sales)}')\n",
    "print(f'La entrada número dos es: {hardcover_sales[2]}')"
   ]
  },
  {
   "cell_type": "markdown",
   "metadata": {},
   "source": [
    "También puede obtener el mínimo con `min()` y el máximo con `máx()`."
   ]
  },
  {
   "cell_type": "code",
   "execution_count": 44,
   "metadata": {},
   "outputs": [
    {
     "name": "stdout",
     "output_type": "stream",
     "text": [
      "El valos máximo de la venta es: 191\n",
      "El valos mínimo de la venta es: 128 \n"
     ]
    }
   ],
   "source": [
    "print(f'El valos máximo de la venta es: {max(hardcover_sales)}')\n",
    "print(f'El valos mínimo de la venta es: {min(hardcover_sales)} ')\n"
   ]
  },
  {
   "cell_type": "markdown",
   "metadata": {},
   "source": [
    "Para sumar cada elemento de la lista, utilice la `suma()`."
   ]
  },
  {
   "cell_type": "code",
   "execution_count": 45,
   "metadata": {},
   "outputs": [
    {
     "name": "stdout",
     "output_type": "stream",
     "text": [
      "El número de ventas del mes son: 1107\n"
     ]
    }
   ],
   "source": [
    "print(f'El número de ventas del mes son: {sum(hardcover_sales)}')"
   ]
  },
  {
   "cell_type": "markdown",
   "metadata": {},
   "source": [
    "También podemos hacer cálculos similares con secciones de la lista. En la siguiente celda de código, tomamos la suma de los primeros cinco días `(sum(hardcover_sales[:5]))`, y luego dividimos por cinco para obtener el número promedio de libros vendidos en los primeros cinco días."
   ]
  },
  {
   "cell_type": "code",
   "execution_count": 46,
   "metadata": {},
   "outputs": [
    {
     "name": "stdout",
     "output_type": "stream",
     "text": [
      "El promedio de ventas en los primeros 5 dias del mes son: 153.8\n"
     ]
    }
   ],
   "source": [
    "print(f'El promedio de ventas en los primeros 5 dias del mes son: {(sum(hardcover_sales[:5])/5)}')"
   ]
  }
 ],
 "metadata": {
  "kernelspec": {
   "display_name": "Python 3",
   "language": "python",
   "name": "python3"
  },
  "language_info": {
   "codemirror_mode": {
    "name": "ipython",
    "version": 3
   },
   "file_extension": ".py",
   "mimetype": "text/x-python",
   "name": "python",
   "nbconvert_exporter": "python",
   "pygments_lexer": "ipython3",
   "version": "3.12.0"
  }
 },
 "nbformat": 4,
 "nbformat_minor": 2
}
