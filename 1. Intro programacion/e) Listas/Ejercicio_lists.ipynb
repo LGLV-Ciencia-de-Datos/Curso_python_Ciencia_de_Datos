{
 "cells": [
  {
   "cell_type": "markdown",
   "metadata": {},
   "source": [
    "En el tutorial, aprendiste a definir y modificar listas de Python. En este ejercicio, usarás tus nuevos conocimientos para resolver varios problemas."
   ]
  },
  {
   "cell_type": "markdown",
   "metadata": {},
   "source": [
    "### Pregunta 1\n",
    "\n",
    "Eres dueño de un restaurante con cinco platos de comida, organizados en el menú de lista de Python que se muestra a continuación. Un día, decides:\n",
    "\n",
    "eliminar la sopa de frijoles ('bean soup') del menú y\n",
    "agregar ensalada de remolacha asada ('roasted beet salad') al menú.\n",
    "\n",
    "Implementa este cambio en la lista que se muestra a continuación. Al completar esta tarea,\n",
    "\n",
    "no cambies la línea que crea la lista del menú.\n",
    "tu respuesta debe usar `.remove()` y `.append()`."
   ]
  },
  {
   "cell_type": "code",
   "execution_count": 78,
   "metadata": {},
   "outputs": [],
   "source": [
    "# Do not change: Initial menu for your restaurant\n",
    "menu = ['stewed meat with onions', 'bean soup', 'risotto with trout and shrimp',\n",
    "       'fish soup with cream and onion', 'gyro']\n",
    "\n",
    "# TODO: remove 'bean soup', and add 'roasted beet salad' to the end of the menu\n",
    "# ____"
   ]
  },
  {
   "cell_type": "markdown",
   "metadata": {},
   "source": [
    "### Pregunta 2\n",
    "\n",
    "La lista `num_customers` contiene la cantidad de clientes que ingresaron a su restaurante todos los días durante el último mes (que duró treinta días). Complete los valores para cada uno de los siguientes:\n",
    "\n",
    "- `avg_first_seven`: cantidad promedio de clientes que visitaron el restaurante en los primeros siete días\n",
    "- `avg_last_seven`: cantidad promedio de clientes que visitaron el restaurante en los últimos siete días\n",
    "- `max_month`: cantidad de clientes en el día que tuvo la mayor cantidad de clientes en el último mes\n",
    "- `min_month`: cantidad de clientes en el día que tuvo la menor cantidad de clientes en el último mes\n",
    "\n",
    "Responda esta pregunta escribiendo código. Por ejemplo, si tiene que encontrar el valor mínimo en una lista, use `min()` en lugar de buscar el valor más pequeño y completar un número directamente."
   ]
  },
  {
   "cell_type": "code",
   "execution_count": null,
   "metadata": {},
   "outputs": [],
   "source": [
    "# Do not change: Number of customers each day for the last month\n",
    "num_customers = [137, 147, 135, 128, 170, 174, 165, 146, 126, 159,\n",
    "                 141, 148, 132, 147, 168, 153, 170, 161, 148, 152,\n",
    "                 141, 151, 131, 149, 164, 163, 143, 143, 166, 171]\n",
    "\n",
    "avg_first_seven = ____ \n",
    "avg_last_seven = ____ \n",
    "max_month = ____\n",
    "min_month = ____"
   ]
  },
  {
   "cell_type": "markdown",
   "metadata": {},
   "source": [
    "### Pregunta 3\n",
    "\n",
    "En el tutorial, dimos un ejemplo de una cadena de Python con información que se podía expresar mejor como una lista."
   ]
  },
  {
   "cell_type": "code",
   "execution_count": 20,
   "metadata": {},
   "outputs": [],
   "source": [
    "flowers = \"pink primrose,hard-leaved pocket orchid,canterbury bells,sweet pea,english marigold,tiger lily,moon orchid,bird of paradise,monkshood,globe thistle\""
   ]
  },
  {
   "cell_type": "markdown",
   "metadata": {},
   "source": [
    "De hecho, puedes usar Python para convertir rápidamente esta cadena en una lista con `.split()`. Entre los paréntesis, debemos indicar el carácter que se debe utilizar para marcar el final de un elemento de la lista y el comienzo de otro, y encerrarlo entre comillas. En este caso, ese carácter es una coma."
   ]
  },
  {
   "cell_type": "code",
   "execution_count": 30,
   "metadata": {},
   "outputs": [
    {
     "name": "stdout",
     "output_type": "stream",
     "text": [
      "pink primrose,hard-leaved pocket orchid,canterbury bells,sweet pea,english marigold,tiger lily,moon orchid,bird of paradise,monkshood,globe thistle\n",
      "<class 'str'>\n"
     ]
    },
    {
     "data": {
      "text/plain": [
       "['pink primrose',\n",
       " 'hard-leaved pocket orchid',\n",
       " 'canterbury bells',\n",
       " 'sweet pea',\n",
       " 'english marigold',\n",
       " 'tiger lily',\n",
       " 'moon orchid',\n",
       " 'bird of paradise',\n",
       " 'monkshood',\n",
       " 'globe thistle']"
      ]
     },
     "execution_count": 30,
     "metadata": {},
     "output_type": "execute_result"
    }
   ],
   "source": [
    "print(flowers)\n",
    "print(type(flowers))\n",
    "flowers.split(',')"
   ]
  },
  {
   "cell_type": "markdown",
   "metadata": {},
   "source": [
    "¡Ahora es tu turno de probar esto! Crea dos listas de Python:\n",
    "\n",
    "- `letters` debe ser una lista de Python donde cada entrada sea una letra mayúscula del alfabeto inglés. Por ejemplo, las dos primeras entradas deben ser `\"A\"` y `\"B\"`, y las dos últimas entradas deben ser `\"Y\"` y `\"Z\"`. Usa alphabet de cadenas para crear esta lista.\n",
    "- `address` debe ser una lista de Python donde cada fila de `address` sea un elemento diferente de la lista. Actualmente, cada fila de `address` está separada por una coma."
   ]
  },
  {
   "cell_type": "code",
   "execution_count": null,
   "metadata": {},
   "outputs": [],
   "source": [
    "# DO not change: Define two Python strings\n",
    "alphabet = \"A.B.C.D.E.F.G.H.I.J.K.L.M.N.O.P.Q.R.S.T.U.V.W.X.Y.Z\"\n",
    "address = \"Mr. H. Potter,The cupboard under the Stairs,4 Privet Drive,Little Whinging,Surrey\"\n",
    "\n",
    "letters = ____\n",
    "formatted_address = ____"
   ]
  },
  {
   "cell_type": "markdown",
   "metadata": {},
   "source": [
    "## Pregunta 4\n",
    "\n",
    "En el curso de Python, aprenderá todo sobre las listas por comprensión, que le permiten crear una lista basada en los valores de otra lista. En esta pregunta, obtendrá una breve vista previa de cómo funcionan.\n",
    "\n",
    "Supongamos que estamos trabajando con la lista que se muestra a continuación."
   ]
  },
  {
   "cell_type": "code",
   "execution_count": 43,
   "metadata": {},
   "outputs": [],
   "source": [
    "test_ratings = [1, 2, 3, 4, 5]"
   ]
  },
  {
   "cell_type": "markdown",
   "metadata": {},
   "source": [
    "Luego podemos usar esta lista (`test_ratings`) para crear una nueva lista (`test_liked`) donde cada elemento se ha convertido en un valor booleano, dependiendo de si el elemento es mayor o igual a cuatro."
   ]
  },
  {
   "cell_type": "code",
   "execution_count": null,
   "metadata": {},
   "outputs": [],
   "source": [
    "# List comprenhention\n",
    "test_linked = [t for t in test_ratings if t>=4]\n",
    "test_linked"
   ]
  },
  {
   "cell_type": "code",
   "execution_count": null,
   "metadata": {},
   "outputs": [],
   "source": [
    "# Loop for\n",
    "test_linked_2 = []\n",
    "for t in test_linked:\n",
    "    if t>= 4:\n",
    "        test_linked_2.append(t)\n",
    "test_linked_2"
   ]
  },
  {
   "cell_type": "code",
   "execution_count": null,
   "metadata": {},
   "outputs": [],
   "source": [
    "# While loop\n",
    "test_linked_3 = []\n",
    "t = 0\n",
    "while t < len(test_ratings): # Permite que se itere en todos valores de la lista\n",
    "    if test_ratings[t] >= 4:\n",
    "        test_linked_3.append(test_ratings[t])\n",
    "    t += 1\n",
    "test_linked_3"
   ]
  },
  {
   "cell_type": "code",
   "execution_count": null,
   "metadata": {},
   "outputs": [],
   "source": [
    "# Respuesta booleana\n",
    "test_linked_bool = [t>=4 for t in test_ratings]\n",
    "test_linked_bool"
   ]
  },
  {
   "cell_type": "code",
   "execution_count": null,
   "metadata": {},
   "outputs": [],
   "source": [
    "# For loop para booleano\n",
    "test_linked_bool_2 = []\n",
    "for t in test_ratings:\n",
    "    test_linked_bool_2.append(t >= 4)\n",
    "\n",
    "test_linked_bool_2"
   ]
  },
  {
   "cell_type": "code",
   "execution_count": null,
   "metadata": {},
   "outputs": [],
   "source": [
    "# While loop para booleano\n",
    "test_linked_bool_3 = []\n",
    "t = 0\n",
    "while t < len(test_ratings):\n",
    "    test_linked_bool_3.append(test_ratings[t] >= 4)\n",
    "    t += 1\n",
    "test_linked_bool_3\n",
    "\n"
   ]
  },
  {
   "cell_type": "markdown",
   "metadata": {},
   "source": [
    "En esta pregunta, usarás esta comprensión de listas para definir una función `percentage_liked()` que toma un argumento como entrada:\n",
    "\n",
    "- `ratings`: lista de calificaciones que las personas le dieron a una película, donde cada calificación es un número entre 1 y 5, inclusive\n",
    "\n",
    "Decimos que a alguien le gustó la película, si le dio una calificación de 4 o 5. Tu función debería devolver el porcentaje de personas a las que les gustó la película.\n",
    "\n",
    "Por ejemplo, si proporcionamos un valor de `[1, 2, 3, 4, 5, 4, 5, 1]`, entonces al 50% (4/8) de las personas les gustó la película y la función debería devolver `0.5`.\n",
    "\n",
    "Parte de la función ya se ha completado para ti. Solo necesitas usar `list_liked` para calcular `percentage_liked`."
   ]
  },
  {
   "cell_type": "code",
   "execution_count": 58,
   "metadata": {},
   "outputs": [
    {
     "data": {
      "text/plain": [
       "0.5"
      ]
     },
     "execution_count": 58,
     "metadata": {},
     "output_type": "execute_result"
    }
   ],
   "source": [
    "def percentage_liked(ratings):\n",
    "    list_liked = [i>=4 for i in ratings]\n",
    "    # TODO: Complete the function\n",
    "    percentage_liked = ____\n",
    "    return percentage_liked\n",
    "\n",
    "# Do not change: should return 0.5\n",
    "percentage_liked([1, 2, 3, 4, 5, 4, 5, 1])"
   ]
  },
  {
   "cell_type": "markdown",
   "metadata": {},
   "source": [
    "### 🌶️ Pregunta 5\n",
    "\n",
    "Supongamos que estás haciendo análisis para un sitio web. Necesitas escribir una función que devuelva el crecimiento porcentual en el número total de usuarios en relación con un número específico de años atrás.\n",
    "\n",
    "Tu función `percentage_growth()` debe tomar dos argumentos como entrada:\n",
    "\n",
    "- `num_users` = lista de Python con el número total de usuarios cada año. Por lo tanto, `num_users[0]` es el número total de usuarios en el primer año, `num_users[1]` es el número total de usuarios en el segundo año, y así sucesivamente. La entrada final en la lista proporciona el número total de usuarios en el año más reciente completado.\n",
    "- `yrs_ago` = número de años que hay que retroceder en el tiempo para calcular el porcentaje de crecimiento\n",
    "\n",
    "Por ejemplo, digamos que `num_users = [920344, 1043553, 1204334, 1458996, 1503323, 1593432, 1623463, 1843064, 1930992, 2001078]`.\n",
    "\n",
    "Si `yrs_ago = 1`, queremos que la función devuelva un valor de aproximadamente `0.036`. Esto corresponde a un crecimiento porcentual de aproximadamente el `3.6 %`, calculado como `(2001078 - 1930992)/1930992`.\n",
    "Si `years_ago = 7`, queremos devolver aproximadamente `0.66`. Esto corresponde a un crecimiento porcentual de aproximadamente el `66 %`, calculado como `(2001078 - 1204334)/1204334`.\n",
    "\n",
    "Su compañero de trabajo le envió un borrador de una función, pero parece que no está realizando el cálculo correcto. ¿Puede averiguar qué salió mal y hacer los cambios necesarios?"
   ]
  },
  {
   "cell_type": "code",
   "execution_count": null,
   "metadata": {},
   "outputs": [],
   "source": [
    "# TODO: Edit the function\n",
    "def percentage_growth(num_users, yrs_ago):\n",
    "    growth = (num_users[len(num_users)-1] - num_users[len(num_users)-yrs_ago])/num_users[len(num_users)-2]\n",
    "    return growth\n",
    "\n",
    "# Do not change: Variable for calculating some test examples\n",
    "num_users_test = [920344, 1043553, 1204334, 1458996, 1503323, 1593432, 1623463, 1843064, 1930992, 2001078]\n",
    "\n",
    "# Do not change: Should return .036\n",
    "print(percentage_growth(num_users_test, 1))\n",
    "\n",
    "# Do not change: Should return 0.66\n",
    "print(percentage_growth(num_users_test, 7))"
   ]
  },
  {
   "cell_type": "code",
   "execution_count": null,
   "metadata": {},
   "outputs": [],
   "source": [
    "def percentage_growth(num_users, yrs_ago):\n",
    "    growth = (num_users[len(num_users)-1] - num_users[len(num_users)-yrs_ago-1])/num_users[len(num_users)-yrs_ago-1]\n",
    "    return growth\n",
    "\n",
    "# Do not change: Variable for calculating some test examples\n",
    "num_users_test = [920344, 1043553, 1204334, 1458996, 1503323, 1593432, 1623463, 1843064, 1930992, 2001078]\n",
    "\n",
    "# Do not change: Should return .036\n",
    "print(percentage_growth(num_users_test, 1))\n",
    "\n",
    "# Do not change: Should return 0.66\n",
    "print(percentage_growth(num_users_test, 7))"
   ]
  }
 ],
 "metadata": {
  "kernelspec": {
   "display_name": "Python 3",
   "language": "python",
   "name": "python3"
  },
  "language_info": {
   "codemirror_mode": {
    "name": "ipython",
    "version": 3
   },
   "file_extension": ".py",
   "mimetype": "text/x-python",
   "name": "python",
   "nbconvert_exporter": "python",
   "pygments_lexer": "ipython3",
   "version": "3.12.0"
  }
 },
 "nbformat": 4,
 "nbformat_minor": 2
}
