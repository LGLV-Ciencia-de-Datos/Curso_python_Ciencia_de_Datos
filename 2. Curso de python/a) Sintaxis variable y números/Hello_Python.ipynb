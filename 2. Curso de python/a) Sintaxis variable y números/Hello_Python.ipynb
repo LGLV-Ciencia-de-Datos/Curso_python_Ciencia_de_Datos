{
 "cells": [
  {
   "cell_type": "markdown",
   "metadata": {},
   "source": [
    "# Hola, Python (Hello, Python)\n",
    "Una rápida introducción a la sintaxis de Python, asignación variable y números"
   ]
  },
  {
   "cell_type": "markdown",
   "metadata": {},
   "source": [
    "Este curso cubre las habilidades clave de Python que necesitarás para empezar a usar Python para la ciencia de datos. El curso es ideal para alguien con alguna experiencia de codificación previa que quiera añadir Python a su repertorio. (Si eres un codificador por primera vez, te animan a visitar nuestro curso de programación de Intro to, que está diseñado para principiantes completos que quisieran empezar con Python.)\n",
    "\n",
    "Comenzaremos con una breve visión general de la sintaxis de Python, asignación variable y operadores aritméticos.\n",
    "### Hola, Python.\n",
    "\n",
    "Python fue nombrado en el nombre de la compañía de comedia británica Monty Python, así que haremos de nuestro primer programa de Python un homenaje a su sketch sobre el spam.\n",
    "\n",
    "Sólo por diversión, intenta leer sobre el código de abajo y predecir lo que va a hacer cuando se ejecute. (Si no tienes ni idea, está bien.)\n",
    "\n",
    "A continuación, haga clic en el botón \"salida\" para ver los resultados de nuestro programa."
   ]
  },
  {
   "cell_type": "code",
   "execution_count": 2,
   "metadata": {},
   "outputs": [
    {
     "name": "stdout",
     "output_type": "stream",
     "text": [
      "0\n",
      "But I don't want ANY spam!\n",
      "Spam Spam Spam Spam \n"
     ]
    }
   ],
   "source": [
    "spam_amount = 0\n",
    "print(spam_amount)\n",
    "\n",
    "# Ordering Spam, egg, Spam, Spam, bacon and Spam (4 more servings of Spam)\n",
    "spam_amount = spam_amount + 4\n",
    "\n",
    "if spam_amount > 0:\n",
    "    print(\"But I don't want ANY spam!\")\n",
    "\n",
    "viking_song = \"Spam \" * spam_amount\n",
    "print(viking_song)"
   ]
  },
  {
   "cell_type": "markdown",
   "metadata": {},
   "source": [
    "Hay mucho que desempacar aquí. Este programa tonto demuestra muchos aspectos importantes de cómo se ve el código Python y cómo funciona. Revisemos el código de arriba abajo."
   ]
  },
  {
   "cell_type": "code",
   "execution_count": 3,
   "metadata": {},
   "outputs": [],
   "source": [
    "spam_amount = 0"
   ]
  },
  {
   "cell_type": "markdown",
   "metadata": {},
   "source": [
    "Asignación variable: Aquí creamos una variable llamada `spam_amount` y asignarle el valor de 0 usando `=`, que se llama el operador de asignación.\n",
    "\n",
    "    Nota: Si has programado en ciertos otros idiomas (como Java o C), puedes estar notando algunas cosas que Python no requiere que hagamos aquí:\n",
    "\n",
    "- No necesitamos \"declarar\" `spam_amount` antes de asignarle un valor.\n",
    "- No necesitamos decirle a Python a qué tipo de valor se refiere `spam_amount`. De hecho, incluso podemos reasignar `spam_amount` para referirnos a un tipo diferente de cosas como una cadena o un booleano."
   ]
  },
  {
   "cell_type": "code",
   "execution_count": 4,
   "metadata": {},
   "outputs": [
    {
     "name": "stdout",
     "output_type": "stream",
     "text": [
      "0\n"
     ]
    }
   ],
   "source": [
    "print(spam_amount)"
   ]
  },
  {
   "cell_type": "markdown",
   "metadata": {},
   "source": [
    "Llamadas a funciones: `print` es una función de Python que muestra el valor que se le pasa en la pantalla. Llamamos a las funciones colocando paréntesis después de su nombre y colocando las entradas (o argumentos) de la función entre esos paréntesis."
   ]
  },
  {
   "cell_type": "code",
   "execution_count": 5,
   "metadata": {},
   "outputs": [],
   "source": [
    "# Ordering Spam, egg, Spam, Spam, bacon and Spam (4 more servings of Spam)\n",
    "spam_amount = spam_amount + 4"
   ]
  },
  {
   "cell_type": "markdown",
   "metadata": {},
   "source": [
    "La primera línea anterior es un comentario. En Python, los comentarios comienzan con el símbolo `#`.\n",
    "\n",
    "A continuación, vemos un ejemplo de reasignación. Reasignar el valor de una variable existente es exactamente igual que crear una variable: todavía se utiliza el operador de asignación `=`.\n",
    "\n",
    "En este caso, el valor que estamos asignando a `spam_amount` implica una aritmética simple sobre su valor anterior. Cuando encuentra esta línea, Python evalúa la expresión del lado derecho de `=` (0 + 4 = 4) y luego asigna ese valor a la variable del lado izquierdo."
   ]
  },
  {
   "cell_type": "code",
   "execution_count": 6,
   "metadata": {},
   "outputs": [
    {
     "name": "stdout",
     "output_type": "stream",
     "text": [
      "But I don't want ANY spam!\n",
      "Spam Spam Spam\n"
     ]
    }
   ],
   "source": [
    "if spam_amount > 0:\n",
    "    print(\"But I don't want ANY spam!\")\n",
    "\n",
    "viking_song = \"Spam Spam Spam\"\n",
    "print(viking_song)"
   ]
  },
  {
   "cell_type": "markdown",
   "metadata": {},
   "source": [
    "No hablaremos mucho sobre los \"condicionales\" hasta más adelante, pero, incluso si nunca has codificado antes, probablemente puedas adivinar lo que esto hace. Python es apreciado por su legibilidad y simplicidad.\n",
    "\n",
    "Observa cómo indicamos qué código pertenece al `if`. `\"But I don't want ANY spam!\"` solo se supone que se imprima si `spam_amount` es positivo. Pero el código posterior (como `print(viking_song)`) se debe ejecutar sin importar qué. ¿Cómo sabemos eso (y Python)?\n",
    "\n",
    "Los dos puntos (`:`) al final de la línea `if` indican que se está iniciando un nuevo bloque de código. Las líneas posteriores que están indentadas (con sangría) son parte de ese bloque de código.\n",
    "\n",
    "- Nota: Si has codificado antes, es posible que sepas que algunos otros lenguajes usan `{`llaves`}` para marcar el comienzo y el final de los bloques de código. El uso de espacios en blanco significativos en Python puede sorprender a los programadores que están acostumbrados a otros lenguajes, pero en la práctica puede conducir a un código más consistente y legible que los lenguajes que no imponen la sangría de los bloques de código.\n",
    "\n",
    "Las líneas posteriores que tratan sobre `viking_song` no tienen sangría con 4 espacios adicionales, por lo que no forman parte del bloque de código del `if`. Veremos más ejemplos de bloques de código con sangría más adelante, cuando definamos funciones y usemos bucles.\n",
    "\n",
    "Este fragmento de código también es la primera vez que vemos una cadena en Python:"
   ]
  },
  {
   "cell_type": "code",
   "execution_count": 7,
   "metadata": {},
   "outputs": [
    {
     "data": {
      "text/plain": [
       "\"But I don't want ANY spam!\""
      ]
     },
     "execution_count": 7,
     "metadata": {},
     "output_type": "execute_result"
    }
   ],
   "source": [
    "\"But I don't want ANY spam!\""
   ]
  },
  {
   "cell_type": "markdown",
   "metadata": {},
   "source": [
    "Las cadenas se pueden marcar con comillas simples o dobles. (Pero como esta cadena en particular contiene un carácter de comilla simple, podríamos confundir a Python si tratamos de rodearla con comillas simples, a menos que tengamos cuidado)."
   ]
  },
  {
   "cell_type": "code",
   "execution_count": 6,
   "metadata": {},
   "outputs": [
    {
     "name": "stdout",
     "output_type": "stream",
     "text": [
      "Spam Spam Spam Spam \n"
     ]
    }
   ],
   "source": [
    "viking_song = \"Spam \" * spam_amount\n",
    "print(viking_song)"
   ]
  },
  {
   "cell_type": "markdown",
   "metadata": {},
   "source": [
    "El operador `*` se puede utilizar para multiplicar dos números (`3 * 3` da como resultado 9), pero también podemos multiplicar una cadena por un número para obtener una versión que se ha repetido tantas veces. Python ofrece una serie de trucos para ahorrar tiempo como este, en el que operadores como `*` y `+` tienen un significado diferente según el tipo de cosa a la que se apliquen (el término técnico para esto es sobrecarga de operadores), LINK: [https://en.wikipedia.org/wiki/Operator_overloading.]"
   ]
  },
  {
   "cell_type": "markdown",
   "metadata": {},
   "source": [
    "### Números y aritmética en Python.\n",
    "\n",
    "Ya hemos visto un ejemplo de una variable que contiene un número:"
   ]
  },
  {
   "cell_type": "code",
   "execution_count": 7,
   "metadata": {},
   "outputs": [],
   "source": [
    "spam_amount = 0"
   ]
  },
  {
   "cell_type": "markdown",
   "metadata": {},
   "source": [
    "\"Number\" es un buen nombre informal para este tipo de cosas, pero si quisiéramos ser más técnicos, podríamos preguntarle a Python cómo describiría el tipo de cosas que es `spam_amoun`:"
   ]
  },
  {
   "cell_type": "code",
   "execution_count": 9,
   "metadata": {},
   "outputs": [
    {
     "data": {
      "text/plain": [
       "int"
      ]
     },
     "execution_count": 9,
     "metadata": {},
     "output_type": "execute_result"
    }
   ],
   "source": [
    "type(spam_amount)"
   ]
  },
  {
   "cell_type": "markdown",
   "metadata": {},
   "source": [
    "`int`, es una abreviatura de entero. Hay otro tipo de número que encontramos comúnmente en Python:"
   ]
  },
  {
   "cell_type": "code",
   "execution_count": 10,
   "metadata": {},
   "outputs": [
    {
     "data": {
      "text/plain": [
       "float"
      ]
     },
     "execution_count": 10,
     "metadata": {},
     "output_type": "execute_result"
    }
   ],
   "source": [
    "type(3.1416)"
   ]
  },
  {
   "cell_type": "markdown",
   "metadata": {},
   "source": [
    "Un `float` es un número con un decimal, muy útil para representar cosas como pesos o proporciones.\n",
    "\n",
    "`type()` es la segunda función incorporada que hemos visto (después de `print()`), y es otra buena para recordar. Es muy útil poder preguntarle a Python \"¿qué tipo de cosa es esto?\".\n",
    "\n",
    "Una cosa natural que se quiere hacer con los números es realizar operaciones aritméticas. Hemos visto el operador `+` para la suma y el operador `*` para la multiplicación. Python también nos ha ayudado con el resto de los botones básicos de la calculadora:"
   ]
  },
  {
   "attachments": {
    "image.png": {
     "image/png": "[encoded data removed]"
    }
   },
   "cell_type": "markdown",
   "metadata": {},
   "source": [
    "![image.png](attachment:image.png)"
   ]
  },
  {
   "cell_type": "markdown",
   "metadata": {},
   "source": [
    "Una observación interesante aquí es que, mientras que su calculadora probablemente sólo tenga un botón para la división, Python puede hacer dos tipos. La \"división verdadera\" es básicamente lo que hace su calculadora:"
   ]
  },
  {
   "cell_type": "code",
   "execution_count": 11,
   "metadata": {},
   "outputs": [
    {
     "name": "stdout",
     "output_type": "stream",
     "text": [
      "2.5\n",
      "3.0\n"
     ]
    }
   ],
   "source": [
    "print(5 / 2)\n",
    "print(6 / 2)"
   ]
  },
  {
   "cell_type": "markdown",
   "metadata": {},
   "source": [
    "Siempre nos da un número flotante (float).\n",
    "\n",
    "El operador // nos da un resultado redondeado hacia abajo al siguiente entero."
   ]
  },
  {
   "cell_type": "code",
   "execution_count": 12,
   "metadata": {},
   "outputs": [
    {
     "name": "stdout",
     "output_type": "stream",
     "text": [
      "2\n",
      "3\n"
     ]
    }
   ],
   "source": [
    "print(5 // 2)\n",
    "print(6 // 2)"
   ]
  },
  {
   "cell_type": "markdown",
   "metadata": {},
   "source": [
    "¿Se te ocurre alguna situación en la que esto podría resultar útil? Pronto verás un ejemplo en los desafíos de codificación."
   ]
  },
  {
   "cell_type": "markdown",
   "metadata": {},
   "source": [
    "### Orden de operaciones\n",
    "\n",
    "La aritmética que aprendimos en la escuela primaria tiene convenciones sobre el orden en que se evalúan las operaciones. Algunos recuerdan estos por una mnemónica como PEMDAS - Parentheses, Exponents, Multiplication/Division, Addition/Subtraction.\n",
    "\n",
    "Python sigue reglas similares sobre las que realizar primero los cálculos. Son casi bastante intuitivos."
   ]
  },
  {
   "cell_type": "code",
   "execution_count": 2,
   "metadata": {},
   "outputs": [
    {
     "data": {
      "text/plain": [
       "7"
      ]
     },
     "execution_count": 2,
     "metadata": {},
     "output_type": "execute_result"
    }
   ],
   "source": [
    "8 - 3 + 2"
   ]
  },
  {
   "cell_type": "code",
   "execution_count": 14,
   "metadata": {},
   "outputs": [
    {
     "data": {
      "text/plain": [
       "5"
      ]
     },
     "execution_count": 14,
     "metadata": {},
     "output_type": "execute_result"
    }
   ],
   "source": [
    "-3 + 4 * 2"
   ]
  },
  {
   "cell_type": "markdown",
   "metadata": {},
   "source": [
    "A veces el orden predeterminado de las operaciones no es lo que queremos:"
   ]
  },
  {
   "cell_type": "code",
   "execution_count": 15,
   "metadata": {},
   "outputs": [
    {
     "name": "stdout",
     "output_type": "stream",
     "text": [
      "Height in meters = 26.9 ?\n"
     ]
    }
   ],
   "source": [
    "hat_height_cm = 25\n",
    "my_height_cm = 190\n",
    "# How tall am I, in meters, when wearing my hat?\n",
    "total_height_meters = hat_height_cm + my_height_cm / 100\n",
    "print(\"Height in meters =\", total_height_meters, \"?\")"
   ]
  },
  {
   "cell_type": "markdown",
   "metadata": {},
   "source": [
    "Los paréntesis son útiles aquí. Puedes agregarlos para obligar a Python a evaluar sub-expresiones en cualquier orden que quieras."
   ]
  },
  {
   "cell_type": "code",
   "execution_count": 16,
   "metadata": {},
   "outputs": [
    {
     "name": "stdout",
     "output_type": "stream",
     "text": [
      "Height in meters = 2.15 ?\n"
     ]
    }
   ],
   "source": [
    "total_height_meters = (hat_height_cm + my_height_cm) / 100\n",
    "print(\"Height in meters =\", total_height_meters, \"?\")"
   ]
  },
  {
   "cell_type": "markdown",
   "metadata": {},
   "source": [
    "### Buiting functions \n",
    "\n",
    "Funciones integradas para trabajar con números\n",
    "\n",
    "`min` y `max` devuelven el mínimo y el máximo de sus argumentos, respectivamente..."
   ]
  },
  {
   "cell_type": "code",
   "execution_count": 17,
   "metadata": {},
   "outputs": [
    {
     "name": "stdout",
     "output_type": "stream",
     "text": [
      "1\n",
      "3\n"
     ]
    }
   ],
   "source": [
    "print(min(1, 2, 3))\n",
    "print(max(1, 2, 3))"
   ]
  },
  {
   "cell_type": "markdown",
   "metadata": {},
   "source": [
    "`abs` devuelve el valor absoluto de un argumento:"
   ]
  },
  {
   "cell_type": "code",
   "execution_count": 18,
   "metadata": {},
   "outputs": [
    {
     "name": "stdout",
     "output_type": "stream",
     "text": [
      "32\n",
      "32\n"
     ]
    }
   ],
   "source": [
    "print(abs(32))\n",
    "print(abs(-32))"
   ]
  },
  {
   "cell_type": "markdown",
   "metadata": {},
   "source": [
    "Además de ser los nombres de los dos tipos numéricos principales de Python, `int` y `float` también pueden llamarse como funciones que convierten sus argumentos al tipo correspondiente:\n"
   ]
  },
  {
   "cell_type": "code",
   "execution_count": 20,
   "metadata": {},
   "outputs": [
    {
     "name": "stdout",
     "output_type": "stream",
     "text": [
      "5.6\n",
      "7.0\n",
      "10.0\n",
      "3\n",
      "808\n"
     ]
    }
   ],
   "source": [
    "a = '5.6'\n",
    "b = '7'\n",
    "\n",
    "print(float(a))\n",
    "print(float(b))\n",
    "\n",
    "print(float(10))\n",
    "print(int(3.33))\n",
    "# They can even be called on strings!\n",
    "print(int('807') + 1)"
   ]
  }
 ],
 "metadata": {
  "kernelspec": {
   "display_name": "base",
   "language": "python",
   "name": "python3"
  },
  "language_info": {
   "codemirror_mode": {
    "name": "ipython",
    "version": 3
   },
   "file_extension": ".py",
   "mimetype": "text/x-python",
   "name": "python",
   "nbconvert_exporter": "python",
   "pygments_lexer": "ipython3",
   "version": "3.13.2"
  }
 },
 "nbformat": 4,
 "nbformat_minor": 2
}
