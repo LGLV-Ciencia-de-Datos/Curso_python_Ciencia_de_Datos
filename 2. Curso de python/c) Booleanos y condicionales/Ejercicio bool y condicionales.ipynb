{
 "cells": [
  {
   "cell_type": "markdown",
   "id": "5e08cc7a",
   "metadata": {},
   "source": [
    "1. Muchos lenguajes de programación tienen la función `sign` disponible de forma nativa. Python no la tiene, ¡pero podemos definir la nuestra!\n",
    "\n",
    "En la celda de abajo, define una función llamada sign que tome un argumento numérico y devuelva -1 si es negativo, 1 si es positivo y 0 si es 0."
   ]
  },
  {
   "cell_type": "code",
   "execution_count": null,
   "id": "d4d3a707",
   "metadata": {},
   "outputs": [],
   "source": [
    "# Tu código va aquí. Define una función llamada 'sign'."
   ]
  },
  {
   "cell_type": "markdown",
   "id": "61aeff0c",
   "metadata": {},
   "source": [
    "2. Hemos decidido añadir \"registro\" (logging) a nuestra función to_smash del [ejercicio anterior]."
   ]
  },
  {
   "cell_type": "code",
   "execution_count": null,
   "id": "82fcedd6",
   "metadata": {},
   "outputs": [],
   "source": [
    "def to_smash(total_candies):\n",
    "    \"\"\"Devuelve el número de caramelos sobrantes que deben ser triturados después de distribuir\n",
    "    el número dado de caramelos de manera equitativa entre 3 amigos.\n",
    "    \n",
    "    >>> to_smash(91)\n",
    "    1\n",
    "    \"\"\"\n",
    "    print(\"Repartiendo:\", total_candies, \"caramelos\")\n",
    "    return total_candies % 3\n",
    "\n",
    "# Cantidad total de dulces\n",
    "\n",
    "# Dulces que se van a repartir\n",
    "smash_candies = to_smash(29)\n",
    "\n",
    "# Dulces que se van a triturar\n",
    "print(f'Dulces que se van a triturar: {smash_candies}')"
   ]
  },
  {
   "cell_type": "markdown",
   "id": "094caea9",
   "metadata": {},
   "source": [
    "¿Qué sucede si la llamamos con total_candies = 1?"
   ]
  },
  {
   "cell_type": "code",
   "execution_count": 14,
   "id": "60df698d",
   "metadata": {},
   "outputs": [
    {
     "name": "stdout",
     "output_type": "stream",
     "text": [
      "Repartiendo: 1 caramelos\n"
     ]
    },
    {
     "data": {
      "text/plain": [
       "1"
      ]
     },
     "execution_count": 14,
     "metadata": {},
     "output_type": "execute_result"
    }
   ],
   "source": [
    "smash_candies = to_smash(1)\n",
    "smash_candies"
   ]
  },
  {
   "cell_type": "markdown",
   "id": "a6357e2f",
   "metadata": {},
   "source": [
    "\"¡Esa gramática no es genial!\n",
    "\n",
    "Modifica la definición en la celda de abajo para corregir la gramática de nuestra declaración print. (Si solo hay un caramelo, deberíamos usar el singular 'candy' en lugar del plural 'candies')\"."
   ]
  },
  {
   "cell_type": "code",
   "execution_count": 15,
   "id": "6a025366",
   "metadata": {},
   "outputs": [
    {
     "name": "stdout",
     "output_type": "stream",
     "text": [
      "Repartiendo 91 caramelos\n",
      "1\n",
      "Repartiendo 1 caramelo\n"
     ]
    },
    {
     "data": {
      "text/plain": [
       "1"
      ]
     },
     "execution_count": 15,
     "metadata": {},
     "output_type": "execute_result"
    }
   ],
   "source": [
    "def to_smash(total_candies):\n",
    "    \"\"\"Devuelve el número de caramelos sobrantes que deben ser aplastados después de distribuir\n",
    "    el número dado de caramelos de manera equitativa entre 3 amigos.\n",
    "    \n",
    "    >>> to_smash(91)\n",
    "    1\n",
    "    \"\"\"\n",
    "    if total_candies == 1:\n",
    "        print(\"Repartiendo\", total_candies, \"caramelo\")\n",
    "    else:\n",
    "        print(\"Repartiendo\", total_candies, \"caramelos\")\n",
    "    return total_candies % 3\n",
    "\n",
    "print(to_smash(91))\n",
    "to_smash(1)"
   ]
  },
  {
   "cell_type": "markdown",
   "id": "9708a0d0",
   "metadata": {},
   "source": [
    "# 3. <span title=\"A bit spicy\" style=\"color: darkgreen \">🌶️</span>\n",
    "\n",
    "En la lección principal hablamos sobre cómo decidir si estamos preparados para el clima. Yo dije que estoy a salvo del clima de hoy si...\n",
    "\n",
    "    tengo un paraguas...\n",
    "\n",
    "    o si la lluvia no es demasiado fuerte y tengo una capucha...\n",
    "\n",
    "    de lo contrario, todavía estoy bien a menos que esté lloviendo y sea un día de trabajo.\n",
    "\n",
    "La función de abajo usa nuestro primer intento de convertir esta lógica en una expresión de Python. Afirmé que había un error en ese código. ¿Puedes encontrarlo?\n",
    "\n",
    "Para demostrar que `prepared_for_weather` tiene un error, crea un conjunto de entradas donde devuelva la respuesta incorrecta. "
   ]
  },
  {
   "cell_type": "code",
   "execution_count": 16,
   "id": "426198d0",
   "metadata": {},
   "outputs": [
    {
     "name": "stdout",
     "output_type": "stream",
     "text": [
      "False\n"
     ]
    }
   ],
   "source": [
    "def prepared_for_weather(have_umbrella, rain_level, have_hood, is_workday):\n",
    "    # No cambies este código. ¡Nuestro objetivo es solo encontrar el error, no arreglarlo!\n",
    "    return have_umbrella or rain_level < 5 and have_hood or not rain_level > 0 and is_workday\n",
    "\n",
    "# Cambia los valores de estas entradas para que representen un caso en el que prepared_for_weather\n",
    "# devuelva la respuesta incorrecta.\n",
    "have_umbrella = False\n",
    "rain_level = 0.0\n",
    "have_hood = False\n",
    "is_workday = False\n",
    "\n",
    "# Verifica lo que la función devuelve dados los valores actuales de las variables anteriores\n",
    "actual = prepared_for_weather(have_umbrella, rain_level, have_hood, is_workday)\n",
    "print(actual)"
   ]
  },
  {
   "cell_type": "markdown",
   "id": "58481cb4",
   "metadata": {},
   "source": [
    "4. La función `is_negative` que se muestra a continuación está implementada correctamente: devuelve `True` si el número dado es negativo y `False` en caso contrario.\n",
    "\n",
    "Sin embargo, es más larga de lo que necesita ser. En realidad, podemos reducir el número de líneas de código en esta función en un 75% manteniendo el mismo comportamiento.\n",
    "\n",
    "Intenta encontrar una versión equivalente que use solo una línea de código y ponla en la función `concise_is_negative`. (PISTA: ni siquiera necesitas la sintaxis ternaria de Python)."
   ]
  },
  {
   "cell_type": "code",
   "execution_count": 17,
   "id": "a639ea8b",
   "metadata": {},
   "outputs": [
    {
     "name": "stdout",
     "output_type": "stream",
     "text": [
      "False\n"
     ]
    }
   ],
   "source": [
    "def is_negative(number):\n",
    "    if number < 0:\n",
    "        return True\n",
    "    else:\n",
    "        return False\n",
    "\n",
    "def concise_is_negative(number):\n",
    "    if number < 0: \n",
    "        return True\n",
    "    else:\n",
    "        return False\n",
    "concise_is_negative(1)\n",
    "print(concise_is_negative(1))"
   ]
  },
  {
   "cell_type": "markdown",
   "id": "1f11f980",
   "metadata": {},
   "source": [
    "4. Las variables booleanas ketchup, mustard y onion representan si un cliente quiere un ingrediente en particular en su hot dog. Queremos implementar una serie de funciones booleanas que correspondan a algunas preguntas de sí o no sobre el pedido del cliente. Por ejemplo:"
   ]
  },
  {
   "cell_type": "code",
   "execution_count": null,
   "id": "fd80459c",
   "metadata": {},
   "outputs": [],
   "source": [
    "def onionless(ketchup, mustard, onion):\n",
    "    \"\"\"Devuelve si el cliente no quiere cebolla.\n",
    "    \"\"\"\n",
    "    return ketchup and mustard and not onion"
   ]
  },
  {
   "cell_type": "code",
   "execution_count": null,
   "id": "45552cc0",
   "metadata": {},
   "outputs": [],
   "source": [
    "def wants_all_toppings(ketchup, mustard, onion):\n",
    "    \"\"\"Devuelve si el cliente quiere \"el completo\" (los 3 aderezos)\n",
    "    \"\"\"\n",
    "    return ketchup and mustard and onion"
   ]
  },
  {
   "cell_type": "code",
   "execution_count": null,
   "id": "7df73c7f",
   "metadata": {},
   "outputs": [],
   "source": [
    "def wants_plain_hotdog(ketchup, mustard, onion):\n",
    "    \"\"\"Devuelve si el cliente quiere un hot dog sencillo sin ningún tipo de aderezo.\n",
    "    \"\"\"\n",
    "    return not (ketchup or mustard or onion)"
   ]
  },
  {
   "cell_type": "code",
   "execution_count": null,
   "id": "10bf8c47",
   "metadata": {},
   "outputs": [],
   "source": [
    "def exactly_one_sauce(ketchup, mustard, onion):\n",
    "    \"\"\"Devuelve si el cliente quiere kétchup o mostaza, pero no ambos.\n",
    "    (Puede que estés familiarizado con esta operación bajo el nombre de \"o exclusivo\" o \"xor\")\n",
    "    \"\"\"\n",
    "    return (mustard and not ketchup) or (ketchup and not mustard)"
   ]
  },
  {
   "cell_type": "markdown",
   "id": "a4c286d9",
   "metadata": {},
   "source": [
    "5. Las variables booleanas 'ketchup', 'mustard' y 'onion' representan si un cliente quiere un ingrediente en particular en su hot dog. Queremos implementar una serie de funciones booleanas que correspondan a preguntas de sí o no sobre el pedido del cliente. Por ejemplo:"
   ]
  },
  {
   "cell_type": "code",
   "execution_count": null,
   "id": "3d12e0fd",
   "metadata": {},
   "outputs": [],
   "source": [
    "def onionless(ketchup, mustard, onion):\n",
    "    \"\"\"Devuelve si el cliente no quiere cebolla.\n",
    "    \"\"\"\n",
    "    return ketchup and mustard and not onion"
   ]
  },
  {
   "cell_type": "markdown",
   "id": "ef57be53",
   "metadata": {},
   "source": [
    "Para cada una de las funciones restantes, completa el cuerpo para que coincida con la descripción en el docstring."
   ]
  },
  {
   "cell_type": "code",
   "execution_count": null,
   "id": "db735023",
   "metadata": {},
   "outputs": [],
   "source": [
    "# Your code here\n",
    "\n",
    "\"\"\"Devuelve si el cliente quiere un hot dog simple sin ningún ingrediente adicional.\n",
    "    \"\"\"\n",
    "    "
   ]
  },
  {
   "cell_type": "code",
   "execution_count": null,
   "id": "b5a1a2c7",
   "metadata": {},
   "outputs": [],
   "source": [
    "# Your code here\n",
    "\n",
    "\"\"\"Devuelve si el cliente quiere ketchup o mostaza, pero no ambas.\n",
    "(Quizás esté familiarizado con esta operación bajo el nombre de \"o exclusiva\")\n",
    "    \"\"\""
   ]
  },
  {
   "cell_type": "markdown",
   "id": "5cb65c3b",
   "metadata": {},
   "source": [
    "## 6. <span title=\"A bit spicy\" style=\"color: darkgreen \">🌶️</span>\n",
    "\n",
    "Hemos visto que al llamar a bool() en un número entero, devuelve False si es igual a 0 y True en cualquier otro caso. ¿Qué sucede si llamamos a int() en un booleano? Pruébalo en la celda del notebook a continuación.\n",
    "\n",
    "¿Puedes aprovechar esto para escribir una función concisa que se corresponda con la frase en español \"¿el cliente quiere exactamente un ingrediente?\"?\n"
   ]
  },
  {
   "cell_type": "code",
   "execution_count": null,
   "id": "cf0f40a1",
   "metadata": {},
   "outputs": [],
   "source": [
    "def exactly_one_topping(ketchup, mustard, onion):\n",
    "    \"\"\"Devuelve si el cliente quiere exactamente uno de los tres ingredientes\n",
    "    disponibles en su hot dog.\n",
    "    \"\"\"\n",
    "    return(___(ketchup) + ___(mustard) + ___(onion)) == 1\n",
    "    pass"
   ]
  },
  {
   "cell_type": "markdown",
   "id": "cba5b315",
   "metadata": {},
   "source": [
    "## 7. <span title=\"A bit spicy\" style=\"color: darkgreen \">🌶️</span>\n",
    "\n",
    "En este problema trabajaremos con una versión simplificada del [blackjack](https://en.wikipedia.org/wiki/Blackjack) (también conocido como veintiuno). En esta versión hay un jugador (al que tú controlarás) y un crupier. El juego se desarrolla de la siguiente manera:\n",
    "\n",
    "    Al jugador se le reparten dos cartas boca arriba. Al crupier se le reparte una carta boca arriba.\n",
    "\n",
    "    El jugador puede pedir que se le reparta otra carta (\"pedir carta\") tantas veces como desee. Si la suma de sus cartas supera 21, pierde la ronda inmediatamente.\n",
    "\n",
    "    El crupier luego se reparte cartas adicionales a sí mismo hasta que se cumpla una de las siguientes condiciones:\n",
    "\n",
    "        la suma de las cartas del crupier supera 21, en cuyo caso el jugador gana la ronda.\n",
    "\n",
    "        la suma de las cartas del crupier es mayor o igual a 17. Si el total del jugador es mayor que el del crupier, el jugador gana. De lo contrario, el crupier gana (incluso en caso de empate).\n",
    "\n",
    "Al calcular la suma de las cartas, la Jota, la Reina y el Rey cuentan como 10. Los Ases pueden contar como 1 u 11 (cuando nos referimos al \"total\" de un jugador, nos referimos al total más grande que se puede obtener sin exceder 21. Así, por ejemplo, A+8 = 19, A+8+8 = 17).\n",
    "\n",
    "Para este problema, escribirás una función que represente la estrategia de toma de decisiones del jugador en este juego. A continuación, te proporcionamos una implementación muy poco inteligente:"
   ]
  },
  {
   "cell_type": "code",
   "execution_count": null,
   "id": "3188ab9e",
   "metadata": {},
   "outputs": [
    {
     "name": "stdout",
     "output_type": "stream",
     "text": [
      "True\n"
     ]
    }
   ],
   "source": [
    "def should_hit(dealer_total, player_total, player_low_aces, player_high_aces):\n",
    "    \"\"\"Devuelve True si el jugador debería pedir otra carta (hit) dado el estado actual del juego,\n",
    "    o False si el jugador debería plantarse (stay).\n",
    "    Al calcular el valor total de una mano, contamos los ases como \"altos\" (con valor 11) si hacerlo\n",
    "    no hace que el total exceda 21; de lo contrario, los contamos como bajos (con valor 1).\n",
    "    Por ejemplo, si la mano del jugador es {A, A, A, 7}, la contaremos como 11 + 1 + 1 + 7,\n",
    "    y por lo tanto estableceremos player_total=20, player_low_aces=2, player_high_aces=1.\n",
    "    \"\"\"\n",
    "\n",
    "    if player_total <= 16 and player_low_aces == 0:\n",
    "        return True\n",
    "    else:\n",
    "        return False\n",
    "    return False\n",
    "should_hit(16, 15, 1, 1)\n",
    "\n"
   ]
  }
 ],
 "metadata": {
  "kernelspec": {
   "display_name": "base",
   "language": "python",
   "name": "python3"
  },
  "language_info": {
   "codemirror_mode": {
    "name": "ipython",
    "version": 3
   },
   "file_extension": ".py",
   "mimetype": "text/x-python",
   "name": "python",
   "nbconvert_exporter": "python",
   "pygments_lexer": "ipython3",
   "version": "3.13.2"
  }
 },
 "nbformat": 4,
 "nbformat_minor": 5
}
