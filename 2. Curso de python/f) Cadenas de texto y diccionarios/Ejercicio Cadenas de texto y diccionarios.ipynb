{
 "cells": [
  {
   "cell_type": "markdown",
   "id": "0856fed9",
   "metadata": {},
   "source": [
    "Vamos a empezar con una ronda rápida de calentamiento sobre cadenas de texto. ¿Cuáles son las longitudes de las siguientes cadenas?\n",
    "\n",
    "Para cada una de las cinco cadenas a continuación, predice qué devolvería len() al pasarle esa cadena. Usa la variable length para registrar tu respuesta, y luego ejecuta la celda para comprobar si acertaste.\n",
    "\n",
    " # 0a."
   ]
  },
  {
   "cell_type": "code",
   "execution_count": null,
   "id": "d6976498",
   "metadata": {},
   "outputs": [],
   "source": [
    "a = \"\"\n",
    "length = ____ # Borra la linea y Coloca aca la longitud de la cadena a"
   ]
  },
  {
   "cell_type": "code",
   "execution_count": null,
   "id": "62fdb800",
   "metadata": {},
   "outputs": [
    {
     "data": {
      "text/plain": [
       "0"
      ]
     },
     "execution_count": 7,
     "metadata": {},
     "output_type": "execute_result"
    }
   ],
   "source": [
    "# Coprueba usando len()"
   ]
  },
  {
   "cell_type": "markdown",
   "id": "aadcf065",
   "metadata": {},
   "source": [
    "# 0b."
   ]
  },
  {
   "cell_type": "code",
   "execution_count": null,
   "id": "13c6983a",
   "metadata": {},
   "outputs": [],
   "source": [
    "b = \"it's ok\"\n",
    "length = ____ # Borra la linea y Coloca aca la longitud de la cadena b"
   ]
  },
  {
   "cell_type": "markdown",
   "id": "7fb9a2c6",
   "metadata": {},
   "source": [
    "# 0c "
   ]
  },
  {
   "cell_type": "code",
   "execution_count": null,
   "id": "2918bd60",
   "metadata": {},
   "outputs": [],
   "source": [
    "c = 'it\\'s ok'\n",
    "length = ____ # Borra la linea y Coloca aca la longitud de la cadena c"
   ]
  },
  {
   "cell_type": "markdown",
   "id": "d29357ae",
   "metadata": {},
   "source": [
    "# 0d"
   ]
  },
  {
   "cell_type": "code",
   "execution_count": null,
   "id": "547731d0",
   "metadata": {},
   "outputs": [],
   "source": [
    "d = \"\"\"hey\"\"\"\n",
    "length = 2 # Borra la linea y Coloca aca la longitud de la cadena d"
   ]
  },
  {
   "cell_type": "markdown",
   "id": "14a8078e",
   "metadata": {},
   "source": [
    "# 0e"
   ]
  },
  {
   "cell_type": "code",
   "execution_count": null,
   "id": "5ac186a8",
   "metadata": {},
   "outputs": [],
   "source": [
    "e = '\\n'\n",
    "length = ____ # Borra la linea y Coloca aca la longitud de la cadena e"
   ]
  },
  {
   "cell_type": "markdown",
   "id": "be8e9005",
   "metadata": {},
   "source": [
    "# 1.\n",
    "\n",
    "Se dice que \"los científicos de datos pasan el 80% de su tiempo limpiando datos y el 20% de su tiempo quejándose de la limpieza de datos.\" Veamos si puedes escribir una función para ayudar a limpiar datos de códigos postales de EE. UU. Dado una cadena de texto, la función debe devolver si esa cadena representa un código postal válido. Para nuestros propósitos, un código postal válido es cualquier cadena que consiste de exactamente 5 dígitos.\n",
    "\n",
    "PISTA: La clase `str` tiene un método que será útil aquí. Usa `help(str)` para revisar una lista de métodos de cadena."
   ]
  },
  {
   "cell_type": "code",
   "execution_count": null,
   "id": "c3d43254",
   "metadata": {},
   "outputs": [],
   "source": [
    "def is_valid_zip(zip_code):\n",
    "    \"\"\"Devuelve si la cadena de entrada es un código postal válido (5 dígitos)\n",
    "    \"\"\"\n",
    "    # return len(zip_code) == 5 and zip_code.isdigit()\n",
    "    pass\n"
   ]
  },
  {
   "cell_type": "code",
   "execution_count": 25,
   "id": "abce1dfa",
   "metadata": {},
   "outputs": [
    {
     "data": {
      "text/plain": [
       "True"
      ]
     },
     "execution_count": 25,
     "metadata": {},
     "output_type": "execute_result"
    }
   ],
   "source": [
    "is_valid_zip('12340')"
   ]
  },
  {
   "cell_type": "markdown",
   "id": "017b4b70",
   "metadata": {},
   "source": [
    "# 2. \n",
    "\n",
    "Un investigador ha reunido miles de artículos de noticias, pero quiere centrar su atención en los que incluyen una palabra específica. Completa la siguiente función para ayudarla a filtrar su lista de artículos.\n",
    "\n",
    "Tu función debe cumplir con los siguientes criterios:\n",
    "\n",
    "    No incluyas documentos donde la cadena de la palabra clave aparezca solo como parte de una palabra más grande. Por ejemplo, si estuviera buscando la palabra clave \"closed\", no incluirías la cadena \"enclosed\".\n",
    "\n",
    "    Ella no quiere que distingas entre mayúsculas y minúsculas. Por lo tanto, la frase \"Closed the case.\" se incluiría cuando la palabra clave sea \"closed\".\n",
    "\n",
    "    No dejes que los puntos o las comas afecten lo que se empareja. \"It is closed.\" se incluiría cuando la palabra clave sea \"closed\". Pero puedes asumir que no hay otros tipos de puntuación."
   ]
  },
  {
   "cell_type": "code",
   "execution_count": null,
   "id": "56abcaba",
   "metadata": {},
   "outputs": [],
   "source": [
    "def word_search(doc_list, keyword):\n",
    "    \"\"\"\n",
    "    Toma una lista de documentos (cada documento es una cadena de texto) y una palabra clave.\n",
    "    Devuelve una lista con los índices de la lista original para todos los documentos\n",
    "    que contengan la palabra clave.\n",
    "\n",
    "    Ejemplo:\n",
    "    lista_doc = [\"El Casino del Desafío Aprende Python.\", \"Compraron un coche\", \"Casinovilla\"]\n",
    "    >>> busqueda_de_palabra(lista_doc, 'casino')\n",
    "    >>> [0]\n",
    "    \"\"\"\n",
    "    pass"
   ]
  },
  {
   "cell_type": "markdown",
   "id": "8225e0ae",
   "metadata": {},
   "source": [
    "# 3.\n",
    "\n",
    "Ahora la investigadora quiere proporcionar varias palabras clave para buscar. Completa la siguiente función para ayudarla.\n",
    "\n",
    "(Se recomienda usar la función `word_search` que acabas de escribir al implementar esta función. Reutilizar el código de esta manera hace que tus programas sean más robustos y legibles, ¡y te ahorra tener que escribir de más!)"
   ]
  },
  {
   "cell_type": "code",
   "execution_count": null,
   "id": "aea187f7",
   "metadata": {},
   "outputs": [],
   "source": [
    "def multi_word_search(doc_list, keywords):\n",
    "    \"\"\"\n",
    "    Toma una lista de documentos (cada documento es una cadena de texto) y una lista de palabras clave.\n",
    "    Devuelve un diccionario donde cada clave es una palabra clave, y el valor es una lista de los índices\n",
    "    (de lista_docs) de los documentos que contienen esa palabra clave.\n",
    "\n",
    "    >>> lista_docs = [\"El Casino del Desafío Aprende Python.\", \"Compraron un coche y un casino\", \"Casinovilla\"]\n",
    "    >>> palabras_clave = ['casino', 'they']\n",
    "    >>> multi_word_search(lista_docs, palabras_clave)\n",
    "    {'casino': [0, 1], 'they': [1]}\n",
    "    \"\"\"\n",
    "    pass"
   ]
  }
 ],
 "metadata": {
  "kernelspec": {
   "display_name": "base",
   "language": "python",
   "name": "python3"
  },
  "language_info": {
   "codemirror_mode": {
    "name": "ipython",
    "version": 3
   },
   "file_extension": ".py",
   "mimetype": "text/x-python",
   "name": "python",
   "nbconvert_exporter": "python",
   "pygments_lexer": "ipython3",
   "version": "3.13.2"
  }
 },
 "nbformat": 4,
 "nbformat_minor": 5
}
