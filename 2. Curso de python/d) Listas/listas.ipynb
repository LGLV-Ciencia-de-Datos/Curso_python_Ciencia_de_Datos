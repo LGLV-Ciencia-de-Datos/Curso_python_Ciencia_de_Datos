{
 "cells": [
  {
   "cell_type": "markdown",
   "id": "bde747f4",
   "metadata": {},
   "source": [
    "# **Lists (Listas)**\n",
    "\n",
    "Las listas en Python representan secuencias ordenadas de valores. Aquí tienes un ejemplo de cómo crearlas:"
   ]
  },
  {
   "cell_type": "code",
   "execution_count": 1,
   "id": "c675c90d",
   "metadata": {},
   "outputs": [],
   "source": [
    "primes = [2, 3, 5, 7, 11]"
   ]
  },
  {
   "cell_type": "markdown",
   "id": "c7f1aeb8",
   "metadata": {},
   "source": [
    "Podemos poner otro tipo de cosas en las listas:"
   ]
  },
  {
   "cell_type": "code",
   "execution_count": 6,
   "id": "ff39b0ee",
   "metadata": {},
   "outputs": [],
   "source": [
    "planets = ['Mercury', 'Venus', 'Earth', 'Mars', 'Jupiter', 'Saturn', 'Uranus', 'Neptune']"
   ]
  },
  {
   "cell_type": "markdown",
   "id": "e8d8bb24",
   "metadata": {},
   "source": [
    "Podemos tener listas de listas:"
   ]
  },
  {
   "cell_type": "code",
   "execution_count": 4,
   "id": "21e412de",
   "metadata": {},
   "outputs": [],
   "source": [
    "hands  = [\n",
    "    ['A', 'Q', 'K'],\n",
    "    ['10', '6', '3'],\n",
    "    ['10', '10', 'J']]\n",
    "\n",
    "hand = [['A', 'Q', 'K'], ['10', '6', '3'], ['10', '10', 'J']]"
   ]
  },
  {
   "cell_type": "markdown",
   "id": "b89f4c6f",
   "metadata": {},
   "source": [
    "Una lista puede contener una mezcla de diferentes tipos de variables."
   ]
  },
  {
   "cell_type": "code",
   "execution_count": 5,
   "id": "60d37d5f",
   "metadata": {},
   "outputs": [],
   "source": [
    "things = [20, 'drops in flowers', help]"
   ]
  },
  {
   "cell_type": "markdown",
   "id": "5e2188d9",
   "metadata": {},
   "source": [
    "### **Indexing (Indexación)**\n",
    "\n",
    "Puedes acceder a los elementos individuales de una lista con corchetes.\n",
    "\n",
    "¿Qué planeta es el más cercano al sol? Python usa indexación basada en cero, por lo que el primer elemento tiene el índice 0."
   ]
  },
  {
   "cell_type": "code",
   "execution_count": 10,
   "id": "c920368d",
   "metadata": {},
   "outputs": [
    {
     "data": {
      "text/plain": [
       "'Mercury'"
      ]
     },
     "execution_count": 10,
     "metadata": {},
     "output_type": "execute_result"
    }
   ],
   "source": [
    "planets[0]"
   ]
  },
  {
   "cell_type": "markdown",
   "id": "ac7d9d13",
   "metadata": {},
   "source": [
    "¿Cuál es el siguiente planeta más cercano?"
   ]
  },
  {
   "cell_type": "code",
   "execution_count": 11,
   "id": "964c683a",
   "metadata": {},
   "outputs": [
    {
     "data": {
      "text/plain": [
       "'Venus'"
      ]
     },
     "execution_count": 11,
     "metadata": {},
     "output_type": "execute_result"
    }
   ],
   "source": [
    "planets[1]"
   ]
  },
  {
   "cell_type": "markdown",
   "id": "a18ebd40",
   "metadata": {},
   "source": [
    "Cuál es el planeta más alejado del Sol?\n",
    "\n",
    "Los elementos al final de la lista se pueden acceder con números negativos, comenzando desde -1."
   ]
  },
  {
   "cell_type": "code",
   "execution_count": 12,
   "id": "1fec3bc4",
   "metadata": {},
   "outputs": [
    {
     "data": {
      "text/plain": [
       "'Neptune'"
      ]
     },
     "execution_count": 12,
     "metadata": {},
     "output_type": "execute_result"
    }
   ],
   "source": [
    "planets[-1]"
   ]
  },
  {
   "cell_type": "markdown",
   "id": "d4156cbd",
   "metadata": {},
   "source": [
    "Cuál es el penúltimo planeta de nuestro sistema solar?\n"
   ]
  },
  {
   "cell_type": "code",
   "execution_count": 13,
   "id": "b004d800",
   "metadata": {},
   "outputs": [
    {
     "data": {
      "text/plain": [
       "'Uranus'"
      ]
     },
     "execution_count": 13,
     "metadata": {},
     "output_type": "execute_result"
    }
   ],
   "source": [
    "planets[-2]"
   ]
  },
  {
   "cell_type": "markdown",
   "id": "78b370d0",
   "metadata": {},
   "source": [
    "### **Slicing (Rebanado)**\n",
    "\n",
    "¿Cuáles son los tres primeros planetas? Podemos responder a esta pregunta usando el *slicing* rebanado:"
   ]
  },
  {
   "cell_type": "code",
   "execution_count": 14,
   "id": "3a02feda",
   "metadata": {},
   "outputs": [
    {
     "data": {
      "text/plain": [
       "['Mercury', 'Venus', 'Earth']"
      ]
     },
     "execution_count": 14,
     "metadata": {},
     "output_type": "execute_result"
    }
   ],
   "source": [
    "planets[0:3]"
   ]
  },
  {
   "cell_type": "markdown",
   "id": "470d551d",
   "metadata": {},
   "source": [
    "`planets[0:3]` es nuestra forma de pedir los elementos de la lista `planets` comenzando desde el índice 0 y continuando hasta el índice 3, pero sin incluirlo.\n",
    "\n",
    "Los índices de inicio y de fin son opcionales. Si omito el índice de inicio, se asume que es 0. Así que podría reescribir la expresión anterior como:"
   ]
  },
  {
   "cell_type": "code",
   "execution_count": 15,
   "id": "74291909",
   "metadata": {},
   "outputs": [
    {
     "data": {
      "text/plain": [
       "['Mercury', 'Venus', 'Earth']"
      ]
     },
     "execution_count": 15,
     "metadata": {},
     "output_type": "execute_result"
    }
   ],
   "source": [
    "planets[:3]"
   ]
  },
  {
   "cell_type": "markdown",
   "id": "a3a67d2d",
   "metadata": {},
   "source": [
    "Si omito el índice final, se asume que es la longitud de la lista."
   ]
  },
  {
   "cell_type": "code",
   "execution_count": 16,
   "id": "1a8da60a",
   "metadata": {},
   "outputs": [
    {
     "data": {
      "text/plain": [
       "['Mars', 'Jupiter', 'Saturn', 'Uranus', 'Neptune']"
      ]
     },
     "execution_count": 16,
     "metadata": {},
     "output_type": "execute_result"
    }
   ],
   "source": [
    "planets[3:]"
   ]
  },
  {
   "cell_type": "markdown",
   "id": "1e4b2b08",
   "metadata": {},
   "source": [
    "i.e. la expresión anterior significa \"dame todos los planetas a partir del índice 3\".\n",
    "\n",
    "También podemos usar índices negativos al rebanar:"
   ]
  },
  {
   "cell_type": "code",
   "execution_count": 19,
   "id": "5e9dc2e7",
   "metadata": {},
   "outputs": [
    {
     "data": {
      "text/plain": [
       "['Venus', 'Earth', 'Mars', 'Jupiter', 'Saturn', 'Uranus']"
      ]
     },
     "execution_count": 19,
     "metadata": {},
     "output_type": "execute_result"
    }
   ],
   "source": [
    "# Los planetas, sin el primero ni el último\n",
    "planets[1:-1]"
   ]
  },
  {
   "cell_type": "code",
   "execution_count": 20,
   "id": "2f13cb73",
   "metadata": {},
   "outputs": [
    {
     "data": {
      "text/plain": [
       "['Saturn', 'Uranus', 'Neptune']"
      ]
     },
     "execution_count": 20,
     "metadata": {},
     "output_type": "execute_result"
    }
   ],
   "source": [
    "# Los útimos 3 planetas\n",
    "planets[-3:]"
   ]
  },
  {
   "cell_type": "markdown",
   "id": "f0ac581c",
   "metadata": {},
   "source": [
    "### **Changing lists (Listas cambiantes)**\n",
    "\n",
    "Las listas son `mutables`, lo que significa que pueden modificarse \"en el mismo lugar\".\n",
    "\n",
    "Una forma de modificar una lista es asignando un nuevo valor a un índice o a una porción de la lista.\n",
    "\n",
    "Por ejemplo, digamos que queremos cambiar el nombre de \"Mars\":"
   ]
  },
  {
   "cell_type": "code",
   "execution_count": 24,
   "id": "fea013d9",
   "metadata": {},
   "outputs": [
    {
     "name": "stdout",
     "output_type": "stream",
     "text": [
      "['Mercury', 'Venus', 'Earth', 'Materazi', 'Jupiter', 'Saturn', 'Uranus', 'Neptune']\n"
     ]
    }
   ],
   "source": [
    "planets[3] = 'Materazi'\n",
    "print(planets)"
   ]
  },
  {
   "cell_type": "markdown",
   "id": "0c8cd167",
   "metadata": {},
   "source": [
    "Hm, eso es bastante largo. Vamos a compensarlo acortando los nombres de los primeros 3 planetas."
   ]
  },
  {
   "cell_type": "code",
   "execution_count": 28,
   "id": "2e40c7a0",
   "metadata": {},
   "outputs": [
    {
     "name": "stdout",
     "output_type": "stream",
     "text": [
      "['Mer', 'Vn', 'Url', 'Mars', 'Jupiter', 'Saturn', 'Uranus', 'Neptune']\n",
      "['Mercury', 'Venus', 'Earth', 'Mars', 'Jupiter', 'Saturn', 'Uranus', 'Neptune']\n"
     ]
    }
   ],
   "source": [
    "planets[:3] = 'Mer', 'Vn', 'Url'\n",
    "print(planets)\n",
    "# Regresemos a sus nombres originales\n",
    "planets[:4] = 'Mercury', 'Venus', 'Earth', 'Mars'\n",
    "print(planets)"
   ]
  },
  {
   "cell_type": "markdown",
   "id": "efe8345b",
   "metadata": {},
   "source": [
    "### **List functions (Funciones de listas)**\n",
    "\n",
    "Python tiene varias funciones útiles para trabajar con listas.\n",
    "\n",
    "`len` da la longitud de una lista:"
   ]
  },
  {
   "cell_type": "code",
   "execution_count": 31,
   "id": "ff74ab38",
   "metadata": {},
   "outputs": [
    {
     "data": {
      "text/plain": [
       "8"
      ]
     },
     "execution_count": 31,
     "metadata": {},
     "output_type": "execute_result"
    }
   ],
   "source": [
    "# ¿Cuantos panetas hay?\n",
    "\n",
    "len(planets)"
   ]
  },
  {
   "cell_type": "markdown",
   "id": "d1783072",
   "metadata": {},
   "source": [
    "`sorted` devuelve una versión ordenada de una lista."
   ]
  },
  {
   "cell_type": "code",
   "execution_count": 32,
   "id": "445a8b14",
   "metadata": {},
   "outputs": [
    {
     "data": {
      "text/plain": [
       "['Earth', 'Jupiter', 'Mars', 'Mercury', 'Neptune', 'Saturn', 'Uranus', 'Venus']"
      ]
     },
     "execution_count": 32,
     "metadata": {},
     "output_type": "execute_result"
    }
   ],
   "source": [
    "sorted(planets)"
   ]
  },
  {
   "cell_type": "markdown",
   "id": "5ac44c2b",
   "metadata": {},
   "source": [
    "`sum` hace lo que podrías esperar."
   ]
  },
  {
   "cell_type": "code",
   "execution_count": 33,
   "id": "5a7def78",
   "metadata": {},
   "outputs": [
    {
     "data": {
      "text/plain": [
       "28"
      ]
     },
     "execution_count": 33,
     "metadata": {},
     "output_type": "execute_result"
    }
   ],
   "source": [
    "sum(primes)"
   ]
  },
  {
   "cell_type": "markdown",
   "id": "6a5afc7e",
   "metadata": {},
   "source": [
    "Anteriormente hemos usado `min` y `max` para obtener el mínimo o el máximo de varios argumentos. Pero también podemos pasar un solo argumento de tipo lista."
   ]
  },
  {
   "cell_type": "code",
   "execution_count": 34,
   "id": "e03c2741",
   "metadata": {},
   "outputs": [
    {
     "data": {
      "text/plain": [
       "11"
      ]
     },
     "execution_count": 34,
     "metadata": {},
     "output_type": "execute_result"
    }
   ],
   "source": [
    "max(primes)"
   ]
  },
  {
   "cell_type": "markdown",
   "id": "988888e3",
   "metadata": {},
   "source": [
    "### **Interlude: objects (Interludio: objetos)**\n",
    "\n",
    "He usado mucho el término \"objeto\" hasta ahora; es posible que incluso hayas leído que todo en Python es un objeto. ¿Qué significa eso?\n",
    "\n",
    "En pocas palabras, los objetos llevan consigo algunas cosas. Accedes a esas cosas usando la sintaxis de puntos de Python.\n",
    "\n",
    "Por ejemplo, los números en Python llevan consigo una variable asociada llamada `imag` que representa su parte imaginaria. (Es probable que nunca necesites usarla a menos que estés haciendo matemáticas muy extrañas)."
   ]
  },
  {
   "cell_type": "code",
   "execution_count": 35,
   "id": "0b1451e2",
   "metadata": {},
   "outputs": [
    {
     "name": "stdout",
     "output_type": "stream",
     "text": [
      "0\n",
      "3.0\n"
     ]
    }
   ],
   "source": [
    "x = 12\n",
    "# x es un número real, por lo que su parte imaginaria es 0.\n",
    "print(x.imag)\n",
    "# Aquí te muestro cómo crear un número complejo, en caso de que alguna vez tuvieras curiosidad:\n",
    "c = 12 + 3j\n",
    "print(c.imag)"
   ]
  },
  {
   "cell_type": "markdown",
   "id": "b74d3632",
   "metadata": {},
   "source": [
    "Las cosas que un objeto puede llevar consigo también pueden incluir funciones. Una función adjunta a un objeto se llama método. (Las cosas no-función adjuntas a un objeto, como imag, se llaman atributos).\n",
    "\n",
    "Por ejemplo, los números tienen un método llamado `bit_length`. De nuevo, lo accedemos usando la sintaxis de punto:"
   ]
  },
  {
   "cell_type": "code",
   "execution_count": 37,
   "id": "c03cea0e",
   "metadata": {},
   "outputs": [
    {
     "data": {
      "text/plain": [
       "<function int.bit_length()>"
      ]
     },
     "execution_count": 37,
     "metadata": {},
     "output_type": "execute_result"
    }
   ],
   "source": [
    "x.bit_length"
   ]
  },
  {
   "cell_type": "markdown",
   "id": "cce764d0",
   "metadata": {},
   "source": [
    "Para llamarla de verdad, añadimos paréntesis:"
   ]
  },
  {
   "cell_type": "markdown",
   "id": "cef3c146",
   "metadata": {},
   "source": [
    "<!-- sorted devuelve una versión ordenada de una lista. -->"
   ]
  },
  {
   "cell_type": "code",
   "execution_count": 38,
   "id": "ae6e0d0e",
   "metadata": {},
   "outputs": [
    {
     "data": {
      "text/plain": [
       "4"
      ]
     },
     "execution_count": 38,
     "metadata": {},
     "output_type": "execute_result"
    }
   ],
   "source": [
    "x.bit_length()"
   ]
  },
  {
   "cell_type": "markdown",
   "id": "972c2677",
   "metadata": {},
   "source": [
    "Así como podemos pasar funciones a la función `help` (por ejemplo, `help(max)`), también podemos pasarle métodos.\n"
   ]
  },
  {
   "cell_type": "code",
   "execution_count": 43,
   "id": "d19fd3c2",
   "metadata": {},
   "outputs": [
    {
     "name": "stdout",
     "output_type": "stream",
     "text": [
      "Help on built-in function bit_length:\n",
      "\n",
      "bit_length() method of builtins.int instance\n",
      "    Number of bits necessary to represent self in binary.\n",
      "\n",
      "    >>> bin(37)\n",
      "    '0b100101'\n",
      "    >>> (37).bit_length()\n",
      "    6\n",
      "\n"
     ]
    }
   ],
   "source": [
    "help(x.bit_length)"
   ]
  },
  {
   "cell_type": "markdown",
   "id": "becf7335",
   "metadata": {},
   "source": [
    "Los ejemplos anteriores eran totalmente oscuros. Ninguno de los tipos de objetos que hemos visto hasta ahora (números, funciones, booleanos) tiene atributos o métodos que probablemente vayas a usar.\n",
    "\n",
    "Pero resulta que las listas tienen varios métodos que usarás todo el tiempo."
   ]
  },
  {
   "cell_type": "markdown",
   "id": "1677682e",
   "metadata": {},
   "source": [
    "### **List methods (Métodos de lista)**\n",
    "\n",
    "`list.append` modifica una lista agregando un ítem al final:"
   ]
  },
  {
   "cell_type": "code",
   "execution_count": 47,
   "id": "ffdb67ae",
   "metadata": {},
   "outputs": [],
   "source": [
    "# !!!pluto es un planeta¡¡¡\n",
    "\n",
    "planets.append('Pluto')\n",
    "# print(planets)"
   ]
  },
  {
   "cell_type": "markdown",
   "id": "0471ac53",
   "metadata": {},
   "source": [
    "¿Por qué la celda de arriba no tiene salida? Vamos a revisar la documentación llamando a `help(planets.append)`.\n",
    "\n",
    "Aparte: `append` es un método que tienen todos los objetos de tipo lista, no solo planets, así que también podríamos haber llamado a `help(list.append)`. Sin embargo, si intentamos llamar a `help(append)`, Python se quejará de que no existe ninguna variable llamada \"append\". El nombre \"append\" solo existe dentro de las listas; no existe como un nombre independiente como las funciones integradas, por ejemplo, `max` o `len`."
   ]
  },
  {
   "cell_type": "code",
   "execution_count": 48,
   "id": "6b4cb4fc",
   "metadata": {},
   "outputs": [
    {
     "name": "stdout",
     "output_type": "stream",
     "text": [
      "Help on built-in function append:\n",
      "\n",
      "append(object, /) method of builtins.list instance\n",
      "    Append object to the end of the list.\n",
      "\n"
     ]
    }
   ],
   "source": [
    "help(planets.append)"
   ]
  },
  {
   "cell_type": "markdown",
   "id": "8eae594f",
   "metadata": {},
   "source": [
    "La parte `-> None` nos dice que `list.append` no devuelve nada. Pero si verificamos el valor de planets, podemos ver que la llamada al método modificó el valor de `planets`:"
   ]
  },
  {
   "cell_type": "code",
   "execution_count": 49,
   "id": "bf738e50",
   "metadata": {},
   "outputs": [
    {
     "data": {
      "text/plain": [
       "['Mercury',\n",
       " 'Venus',\n",
       " 'Earth',\n",
       " 'Mars',\n",
       " 'Jupiter',\n",
       " 'Saturn',\n",
       " 'Uranus',\n",
       " 'Neptune',\n",
       " 'Pluto',\n",
       " 'Pluto',\n",
       " 'Pluto',\n",
       " 'Pluto']"
      ]
     },
     "execution_count": 49,
     "metadata": {},
     "output_type": "execute_result"
    }
   ],
   "source": [
    "planets"
   ]
  },
  {
   "cell_type": "markdown",
   "id": "bc9f2e79",
   "metadata": {},
   "source": [
    "`list.pop` elimina y devuelve el último elemento de una lista."
   ]
  },
  {
   "cell_type": "code",
   "execution_count": 57,
   "id": "f70264f5",
   "metadata": {},
   "outputs": [
    {
     "data": {
      "text/plain": [
       "'Pluto'"
      ]
     },
     "execution_count": 57,
     "metadata": {},
     "output_type": "execute_result"
    }
   ],
   "source": [
    "planets.pop()"
   ]
  },
  {
   "cell_type": "code",
   "execution_count": 58,
   "id": "0fdd4668",
   "metadata": {},
   "outputs": [
    {
     "data": {
      "text/plain": [
       "['Mercury', 'Venus', 'Earth', 'Mars', 'Jupiter', 'Saturn', 'Uranus', 'Neptune']"
      ]
     },
     "execution_count": 58,
     "metadata": {},
     "output_type": "execute_result"
    }
   ],
   "source": [
    "planets"
   ]
  },
  {
   "cell_type": "markdown",
   "id": "2e1c4f12",
   "metadata": {},
   "source": [
    "### **Searching lists (Búsqueda en listas)**\n",
    "\n",
    "¿En qué posición se encuentra la `Earth` en el orden de los planetas? Podemos obtener su índice usando el método list.index."
   ]
  },
  {
   "cell_type": "code",
   "execution_count": 59,
   "id": "e6e03e8a",
   "metadata": {},
   "outputs": [
    {
     "data": {
      "text/plain": [
       "2"
      ]
     },
     "execution_count": 59,
     "metadata": {},
     "output_type": "execute_result"
    }
   ],
   "source": [
    "planets.index('Earth')"
   ]
  },
  {
   "cell_type": "markdown",
   "id": "e62423f0",
   "metadata": {},
   "source": [
    "Aparece tercero (es decir, en el índice 2 - ¡con índice 0!). \n",
    "\n",
    "¿En qué índice se encuentra Plutón?"
   ]
  },
  {
   "cell_type": "code",
   "execution_count": 60,
   "id": "eb3d559d",
   "metadata": {},
   "outputs": [
    {
     "ename": "ValueError",
     "evalue": "'Pluto' is not in list",
     "output_type": "error",
     "traceback": [
      "\u001b[31m---------------------------------------------------------------------------\u001b[39m",
      "\u001b[31mValueError\u001b[39m                                Traceback (most recent call last)",
      "\u001b[36mCell\u001b[39m\u001b[36m \u001b[39m\u001b[32mIn[60]\u001b[39m\u001b[32m, line 1\u001b[39m\n\u001b[32m----> \u001b[39m\u001b[32m1\u001b[39m \u001b[43mplanets\u001b[49m\u001b[43m.\u001b[49m\u001b[43mindex\u001b[49m\u001b[43m(\u001b[49m\u001b[33;43m'\u001b[39;49m\u001b[33;43mPluto\u001b[39;49m\u001b[33;43m'\u001b[39;49m\u001b[43m)\u001b[49m\n",
      "\u001b[31mValueError\u001b[39m: 'Pluto' is not in list"
     ]
    }
   ],
   "source": [
    "planets.index('Pluto')"
   ]
  },
  {
   "cell_type": "markdown",
   "id": "77852426",
   "metadata": {},
   "source": [
    "Oh, es cierto...\n",
    "\n",
    "Para evitar sorpresas desagradables como esta, podemos usar el operador `in` para determinar si una lista contiene un valor en particular:"
   ]
  },
  {
   "cell_type": "code",
   "execution_count": 61,
   "id": "7bafe5e9",
   "metadata": {},
   "outputs": [
    {
     "data": {
      "text/plain": [
       "True"
      ]
     },
     "execution_count": 61,
     "metadata": {},
     "output_type": "execute_result"
    }
   ],
   "source": [
    "# ¿Es Earth un planeta?\n",
    "'Earth' in planets"
   ]
  },
  {
   "cell_type": "code",
   "execution_count": 62,
   "id": "d894ac84",
   "metadata": {},
   "outputs": [
    {
     "data": {
      "text/plain": [
       "False"
      ]
     },
     "execution_count": 62,
     "metadata": {},
     "output_type": "execute_result"
    }
   ],
   "source": [
    "# ¿Es kalanga un planeta?\n",
    "'Kalanga' in planets"
   ]
  },
  {
   "cell_type": "markdown",
   "id": "edb5369d",
   "metadata": {},
   "source": [
    "Hay algunos métodos de lista más interesantes que no hemos cubierto. Si deseas aprender sobre todos los métodos y atributos adjuntos a un objeto en particular, podemos llamar a `help()` en el objeto mismo. Por ejemplo, `help(planets)` nos informará sobre todos los métodos de lista:"
   ]
  },
  {
   "cell_type": "code",
   "execution_count": 64,
   "id": "2b0d2709",
   "metadata": {},
   "outputs": [
    {
     "name": "stdout",
     "output_type": "stream",
     "text": [
      "Help on list object:\n",
      "\n",
      "class list(object)\n",
      " |  list(iterable=(), /)\n",
      " |\n",
      " |  Built-in mutable sequence.\n",
      " |\n",
      " |  If no argument is given, the constructor creates a new empty list.\n",
      " |  The argument must be an iterable if specified.\n",
      " |\n",
      " |  Methods defined here:\n",
      " |\n",
      " |  __add__(self, value, /)\n",
      " |      Return self+value.\n",
      " |\n",
      " |  __contains__(self, key, /)\n",
      " |      Return bool(key in self).\n",
      " |\n",
      " |  __delitem__(self, key, /)\n",
      " |      Delete self[key].\n",
      " |\n",
      " |  __eq__(self, value, /)\n",
      " |      Return self==value.\n",
      " |\n",
      " |  __ge__(self, value, /)\n",
      " |      Return self>=value.\n",
      " |\n",
      " |  __getattribute__(self, name, /)\n",
      " |      Return getattr(self, name).\n",
      " |\n",
      " |  __getitem__(self, index, /)\n",
      " |      Return self[index].\n",
      " |\n",
      " |  __gt__(self, value, /)\n",
      " |      Return self>value.\n",
      " |\n",
      " |  __iadd__(self, value, /)\n",
      " |      Implement self+=value.\n",
      " |\n",
      " |  __imul__(self, value, /)\n",
      " |      Implement self*=value.\n",
      " |\n",
      " |  __init__(self, /, *args, **kwargs)\n",
      " |      Initialize self.  See help(type(self)) for accurate signature.\n",
      " |\n",
      " |  __iter__(self, /)\n",
      " |      Implement iter(self).\n",
      " |\n",
      " |  __le__(self, value, /)\n",
      " |      Return self<=value.\n",
      " |\n",
      " |  __len__(self, /)\n",
      " |      Return len(self).\n",
      " |\n",
      " |  __lt__(self, value, /)\n",
      " |      Return self<value.\n",
      " |\n",
      " |  __mul__(self, value, /)\n",
      " |      Return self*value.\n",
      " |\n",
      " |  __ne__(self, value, /)\n",
      " |      Return self!=value.\n",
      " |\n",
      " |  __repr__(self, /)\n",
      " |      Return repr(self).\n",
      " |\n",
      " |  __reversed__(self, /)\n",
      " |      Return a reverse iterator over the list.\n",
      " |\n",
      " |  __rmul__(self, value, /)\n",
      " |      Return value*self.\n",
      " |\n",
      " |  __setitem__(self, key, value, /)\n",
      " |      Set self[key] to value.\n",
      " |\n",
      " |  __sizeof__(self, /)\n",
      " |      Return the size of the list in memory, in bytes.\n",
      " |\n",
      " |  append(self, object, /)\n",
      " |      Append object to the end of the list.\n",
      " |\n",
      " |  clear(self, /)\n",
      " |      Remove all items from list.\n",
      " |\n",
      " |  copy(self, /)\n",
      " |      Return a shallow copy of the list.\n",
      " |\n",
      " |  count(self, value, /)\n",
      " |      Return number of occurrences of value.\n",
      " |\n",
      " |  extend(self, iterable, /)\n",
      " |      Extend list by appending elements from the iterable.\n",
      " |\n",
      " |  index(self, value, start=0, stop=9223372036854775807, /)\n",
      " |      Return first index of value.\n",
      " |\n",
      " |      Raises ValueError if the value is not present.\n",
      " |\n",
      " |  insert(self, index, object, /)\n",
      " |      Insert object before index.\n",
      " |\n",
      " |  pop(self, index=-1, /)\n",
      " |      Remove and return item at index (default last).\n",
      " |\n",
      " |      Raises IndexError if list is empty or index is out of range.\n",
      " |\n",
      " |  remove(self, value, /)\n",
      " |      Remove first occurrence of value.\n",
      " |\n",
      " |      Raises ValueError if the value is not present.\n",
      " |\n",
      " |  reverse(self, /)\n",
      " |      Reverse *IN PLACE*.\n",
      " |\n",
      " |  sort(self, /, *, key=None, reverse=False)\n",
      " |      Sort the list in ascending order and return None.\n",
      " |\n",
      " |      The sort is in-place (i.e. the list itself is modified) and stable (i.e. the\n",
      " |      order of two equal elements is maintained).\n",
      " |\n",
      " |      If a key function is given, apply it once to each list item and sort them,\n",
      " |      ascending or descending, according to their function values.\n",
      " |\n",
      " |      The reverse flag can be set to sort in descending order.\n",
      " |\n",
      " |  ----------------------------------------------------------------------\n",
      " |  Class methods defined here:\n",
      " |\n",
      " |  __class_getitem__(object, /)\n",
      " |      See PEP 585\n",
      " |\n",
      " |  ----------------------------------------------------------------------\n",
      " |  Static methods defined here:\n",
      " |\n",
      " |  __new__(*args, **kwargs)\n",
      " |      Create and return a new object.  See help(type) for accurate signature.\n",
      " |\n",
      " |  ----------------------------------------------------------------------\n",
      " |  Data and other attributes defined here:\n",
      " |\n",
      " |  __hash__ = None\n",
      "\n"
     ]
    }
   ],
   "source": [
    "help(planets)"
   ]
  },
  {
   "cell_type": "markdown",
   "id": "056b3bcb",
   "metadata": {},
   "source": [
    "Haz clic en el botón \"output\" para ver la página de ayuda completa. Las listas tienen muchos métodos con nombres de aspecto extraño como `__eq__` y `__iadd__`. No te preocupes demasiado por estos por ahora. (Probablemente nunca llamarás a estos métodos directamente, pero se les llama detrás de bambalinas cuando usamos sintaxis como la indexación o los operadores de comparación). Los métodos más interesantes están hacia la parte inferior de la lista (`append`, `clear`, `copy`, etc.)."
   ]
  },
  {
   "cell_type": "markdown",
   "id": "233bd0ef",
   "metadata": {},
   "source": [
    "### **Tuples (Tuplas)**\n",
    "\n",
    "Las tuplas son casi exactamente iguales a las listas. Se diferencian en solo dos cosas.\n",
    "\n",
    "1: La sintaxis para crearlas usa paréntesis en lugar de corchetes"
   ]
  },
  {
   "cell_type": "code",
   "execution_count": 70,
   "id": "3d332a84",
   "metadata": {},
   "outputs": [
    {
     "data": {
      "text/plain": [
       "(1, 2, 3)"
      ]
     },
     "execution_count": 70,
     "metadata": {},
     "output_type": "execute_result"
    }
   ],
   "source": [
    "t1 = (1, 2, 3)\n",
    "t1"
   ]
  },
  {
   "cell_type": "code",
   "execution_count": 71,
   "id": "f6c51a8b",
   "metadata": {},
   "outputs": [
    {
     "data": {
      "text/plain": [
       "tuple"
      ]
     },
     "execution_count": 71,
     "metadata": {},
     "output_type": "execute_result"
    }
   ],
   "source": [
    "type(t1)"
   ]
  },
  {
   "cell_type": "code",
   "execution_count": 72,
   "id": "518f616d",
   "metadata": {},
   "outputs": [
    {
     "data": {
      "text/plain": [
       "(1, 2, 3)"
      ]
     },
     "execution_count": 72,
     "metadata": {},
     "output_type": "execute_result"
    }
   ],
   "source": [
    "t2 = 1, 2, 3 # equivalente a lo anterior\n",
    "t2"
   ]
  },
  {
   "cell_type": "code",
   "execution_count": 73,
   "id": "9550685d",
   "metadata": {},
   "outputs": [
    {
     "data": {
      "text/plain": [
       "tuple"
      ]
     },
     "execution_count": 73,
     "metadata": {},
     "output_type": "execute_result"
    }
   ],
   "source": [
    "type(t2)"
   ]
  },
  {
   "cell_type": "markdown",
   "id": "ada509be",
   "metadata": {},
   "source": [
    "2: No pueden ser modificadas (son inmutables)"
   ]
  },
  {
   "cell_type": "code",
   "execution_count": 77,
   "id": "a43cdbb6",
   "metadata": {},
   "outputs": [
    {
     "ename": "TypeError",
     "evalue": "'tuple' object does not support item assignment",
     "output_type": "error",
     "traceback": [
      "\u001b[31m---------------------------------------------------------------------------\u001b[39m",
      "\u001b[31mTypeError\u001b[39m                                 Traceback (most recent call last)",
      "\u001b[36mCell\u001b[39m\u001b[36m \u001b[39m\u001b[32mIn[77]\u001b[39m\u001b[32m, line 1\u001b[39m\n\u001b[32m----> \u001b[39m\u001b[32m1\u001b[39m \u001b[43mt\u001b[49m\u001b[43m[\u001b[49m\u001b[32;43m0\u001b[39;49m\u001b[43m]\u001b[49m = \u001b[32m4\u001b[39m\n",
      "\u001b[31mTypeError\u001b[39m: 'tuple' object does not support item assignment"
     ]
    }
   ],
   "source": [
    "t[0] = 4"
   ]
  },
  {
   "cell_type": "markdown",
   "id": "64c1b868",
   "metadata": {},
   "source": [
    "Las tuplas se suelen utilizar para funciones que tienen múltiples valores de retorno.\n",
    "\n",
    "Por ejemplo, el método `as_integer_ratio()` de los objetos float devuelve un numerador y un denominador en forma de tupla:"
   ]
  },
  {
   "cell_type": "code",
   "execution_count": 80,
   "id": "979d0133",
   "metadata": {},
   "outputs": [
    {
     "data": {
      "text/plain": [
       "(1, 8)"
      ]
     },
     "execution_count": 80,
     "metadata": {},
     "output_type": "execute_result"
    }
   ],
   "source": [
    "x = 0.125\n",
    "\n",
    "x.as_integer_ratio()"
   ]
  },
  {
   "cell_type": "code",
   "execution_count": 81,
   "id": "fcb4fcf0",
   "metadata": {},
   "outputs": [
    {
     "data": {
      "text/plain": [
       "0.125"
      ]
     },
     "execution_count": 81,
     "metadata": {},
     "output_type": "execute_result"
    }
   ],
   "source": [
    "1/8"
   ]
  },
  {
   "cell_type": "markdown",
   "id": "642a93fd",
   "metadata": {},
   "source": [
    "Estos múltiples valores de retorno se pueden asignar individualmente de la siguiente manera:"
   ]
  },
  {
   "cell_type": "code",
   "execution_count": 88,
   "id": "2ecaf60f",
   "metadata": {},
   "outputs": [
    {
     "name": "stdout",
     "output_type": "stream",
     "text": [
      "Numerator = 1\n",
      "Deniminator = 8\n",
      "It gives = 0.125\n"
     ]
    }
   ],
   "source": [
    "numerator, deniminator = x.as_integer_ratio()\n",
    "# print(numerator/deniminator)\n",
    "print('Numerator =', numerator)\n",
    "print('Deniminator =', deniminator)\n",
    "print('It gives =', numerator/deniminator)"
   ]
  },
  {
   "cell_type": "markdown",
   "id": "f8c87146",
   "metadata": {},
   "source": [
    "¡Finalmente entendemos mejor el clásico Truco de Python™ para intercambiar dos variables!"
   ]
  },
  {
   "cell_type": "code",
   "execution_count": 89,
   "id": "31eb6275",
   "metadata": {},
   "outputs": [
    {
     "name": "stdout",
     "output_type": "stream",
     "text": [
      "0 1\n"
     ]
    }
   ],
   "source": [
    "a = 1\n",
    "b = 0\n",
    "\n",
    "a,b = b,a\n",
    "\n",
    "print(a,b)"
   ]
  }
 ],
 "metadata": {
  "kernelspec": {
   "display_name": "base",
   "language": "python",
   "name": "python3"
  },
  "language_info": {
   "codemirror_mode": {
    "name": "ipython",
    "version": 3
   },
   "file_extension": ".py",
   "mimetype": "text/x-python",
   "name": "python",
   "nbconvert_exporter": "python",
   "pygments_lexer": "ipython3",
   "version": "3.13.2"
  }
 },
 "nbformat": 4,
 "nbformat_minor": 5
}
