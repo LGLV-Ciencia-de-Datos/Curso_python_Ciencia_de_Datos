{
 "cells": [
  {
   "cell_type": "markdown",
   "id": "1e6f9235",
   "metadata": {},
   "source": [
    "# **Ejercicios**"
   ]
  },
  {
   "cell_type": "markdown",
   "id": "a5aaf81b",
   "metadata": {},
   "source": [
    "1. Completa la función a continuación según su docstring."
   ]
  },
  {
   "cell_type": "code",
   "execution_count": 1,
   "id": "8c10bde3",
   "metadata": {},
   "outputs": [],
   "source": [
    "# Python empieza a contar en 0. Por eso, el segundo elemento no está indexado con un 2.\n",
    "\n",
    "def select_second(L):\n",
    "    if len(L) < 2:\n",
    "        return None\n",
    "    return L[1]\n"
   ]
  },
  {
   "cell_type": "code",
   "execution_count": 2,
   "id": "65135669",
   "metadata": {},
   "outputs": [],
   "source": [
    "L = ['Perro', 'Gato', 'Caballo']\n"
   ]
  },
  {
   "cell_type": "code",
   "execution_count": 3,
   "id": "9655a518",
   "metadata": {},
   "outputs": [
    {
     "data": {
      "text/plain": [
       "'Gato'"
      ]
     },
     "execution_count": 3,
     "metadata": {},
     "output_type": "execute_result"
    }
   ],
   "source": [
    "select_second(L)"
   ]
  },
  {
   "cell_type": "markdown",
   "id": "d8b71e00",
   "metadata": {},
   "source": [
    "2. Estás analizando equipos deportivos. Los miembros de cada equipo se almacenan en una lista. El entrenador es el primer nombre de la lista, el capitán es el segundo nombre de la lista y otros jugadores se enumeran después. Estas listas se almacenan en otra lista, que comienza con el mejor equipo y continúa a través de la lista hasta el peor equipo al final. Completa la siguiente función para seleccionar al capitán del peor equipo."
   ]
  },
  {
   "cell_type": "code",
   "execution_count": 4,
   "id": "e3cd796f",
   "metadata": {},
   "outputs": [],
   "source": [
    "def losing_team_captain(teams):\n",
    "    \"\"\"Dada una lista de equipos, donde cada equipo es una lista de nombres,\n",
    "    devuelve el segundo jugador (capitán) del último equipo de la lista.\n",
    "    \"\"\"\n",
    "    return (teams[-1])[1]\n",
    "    pass"
   ]
  },
  {
   "cell_type": "code",
   "execution_count": 5,
   "id": "ab87bce3",
   "metadata": {},
   "outputs": [],
   "source": [
    "teams = [['Jhon', 'Charly', 'Lebron'], ['Michael', 'Scot', 'Gary'], ['Pat', 'Jalen', 'Ben']]"
   ]
  },
  {
   "cell_type": "code",
   "execution_count": 6,
   "id": "55ec255d",
   "metadata": {},
   "outputs": [
    {
     "data": {
      "text/plain": [
       "'Jalen'"
      ]
     },
     "execution_count": 6,
     "metadata": {},
     "output_type": "execute_result"
    }
   ],
   "source": [
    "losing_team_captain(teams)"
   ]
  },
  {
   "cell_type": "markdown",
   "id": "0314c277",
   "metadata": {},
   "source": [
    "3. La próxima versión de Mario Kart incluirá un nuevo objeto extra-frustrante, el Caparazón Morado. Cuando se usa, teletransporta al piloto en último lugar al primer lugar y al piloto en primer lugar al último lugar. Completa la siguiente función para implementar el efecto del Caparazón Morado."
   ]
  },
  {
   "cell_type": "code",
   "execution_count": 7,
   "id": "887305a8",
   "metadata": {},
   "outputs": [],
   "source": [
    "def purple_shell(racers):\n",
    "    \"\"\"Dada una lista de corredores, mueve el corredor en primer lugar (al principio de la lista)\n",
    "    al último lugar y viceversa.\n",
    "    \n",
    "    >>> c = [\"Mario\", \"Bowser\", \"Luigi\"]\n",
    "    >>> caparazon_morado(c)\n",
    "    >>> c\n",
    "    [\"Luigi\", \"Bowser\", \"Mario\"]\n",
    "    \"\"\"\n",
    "    racers[0], racers[-1] = racers[-1], racers[0]\n",
    "    pass"
   ]
  },
  {
   "cell_type": "code",
   "execution_count": 12,
   "id": "d29d13f9",
   "metadata": {},
   "outputs": [
    {
     "data": {
      "text/plain": [
       "['Mario', 'Bowser', 'Luigi']"
      ]
     },
     "execution_count": 12,
     "metadata": {},
     "output_type": "execute_result"
    }
   ],
   "source": [
    "caparazon_morado = [\"Mario\", \"Bowser\", \"Luigi\"]\n",
    "caparazon_morado"
   ]
  },
  {
   "cell_type": "code",
   "execution_count": 13,
   "id": "702b46e8",
   "metadata": {},
   "outputs": [],
   "source": [
    "purple_shell(caparazon_morado)"
   ]
  },
  {
   "cell_type": "code",
   "execution_count": 14,
   "id": "86ba6052",
   "metadata": {},
   "outputs": [
    {
     "data": {
      "text/plain": [
       "['Luigi', 'Bowser', 'Mario']"
      ]
     },
     "execution_count": 14,
     "metadata": {},
     "output_type": "execute_result"
    }
   ],
   "source": [
    "caparazon_morado"
   ]
  },
  {
   "cell_type": "markdown",
   "id": "1b6f3219",
   "metadata": {},
   "source": [
    "4. ¿Cuáles son las longitudes de las siguientes listas? Rellene la variable 'lengths' con sus predicciones. (Intente hacer una predicción para cada lista sin simplemente llamar a `len()` sobre ella.)"
   ]
  },
  {
   "cell_type": "code",
   "execution_count": 93,
   "id": "6390ce94",
   "metadata": {},
   "outputs": [
    {
     "data": {
      "text/plain": [
       "[]"
      ]
     },
     "execution_count": 93,
     "metadata": {},
     "output_type": "execute_result"
    }
   ],
   "source": [
    "a = [1, 2, 3]\n",
    "b = [1, [2, 3]]\n",
    "c = []\n",
    "d = [1, 2, 3][1:]\n",
    "\n",
    "\n",
    "# Coloca tus predicciones en la lista de abajo. La lista 'lengths'\n",
    "# debe contener 4 números: el primero es la longitud de a, el\n",
    "# segundo es la longitud de b, y así sucesivamente.\n",
    "lengths = []\n",
    "lengths"
   ]
  },
  {
   "cell_type": "code",
   "execution_count": null,
   "id": "1f0980de",
   "metadata": {},
   "outputs": [],
   "source": []
  },
  {
   "cell_type": "markdown",
   "id": "12131f7f",
   "metadata": {},
   "source": [
    "## 5. <span title=\"A bit spicy\" style=\"color: darkgreen \">🌶️</span>\n",
    "\n",
    "Estamos usando listas para registrar a las personas que asistieron a nuestra fiesta y el orden en que llegaron. Por ejemplo, la siguiente lista representa una fiesta con 7 invitados, en la que Adela llegó primero y Ford fue el último en llegar:\n",
    "\n",
    "    party_attendees = ['Adela', 'Fleda', 'Owen', 'May', 'Mona', 'Gilbert', 'Ford']\n",
    "\n",
    "\n",
    "Se considera que un invitado llegó 'elegantemente tarde' si llegó después de al menos la mitad de los invitados de la fiesta. Sin embargo, no debe ser el último invitado (eso es pasarse de la raya). En el ejemplo anterior, Mona y Gilbert son los únicos invitados que llegaron elegantemente tarde.\n",
    "\n",
    "Completa la siguiente función, que toma una lista de asistentes a la fiesta y una persona, y nos dice si esa persona llegó elegantemente tarde."
   ]
  },
  {
   "cell_type": "code",
   "execution_count": null,
   "id": "8c8786d9",
   "metadata": {},
   "outputs": [],
   "source": [
    "arrivals = ['Adela', 'Fleda', 'Owen', 'May', 'Mona', 'Gilbert', 'Ford']\n",
    "\n",
    "def fashionably_late(arrivals, name):\n",
    "    \"\"\"Dada una lista ordenada de llegadas a la fiesta y un nombre, devuelve si el invitado con ese nombre llegó con un retraso elegante.\n",
    "    \"\"\"\n",
    "    \n",
    "    if len(arrivals)%2 == 0:\n",
    "        if (arrivals.index(name) > (len(arrivals)/2 - 1)) and (arrivals.index(name) != len(arrivals) - 1):\n",
    "            return True\n",
    "        else:\n",
    "            return False\n",
    "    \n",
    "    elif len(arrivals)%2 == 1:\n",
    "            if (arrivals.index(name) > (len(arrivals)//2)) and (arrivals.index(name) != len(arrivals) -1):\n",
    "                return True\n",
    "            else:\n",
    "                return False\n",
    "      \n",
    "    pass"
   ]
  },
  {
   "cell_type": "code",
   "execution_count": 118,
   "id": "d2579f00",
   "metadata": {},
   "outputs": [
    {
     "data": {
      "text/plain": [
       "True"
      ]
     },
     "execution_count": 118,
     "metadata": {},
     "output_type": "execute_result"
    }
   ],
   "source": [
    "fashionably_late(arrivals, 'Gilbert')"
   ]
  },
  {
   "cell_type": "code",
   "execution_count": 111,
   "id": "9d6057b2",
   "metadata": {},
   "outputs": [],
   "source": [
    "def fashole_late(llegada, nombre):\n",
    "    order = llegada.index(nombre)\n",
    "    return order >= len(llegada)/2 and order != len(llegada) -1\n"
   ]
  },
  {
   "cell_type": "code",
   "execution_count": 112,
   "id": "fb844dd1",
   "metadata": {},
   "outputs": [],
   "source": [
    "# Creamos una lista\n",
    "\n",
    "dsl = ['Margarita', ' Karyna', 'Sebas', 'Benja', 'Jesus', 'Lee']"
   ]
  },
  {
   "cell_type": "code",
   "execution_count": 119,
   "id": "8ccf4527",
   "metadata": {},
   "outputs": [
    {
     "data": {
      "text/plain": [
       "True"
      ]
     },
     "execution_count": 119,
     "metadata": {},
     "output_type": "execute_result"
    }
   ],
   "source": [
    "fashole_late(dsl, 'Benja')"
   ]
  },
  {
   "cell_type": "code",
   "execution_count": 107,
   "id": "c93c2f4c",
   "metadata": {},
   "outputs": [
    {
     "data": {
      "text/plain": [
       "False"
      ]
     },
     "execution_count": 107,
     "metadata": {},
     "output_type": "execute_result"
    }
   ],
   "source": [
    "fashionably_late(arrivals, 'Ford')"
   ]
  }
 ],
 "metadata": {
  "kernelspec": {
   "display_name": "base",
   "language": "python",
   "name": "python3"
  },
  "language_info": {
   "codemirror_mode": {
    "name": "ipython",
    "version": 3
   },
   "file_extension": ".py",
   "mimetype": "text/x-python",
   "name": "python",
   "nbconvert_exporter": "python",
   "pygments_lexer": "ipython3",
   "version": "3.13.2"
  }
 },
 "nbformat": 4,
 "nbformat_minor": 5
}
