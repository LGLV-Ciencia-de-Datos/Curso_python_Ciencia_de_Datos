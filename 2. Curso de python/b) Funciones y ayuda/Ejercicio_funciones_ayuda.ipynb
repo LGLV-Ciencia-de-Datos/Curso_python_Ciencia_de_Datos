{
 "cells": [
  {
   "cell_type": "markdown",
   "id": "37fe3e2c",
   "metadata": {},
   "source": [
    "1. Completa el cuerpo de la siguiente función de acuerdo con su docstring."
   ]
  },
  {
   "cell_type": "code",
   "execution_count": null,
   "id": "2c99a113",
   "metadata": {},
   "outputs": [
    {
     "data": {
      "text/plain": [
       "3.142"
      ]
     },
     "execution_count": 22,
     "metadata": {},
     "output_type": "execute_result"
    }
   ],
   "source": [
    "def round_to_two_places(num):\n",
    "    \"\"\"Devuelve el número dado redondeado a dos decimales.\n",
    "\n",
    "            round_to_two_places(3.14159)\n",
    "            3.14\n",
    "    \"\"\"\n",
    "# Reemplace este cuerpo con su propio código.\n",
    "\n",
    "# (\"pass\" es una palabra clave que literalmente no hace nada. La usamos como un marcador de posición\n",
    "\n",
    "# porque después de que comenzamos un bloque de código, Python requiere al menos una línea de código)\n",
    "    return round(num,3)\n",
    "round(3.14159)"
   ]
  },
  {
   "cell_type": "markdown",
   "id": "a52fb787",
   "metadata": {},
   "source": [
    "2. La ayuda para `round` dice que `ndigits` (el segundo argumento) puede ser negativo. ¿Qué crees que sucederá cuando lo sea? Intenta algunos ejemplos en la siguiente celda.\n",
    "\n",
    "¿Se te ocurre algún caso en el que esto podría ser útil?"
   ]
  },
  {
   "cell_type": "code",
   "execution_count": null,
   "id": "6dd43562",
   "metadata": {},
   "outputs": [],
   "source": [
    "# Prueba tu codigo aca.\n",
    "def round_sa_negative(sum):\n",
    "    return round(sum, -1)\n",
    "r1 = round(2.23456)\n",
    "r2 = round(34.23467)\n",
    "r3 = round(314.0678)\n",
    "print(r1, r2, r3, sep = ', ')"
   ]
  },
  {
   "cell_type": "markdown",
   "id": "ed8af1a4",
   "metadata": {},
   "source": [
    "3. En un problema de programación anterior, los amigos que compartían dulces, Alice, Bob y Carol, intentaron dividir los dulces de manera equitativa. Por el bien de su amistad, cualquier dulce que sobrara sería destruido. Por ejemplo, si en total traen a casa 91 dulces, cada uno se quedará con 30 y destruirán 1.\n",
    "\n",
    "A continuación se muestra una función simple que calculará la cantidad de dulces a destruir para cualquier número total de dulces.\n",
    "\n",
    "Modifícala para que opcionalmente acepte un segundo argumento que represente la cantidad de amigos entre los que se dividen los dulces. Si no se proporciona un segundo argumento, debe asumir 3 amigos, como antes.\n",
    "\n",
    "Actualiza el docstring para reflejar este nuevo comportamiento."
   ]
  },
  {
   "cell_type": "code",
   "execution_count": null,
   "id": "7d2bbffe",
   "metadata": {},
   "outputs": [
    {
     "name": "stdout",
     "output_type": "stream",
     "text": [
      "3, 1, 4\n"
     ]
    }
   ],
   "source": [
    "def to_smash(total_candies, ___):\n",
    "    \"\"\"Devuelve el número de dulces sobrantes que deben ser triturados después de distribuir\n",
    "la cantidad de dulces dada de manera equitativa entre una cantidad determinada de amigos.\n",
    "    \n",
    "    >>> to_smash(91)\n",
    "    1\n",
    "    \"\"\"\n",
    "    return total_candies % friends\n",
    "ts1 = to_smash(___, ___)\n",
    "ts2 = to_smash(___, ___)\n",
    "ts3 = to_smash(___, ___)\n",
    "print(ts1, ts2, ts3, sep = ', ')"
   ]
  },
  {
   "cell_type": "markdown",
   "id": "0a03e81b",
   "metadata": {},
   "source": [
    "4. Puede que no sea divertido, pero leer y entender los mensajes de error será una parte importante de tu carrera en Python.\n",
    "\n",
    "Cada celda de código a continuación contiene algo de código con errores comentado. Para cada celda...\n",
    "\n",
    "Lee el código y predice lo que crees que sucederá cuando se ejecute.\n",
    "Luego, descomenta el código y ejecútalo para ver qué sucede. (Consejo: En el editor de kernel, puedes resaltar varias líneas y presionar ctrl+/ para alternar los comentarios).\n",
    "Arregla el código (para que cumpla su propósito previsto sin lanzar una excepción)."
   ]
  },
  {
   "cell_type": "code",
   "execution_count": null,
   "id": "1d772a3a",
   "metadata": {},
   "outputs": [
    {
     "data": {
      "text/plain": [
       "3.14"
      ]
     },
     "execution_count": 42,
     "metadata": {},
     "output_type": "execute_result"
    }
   ],
   "source": [
    "# Este código redondea el valor de num a 2 decimales.\n",
    "#def ruound_to_two_places(num):\n",
    "    #return (num, 2) \n",
    "    #return round(num, 2)\n",
    "\n",
    "#ruound_to_two_places(3.14159)"
   ]
  },
  {
   "cell_type": "code",
   "execution_count": null,
   "id": "6e9319c2",
   "metadata": {},
   "outputs": [
    {
     "name": "stdout",
     "output_type": "stream",
     "text": [
      "smallest_abs: 5\n"
     ]
    }
   ],
   "source": [
    "# Este código identifica el valor absoluto minimo entre dos variable.\n",
    "x = -10 \n",
    "y = 5\n",
    "#smallest_abs = min((x), (y))\n",
    "#smallest_abs = min(abs(x), abs(y))\n",
    "# ¿Cual de las dos variables anteriores, tiene el valor absoluto mas pequeño? \n",
    "print(\"smallest_abs:\", smallest_abs )"
   ]
  },
  {
   "cell_type": "code",
   "execution_count": null,
   "id": "0938d0b3",
   "metadata": {},
   "outputs": [],
   "source": [
    "#Este código define a una funcion que arroja solo valores absolutos de cualquier número.\n",
    "def f(x):\n",
    "    y = abs(x)\n",
    "    return y\n",
    "f()"
   ]
  }
 ],
 "metadata": {
  "kernelspec": {
   "display_name": "base",
   "language": "python",
   "name": "python3"
  },
  "language_info": {
   "codemirror_mode": {
    "name": "ipython",
    "version": 3
   },
   "file_extension": ".py",
   "mimetype": "text/x-python",
   "name": "python",
   "nbconvert_exporter": "python",
   "pygments_lexer": "ipython3",
   "version": "3.13.2"
  }
 },
 "nbformat": 4,
 "nbformat_minor": 5
}
