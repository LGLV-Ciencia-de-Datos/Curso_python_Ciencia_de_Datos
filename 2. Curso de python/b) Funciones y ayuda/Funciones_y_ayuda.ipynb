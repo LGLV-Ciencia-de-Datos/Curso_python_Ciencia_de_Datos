{
 "cells": [
  {
   "cell_type": "markdown",
   "id": "9743c7bc",
   "metadata": {},
   "source": [
    "# Funciones y obtener ayuda\n",
    "Llamando funciones y definiendo la nuestra, y usando la documentación de Python."
   ]
  },
  {
   "cell_type": "markdown",
   "id": "c730fb11",
   "metadata": {},
   "source": [
    "Ya has visto y usado funciones como `print` y `abs`. Pero Python tiene muchas más funciones, y definir sus propias funciones es una gran parte de la programación de pitones.\n",
    "\n",
    "En esta lección, aprenderás más sobre el uso y definición de funciones."
   ]
  },
  {
   "cell_type": "markdown",
   "id": "762c94ea",
   "metadata": {},
   "source": [
    "# Obtengiendo ayuda\n",
    "\n",
    "Viste la función `abs` en el tutorial anterior, pero y si has olvidado lo que hace?\n",
    "\n",
    "La función de `help()` es posiblemente la función Python más importante que puedes aprender. Si puede recordar cómo usar la `help()`, tiene la clave para entender la mayoría de las otras funciones.\n",
    "\n",
    "He aquí un ejemplo:"
   ]
  },
  {
   "cell_type": "code",
   "execution_count": null,
   "id": "cb851190",
   "metadata": {},
   "outputs": [],
   "source": [
    "help(round)"
   ]
  },
  {
   "cell_type": "markdown",
   "id": "4f617b1c",
   "metadata": {},
   "source": [
    "`help()` muestra dos cosas:\n",
    "\n",
    "1. El encabezado de esa función `round(number, ndigits=None)`. En este caso, esto nos dice que `round()` toma un argumento que podemos describir como `number`. Además, podemos dar opcionalmente un argumento separado que podría describirse como `ndigits`.\n",
    "2. Una breve descripción en inglés de lo que hace la función.\n"
   ]
  },
  {
   "cell_type": "markdown",
   "id": "57a5b2d9",
   "metadata": {},
   "source": [
    "Errores comunes y cómo evitarlos\n",
    "\n",
    "Un error común al buscar una función es que debes pasar el nombre de la función, no el resultado de llamarla.\n",
    "\n",
    "¿Qué sucede si usamos `help` en el resultado de llamar a la función `round()`? Para ver la respuesta, simplemente revisa la salida de la celda de abajo."
   ]
  },
  {
   "cell_type": "code",
   "execution_count": null,
   "id": "9d5f2a74",
   "metadata": {},
   "outputs": [],
   "source": [
    "help(round(-2.01))"
   ]
  },
  {
   "cell_type": "markdown",
   "id": "8a40ae1e",
   "metadata": {},
   "source": [
    "Python evalúa una expresión como esta desde adentro hacia afuera. Primero calcula el valor de la `round(-2.01)`, luego proporciona ayuda en la salida de esa expresión.\n",
    "\n",
    "(Y resulta tener mucho que decir sobre los enteros. Después de hablar más tarde de objetos, métodos y atributos en Python, la salida de ayuda arriba tendrá más sentido.)\n",
    "\n",
    "`round` es una función muy simple con una cadena de documentación corta. `help` brilla aún más cuando se trata de funciones más complejas y configurables como `print`. No te preocupes si el siguiente resultado parece incomprensible... por ahora, solo mira si puedes sacar algo nuevo de esta ayuda."
   ]
  },
  {
   "cell_type": "code",
   "execution_count": null,
   "id": "b2c34bf5",
   "metadata": {},
   "outputs": [],
   "source": [
    "help(print)"
   ]
  },
  {
   "cell_type": "markdown",
   "id": "b6d8ef7d",
   "metadata": {},
   "source": [
    "Si lo estuvieras buscando, podrías descubrir que `print` puede aceptar un argumento llamado `sep`, y que este describe lo que se pone entre todos los demás argumentos cuando los imprimimos."
   ]
  },
  {
   "cell_type": "markdown",
   "id": "d03ccf0b",
   "metadata": {},
   "source": [
    "# Definición de funciones\n",
    "\n",
    "Las funciones integradas son geniales, pero solo podemos llegar hasta cierto punto con ellas antes de que necesitemos empezar a definir nuestras propias funciones. A continuación se muestra un ejemplo sencillo."
   ]
  },
  {
   "cell_type": "code",
   "execution_count": 4,
   "id": "a0432a40",
   "metadata": {},
   "outputs": [],
   "source": [
    "def least_difference(a, b, c):\n",
    "    diff1 = abs(a - b)\n",
    "    diff2 = abs(b - c)\n",
    "    diff3 = abs(a - c)\n",
    "    return min(diff1, diff2, diff3)"
   ]
  },
  {
   "cell_type": "markdown",
   "id": "56840e14",
   "metadata": {},
   "source": [
    "Esto crea una función llamada `least_difference`, que toma tres argumentos: `a`, `b` y `c`.\n",
    "\n",
    "Las funciones comienzan con un encabezado introducido por la palabra clave `def`. El bloque de código con sangría que sigue a los dos puntos `:` se ejecuta cuando se llama a la función.\n",
    "\n",
    "`return` es otra palabra clave asociada únicamente con las funciones. Cuando Python encuentra una instrucción `return`, sale de la función de inmediato y pasa el valor del lado derecho al contexto de la llamada.\n",
    "\n",
    "¿Queda claro lo que hace `least_difference()` a partir del código fuente? Si no estamos seguros, siempre podemos probarlo con algunos ejemplos:"
   ]
  },
  {
   "cell_type": "code",
   "execution_count": null,
   "id": "d18f6c27",
   "metadata": {},
   "outputs": [],
   "source": [
    "print(\n",
    "    least_difference(1, 10, 100),\n",
    "    least_difference(1, 10, 10),\n",
    "    least_difference(5, 6, 7), # Python allows trailing commas in argument lists. How nice is that?\n",
    ")"
   ]
  },
  {
   "cell_type": "markdown",
   "id": "e1ab9b5d",
   "metadata": {},
   "source": [
    "Tal vez la función `help()` pueda decirnos algo al respecto."
   ]
  },
  {
   "cell_type": "code",
   "execution_count": null,
   "id": "877bdea8",
   "metadata": {},
   "outputs": [],
   "source": [
    "help(least_difference)"
   ]
  },
  {
   "cell_type": "markdown",
   "id": "de0583b5",
   "metadata": {},
   "source": [
    "Python no es lo suficientemente inteligente como para leer mi código y convertirlo en una buena descripción en inglés. Sin embargo, cuando escribo una función, puedo proporcionar una descripción en lo que se conoce como un docstring."
   ]
  },
  {
   "cell_type": "markdown",
   "id": "0fc525b0",
   "metadata": {},
   "source": [
    "# Docstrings"
   ]
  },
  {
   "cell_type": "code",
   "execution_count": 10,
   "id": "05893e27",
   "metadata": {},
   "outputs": [],
   "source": [
    "def least_difference(a, b, c):\n",
    "    \"\"\"Devuelve la menor diferencia entre dos números cualesquiera entre a, b y c.\n",
    "    \n",
    "    >>> least_difference(1, 5, -5)\n",
    "    4\n",
    "    \"\"\"\n",
    "    diff1 = abs(a - b)\n",
    "    diff2 = abs(b - c)\n",
    "    diff3 = abs(a - c)\n",
    "    return min(diff1, diff2, diff3)"
   ]
  },
  {
   "cell_type": "markdown",
   "id": "6fccffed",
   "metadata": {},
   "source": [
    "La docstring es una cadena entre comillas triples (que puede ocupar varias líneas) que se coloca inmediatamente después del encabezado de una función. Cuando llamamos a `help()`  en una función, esta muestra la docstring."
   ]
  },
  {
   "cell_type": "code",
   "execution_count": null,
   "id": "61f54dc2",
   "metadata": {},
   "outputs": [],
   "source": [
    "help(least_difference)"
   ]
  },
  {
   "cell_type": "markdown",
   "id": "c1211b73",
   "metadata": {},
   "source": [
    "Nota Aparte: Las últimas dos líneas del docstring son un ejemplo de cómo se podría llamar a la función y cuál sería el resultado. (El `>>>` es una referencia al indicador de línea de comando que se usa en las shells interactivas de Python). Python no ejecuta la llamada de ejemplo, solo está allí para el beneficio del lector. La convención de incluir uno o más ejemplos de llamadas en el docstring de una función no es algo que se observe universalmente, pero puede ser muy eficaz para ayudar a alguien a entender tu función. Para ver un ejemplo del mundo real, consulta este docstring de la función `np.eye` de la librería `numpy`.\n"
   ]
  },
  {
   "cell_type": "markdown",
   "id": "5df1d0c3",
   "metadata": {},
   "source": [
    "Los buenos programadores usan docstrings a menos que esperen descartar el código poco después de usarlo (lo cual es raro). Así que, ¡tú también deberías empezar a escribir docstrings!"
   ]
  },
  {
   "cell_type": "markdown",
   "id": "2c748fea",
   "metadata": {},
   "source": [
    "# Funciones que no devuelven\n",
    "\n",
    "¿Qué pasaría si no incluyéramos la palabra clave `return` en nuestra función?"
   ]
  },
  {
   "cell_type": "code",
   "execution_count": null,
   "id": "369a8dec",
   "metadata": {},
   "outputs": [],
   "source": [
    "def least_difference(a, b, c):\n",
    "    \"\"\"Return the smallest difference between any two numbers\n",
    "    among a, b and c.\n",
    "    \"\"\"\n",
    "    diff1 = abs(a - b)\n",
    "    diff2 = abs(b - c)\n",
    "    diff3 = abs(a - c)\n",
    "    min(diff1, diff2, diff3)\n",
    "    \n",
    "print(\n",
    "    least_difference(1, 10, 100),\n",
    "    least_difference(1, 10, 10),\n",
    "    least_difference(5, 6, 7),\n",
    ")"
   ]
  },
  {
   "cell_type": "markdown",
   "id": "665f01e2",
   "metadata": {},
   "source": [
    "Python nos permite definir este tipo de funciones. El resultado de llamarlas es el valor especial `None`. (Esto es similar al concepto de \"null\" en otros lenguajes).\n",
    "\n",
    "Sin una sentencia `return`, `least_difference` no tiene ningún sentido, pero una función con efectos secundarios puede hacer algo útil sin devolver nada. Ya hemos visto dos ejemplos de esto: `print()` y `help()` no devuelven nada. Solo los llamamos por sus efectos secundarios (poner un texto en la pantalla). Otros ejemplos de efectos secundarios útiles incluyen escribir en un archivo o modificar una entrada."
   ]
  },
  {
   "cell_type": "code",
   "execution_count": 13,
   "id": "7ddb4fe3",
   "metadata": {},
   "outputs": [
    {
     "name": "stdout",
     "output_type": "stream",
     "text": [
      "\n",
      "None\n"
     ]
    }
   ],
   "source": [
    "mystery = print()\n",
    "print(mystery)"
   ]
  },
  {
   "cell_type": "markdown",
   "id": "c5ae31f4",
   "metadata": {},
   "source": [
    "Cuando llamamos a `help(print)`, vimos que la función `print` tiene varios argumentos opcionales. Por ejemplo, podemos especificar un valor para `sep` para colocar alguna cadena de caracteres especial entre nuestros argumentos impresos:"
   ]
  },
  {
   "cell_type": "code",
   "execution_count": null,
   "id": "78440cb2",
   "metadata": {},
   "outputs": [],
   "source": [
    "print(1,2,3, sep = '_')"
   ]
  },
  {
   "cell_type": "markdown",
   "id": "1ff0feb5",
   "metadata": {},
   "source": [
    "Si no especificamos un valor, el separador `sep` se trata como si tuviera un valor predeterminado de `' '` (un solo espacio)."
   ]
  },
  {
   "cell_type": "code",
   "execution_count": null,
   "id": "2aafda7a",
   "metadata": {},
   "outputs": [],
   "source": [
    "print(1,2,3)"
   ]
  },
  {
   "cell_type": "markdown",
   "id": "65622170",
   "metadata": {},
   "source": [
    "Añadir argumentos opcionales con valores predeterminados a las funciones que definimos resulta ser bastante fácil:"
   ]
  },
  {
   "cell_type": "code",
   "execution_count": null,
   "id": "ba624e63",
   "metadata": {},
   "outputs": [],
   "source": [
    "def greet(who=\"Luis\"):\n",
    "    print(\"Hello,\", who)\n",
    "    \n",
    "greet()\n",
    "greet(who=\"Germán\")\n",
    "# (En este caso, no necesitamos especificar el nombre del argumento, porque no es ambiguo.)\n",
    "greet(\"world\")"
   ]
  },
  {
   "cell_type": "markdown",
   "id": "591cb509",
   "metadata": {},
   "source": [
    "# Funciones aplicadas a funciones\n",
    "\n",
    "Esto es algo muy potente, aunque al principio puede parecer muy abstracto. Puedes proporcionar funciones como argumentos a otras funciones. Un ejemplo puede aclararlo:"
   ]
  },
  {
   "cell_type": "code",
   "execution_count": 20,
   "id": "35782ac4",
   "metadata": {},
   "outputs": [
    {
     "name": "stdout",
     "output_type": "stream",
     "text": [
      "5\n",
      "25\n"
     ]
    }
   ],
   "source": [
    "def mult_by_five(x):\n",
    "    return 5 * x\n",
    "\n",
    "def call(fn, arg):\n",
    "    \"\"\"Llama a fn en arg\"\"\"\n",
    "    return fn(arg)\n",
    "\n",
    "def squared_call(fn, arg):\n",
    "    \"\"\"Llama a fn en el resultado de llamar a fn en arg\"\"\"\n",
    "    return fn(fn(arg))\n",
    "\n",
    "print(\n",
    "    call(mult_by_five, 1),\n",
    "    squared_call(mult_by_five, 1), \n",
    "    sep='\\n', # \\n es el carácter de nueva línea, que inicia una nueva línea\n",
    ")"
   ]
  },
  {
   "cell_type": "markdown",
   "id": "405828f5",
   "metadata": {},
   "source": [
    "Las funciones que operan sobre otras funciones se llaman \"funciones de orden superior\". Probablemente no escribirás una por un tiempo, pero hay funciones de orden superior ya integradas en Python que te resultará útil llamar.\n",
    "\n",
    "Aquí hay un ejemplo interesante usando la función `max`.\n",
    "\n",
    "Por defecto, `max` devuelve el mayor de sus argumentos. Pero si le pasamos una función usando el argumento opcional  `key`, devuelve el argumento `x` que maximiza `key(x)` (también conocido como el \"argmax\")."
   ]
  },
  {
   "cell_type": "code",
   "execution_count": 21,
   "id": "0348e95d",
   "metadata": {},
   "outputs": [
    {
     "name": "stdout",
     "output_type": "stream",
     "text": [
      "¿Qué número es el más grande?\n",
      "100\n",
      "¿Qué número es el más grande módulo 5?\n",
      "14\n"
     ]
    }
   ],
   "source": [
    "def mod_5(x):\n",
    "    \"\"\"Devuelve el resto de x al dividir por 5\"\"\"\n",
    "    return x % 5\n",
    "\n",
    "print(\n",
    "    '¿Qué número es el más grande?',\n",
    "    max(100, 51, 14),\n",
    "    '¿Qué número es el más grande módulo 5?',\n",
    "    max(100, 51, 14, key=mod_5),\n",
    "    sep='\\n',\n",
    ")\n"
   ]
  },
  {
   "cell_type": "code",
   "execution_count": 24,
   "id": "51f14e7d",
   "metadata": {},
   "outputs": [
    {
     "data": {
      "text/plain": [
       "(0, 1, 4)"
      ]
     },
     "execution_count": 24,
     "metadata": {},
     "output_type": "execute_result"
    }
   ],
   "source": [
    "100%5, 51%5, 14%5"
   ]
  },
  {
   "cell_type": "code",
   "execution_count": 25,
   "id": "e3584548",
   "metadata": {},
   "outputs": [
    {
     "data": {
      "text/plain": [
       "(20.0, 10.2, 2.8)"
      ]
     },
     "execution_count": 25,
     "metadata": {},
     "output_type": "execute_result"
    }
   ],
   "source": [
    "100/5, 51/5, 14/5"
   ]
  }
 ],
 "metadata": {
  "kernelspec": {
   "display_name": "base",
   "language": "python",
   "name": "python3"
  },
  "language_info": {
   "codemirror_mode": {
    "name": "ipython",
    "version": 3
   },
   "file_extension": ".py",
   "mimetype": "text/x-python",
   "name": "python",
   "nbconvert_exporter": "python",
   "pygments_lexer": "ipython3",
   "version": "3.13.2"
  }
 },
 "nbformat": 4,
 "nbformat_minor": 5
}
