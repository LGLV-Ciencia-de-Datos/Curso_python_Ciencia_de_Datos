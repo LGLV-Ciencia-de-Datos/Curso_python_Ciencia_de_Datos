{
 "cells": [
  {
   "cell_type": "markdown",
   "id": "9b11d81c",
   "metadata": {},
   "source": [
    "1. ¿Alguna vez has sentido que depurar código tiene un poco de suerte? El siguiente programa tiene un error. Trata de identificarlo y corregirlo."
   ]
  },
  {
   "cell_type": "code",
   "execution_count": null,
   "id": "4a091947",
   "metadata": {},
   "outputs": [],
   "source": [
    "def has_lucky_number(nums):\n",
    "    \"\"\"Devuelve si la lista de números dada es afortunada.\n",
    "    Una lista afortunada contiene al menos un número divisible por 7.\n",
    "    \"\"\"\n",
    "    for num in nums:\n",
    "        if num % 7 == 0:\n",
    "            return True\n",
    "        else:\n",
    "            return False           "
   ]
  },
  {
   "cell_type": "code",
   "execution_count": 27,
   "id": "e6d158f9",
   "metadata": {},
   "outputs": [
    {
     "data": {
      "text/plain": [
       "False"
      ]
     },
     "execution_count": 27,
     "metadata": {},
     "output_type": "execute_result"
    }
   ],
   "source": [
    "has_lucky_number(range(1,7))"
   ]
  },
  {
   "cell_type": "code",
   "execution_count": 5,
   "id": "d14f6d9d",
   "metadata": {},
   "outputs": [],
   "source": [
    "def has_lucky_number(nums):\n",
    "    return any([num % 7 == 0 for num in nums])"
   ]
  },
  {
   "cell_type": "code",
   "execution_count": 6,
   "id": "b716b6f4",
   "metadata": {},
   "outputs": [
    {
     "data": {
      "text/plain": [
       "True"
      ]
     },
     "execution_count": 6,
     "metadata": {},
     "output_type": "execute_result"
    }
   ],
   "source": [
    "has_lucky_number(range(20))"
   ]
  },
  {
   "cell_type": "code",
   "execution_count": null,
   "id": "ad4f2ff5",
   "metadata": {},
   "outputs": [],
   "source": [
    "def any_luky_num(numbers):\n",
    "    # which = [n for n in numbers if n % 7 == 0]\n",
    "    # which = [n % 7 == 0 for n in numbers]\n",
    "    print(which) \n"
   ]
  },
  {
   "cell_type": "code",
   "execution_count": 29,
   "id": "fb06062e",
   "metadata": {},
   "outputs": [
    {
     "name": "stdout",
     "output_type": "stream",
     "text": [
      "[]\n"
     ]
    }
   ],
   "source": [
    "any_luky_num(range(1,7))"
   ]
  },
  {
   "cell_type": "markdown",
   "id": "ef7e8cbc",
   "metadata": {},
   "source": [
    "2. Echa un vistazo a la siguiente expresión en Python. ¿Qué crees que obtendremos cuando la ejecutemos? Cuando tengas tu predicción, quita el comentario del código y ejecuta la celda para ver si tenías razón."
   ]
  },
  {
   "cell_type": "code",
   "execution_count": 34,
   "id": "9f2bfce8",
   "metadata": {},
   "outputs": [],
   "source": [
    "#[1, 2, 3, 4] > 2"
   ]
  },
  {
   "cell_type": "markdown",
   "id": "cb941255",
   "metadata": {},
   "source": [
    "R y Python tienen algunas librerías (como NumPy y Pandas) que comparan cada elemento de una lista con un número (por ejemplo, 2), haciendo una 'comparación elemento a elemento' y nos devuelven una lista de valores booleanos como `[False, False, True, True]`.\n",
    "\n",
    "Implementa una función que reproduzca este comportamiento, devolviendo una lista de valores booleanos que indiquen si el elemento correspondiente es mayor que 'n'."
   ]
  },
  {
   "cell_type": "code",
   "execution_count": null,
   "id": "e93d3f65",
   "metadata": {},
   "outputs": [],
   "source": [
    "def elementwise_greater_than(L, thresh):\n",
    "    \"\"\"Devuelve una lista con la misma longitud que L, donde el valor en el\n",
    "    índice i es True si L[i] es mayor que el thresh, y False en caso contrario.\n",
    "\n",
    "    >>> elementwise_greater_than([1, 2, 3, 4], 2)\n",
    "    [False, False, True, True]\n",
    "    \"\"\"\n",
    "    # greter = [n > thresh for n in L]\n",
    "    # return greter\n",
    "    pass"
   ]
  },
  {
   "cell_type": "code",
   "execution_count": 36,
   "id": "1df8d35c",
   "metadata": {},
   "outputs": [
    {
     "data": {
      "text/plain": [
       "[3, 4]"
      ]
     },
     "execution_count": 36,
     "metadata": {},
     "output_type": "execute_result"
    }
   ],
   "source": [
    "numbers = [1, 2, 3, 4]\n",
    "greater_than_2 = [n for n in numbers if n > 2]\n",
    "greater_than_2"
   ]
  },
  {
   "cell_type": "code",
   "execution_count": 37,
   "id": "585def84",
   "metadata": {},
   "outputs": [],
   "source": [
    "def greater_2(numbers):\n",
    "    return[n > 2 for n in numbers]"
   ]
  },
  {
   "cell_type": "code",
   "execution_count": 38,
   "id": "3ed59ee8",
   "metadata": {},
   "outputs": [
    {
     "data": {
      "text/plain": [
       "[False, False, True, True]"
      ]
     },
     "execution_count": 38,
     "metadata": {},
     "output_type": "execute_result"
    }
   ],
   "source": [
    "greater_2(numbers)"
   ]
  },
  {
   "cell_type": "markdown",
   "id": "edff20cc",
   "metadata": {},
   "source": [
    "3. Completa el cuerpo de la siguiente función de acuerdo con su docstring."
   ]
  },
  {
   "cell_type": "code",
   "execution_count": null,
   "id": "18933a9b",
   "metadata": {},
   "outputs": [],
   "source": [
    "def menu_is_boring(meals):\n",
    "    \"\"\"Dada una lista de comidas servidas durante un período de tiempo,\n",
    "    devuelve True si la misma comida se ha servido dos días seguidos\n",
    "    alguna vez, y False en caso contrario.\n",
    "    \"\"\" \n",
    "    pass\n"
   ]
  },
  {
   "cell_type": "markdown",
   "id": "49904821",
   "metadata": {},
   "source": [
    "# 4. <span title=\"A bit spicy\" style=\"color: darkgreen \">🌶️</span>\n",
    "\n",
    "Junto a la mesa de Blackjack, el Casino del Desafío de Python tiene una máquina tragamonedas. Puedes obtener un resultado de la máquina tragamonedas llamando a `play_slot_machine()`. El número que devuelve son tus ganancias en dólares. Normalmente devuelve 0. Pero a veces tendrás suerte y conseguirás un gran premio. Intenta ejecutarlo a continuación: \n",
    "\n",
    "En promedio, ¿cuánto dinero puedes esperar ganar (o perder) cada vez que juegas en la máquina? El casino lo mantiene en secreto, pero puedes estimar el valor promedio de cada jugada utilizando una técnica llamada método de Monte Carlo. Para estimar el resultado promedio, simulamos el escenario muchas veces y devolvemos el resultado promedio.\n",
    "\n",
    "Completa la siguiente función para calcular el valor promedio por jugada de la máquina tragaperras."
   ]
  },
  {
   "cell_type": "code",
   "execution_count": null,
   "id": "ee50cd6e",
   "metadata": {},
   "outputs": [],
   "source": [
    "def estimate_average_slot_payout(n_runs):\n",
    "    \"\"\"Ejecuta la máquina tragamonedas n_runs y devuelve\n",
    "    la ganancia neta promedio por ejecución.\n",
    "\n",
    "    Ejemplos de llamadas (¡ten en cuenta que el valor de retorno\n",
    "    no es determinista!):\n",
    "    >>> estimar_ganancia_promedio_tragamonedas(1)\n",
    "    -1\n",
    "    >>> estimar_ganancia_promedio_tragamonedas(1)\n",
    "    0.5\n",
    "    \"\"\"\n",
    "    pass"
   ]
  },
  {
   "cell_type": "code",
   "execution_count": 19,
   "id": "9c61802c",
   "metadata": {},
   "outputs": [
    {
     "name": "stdout",
     "output_type": "stream",
     "text": [
      "Ganancia promedio estimada después de 10 jugadas: 0.10\n"
     ]
    }
   ],
   "source": [
    "import random\n",
    "\n",
    "def play_slot_machine():\n",
    "    \"\"\"\n",
    "    Simula una partida de máquina tragamonedas.\n",
    "    Cuesta $1 para jugar.\n",
    "    Devuelve la cantidad de dinero ganada.\n",
    "    \"\"\"\n",
    "    p = random.random()\n",
    "\n",
    "    if p < 0.5:\n",
    "        return 0\n",
    "    elif p < 0.7:\n",
    "        return 1.5\n",
    "    elif p < 0.9:\n",
    "        return 2\n",
    "    else:\n",
    "        return 150\n",
    "\n",
    "# ----------------------------------------------------\n",
    "\n",
    "def estimate_average_slot_payout(n_runs):\n",
    "    \"\"\"\n",
    "    Ejecuta la máquina tragamonedas n_runs veces y devuelve\n",
    "    la ganancia neta promedio por ejecución.\n",
    "    \n",
    "    Ejemplos de llamadas (¡ten en cuenta que el valor de retorno\n",
    "    no es determinista!):\n",
    "    >>> estimate_average_slot_payout(1)\n",
    "    -1\n",
    "    >>> estimate_average_slot_payout(1)\n",
    "    0.5\n",
    "    \"\"\"\n",
    "    total_winnings = 0\n",
    "    \n",
    "    # Simula n_runs partidas de la máquina tragamonedas\n",
    "    for i in range(n_runs):\n",
    "        total_winnings += play_slot_machine()\n",
    "    \n",
    "    # Calcula la ganancia neta total (ganancias - costo total)\n",
    "    net_profit = total_winnings - n_runs\n",
    "    \n",
    "    # Devuelve la ganancia neta promedio por jugada\n",
    "    return net_profit / n_runs\n",
    "\n",
    "# ----------------------------------------------------\n",
    "\n",
    "# Ejemplo de uso:\n",
    "# Estima la ganancia promedio después de 100,000 jugadas\n",
    "num_runs = 10\n",
    "average_profit = estimate_average_slot_payout(num_runs)\n",
    "\n",
    "print(f\"Ganancia promedio estimada después de {num_runs} jugadas: {average_profit:.2f}\")"
   ]
  }
 ],
 "metadata": {
  "kernelspec": {
   "display_name": "base",
   "language": "python",
   "name": "python3"
  },
  "language_info": {
   "codemirror_mode": {
    "name": "ipython",
    "version": 3
   },
   "file_extension": ".py",
   "mimetype": "text/x-python",
   "name": "python",
   "nbconvert_exporter": "python",
   "pygments_lexer": "ipython3",
   "version": "3.13.2"
  }
 },
 "nbformat": 4,
 "nbformat_minor": 5
}
