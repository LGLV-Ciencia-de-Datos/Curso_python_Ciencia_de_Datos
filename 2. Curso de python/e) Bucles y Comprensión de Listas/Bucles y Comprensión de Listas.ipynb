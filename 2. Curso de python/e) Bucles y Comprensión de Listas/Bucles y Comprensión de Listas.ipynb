{
 "cells": [
  {
   "cell_type": "markdown",
   "id": "97ba6a6a",
   "metadata": {},
   "source": [
    "\n",
    "# **Loops and List Comprehensions** (Bucles y Comprensión de Listas)\n"
   ]
  },
  {
   "cell_type": "markdown",
   "id": "3ef0459f",
   "metadata": {},
   "source": [
    "`for` y `while` loops, y una característica de Python muy apreciada: las `list comprehensions`."
   ]
  },
  {
   "cell_type": "markdown",
   "id": "33f36ba7",
   "metadata": {},
   "source": [
    "### **Loops (Bucles)**\n",
    "\n",
    "Los bucles son una forma de ejecutar repetidamente un mismo código. Aquí tienes un ejemplo:"
   ]
  },
  {
   "cell_type": "markdown",
   "id": "c2790fa1",
   "metadata": {},
   "source": [
    "# **for loop**"
   ]
  },
  {
   "cell_type": "code",
   "execution_count": 18,
   "id": "67d9a5ec",
   "metadata": {},
   "outputs": [
    {
     "name": "stdout",
     "output_type": "stream",
     "text": [
      "Mercury Venus Earth Mars Jupiter Saturn Uranus Neptune "
     ]
    }
   ],
   "source": [
    "planets = ['Mercury', 'Venus', 'Earth', 'Mars', 'Jupiter', 'Saturn', 'Uranus', 'Neptune']\n",
    "for planet in planets:\n",
    "    print(planet, end=' ') # print all on same line. Muestrt todos en una sola linea."
   ]
  },
  {
   "cell_type": "markdown",
   "id": "ed75b840",
   "metadata": {},
   "source": [
    "El bucle `for` especifica:\n",
    "\n",
    "- el nombre de la variable a usar (en este caso, `planet`)\n",
    "\n",
    "- el conjunto de valores sobre los que iterar (en este caso, `planets`)\n",
    "\n",
    "Usas la palabra `in` para vincularlos.\n",
    "\n",
    "El objeto a la derecha del `in` puede ser cualquier objeto que admita iteración. Básicamente, si se puede pensar en él como un grupo de cosas, probablemente puedas iterar sobre él. Además de las listas, podemos iterar sobre los elementos de una tupla:"
   ]
  },
  {
   "cell_type": "code",
   "execution_count": null,
   "id": "7f903889",
   "metadata": {},
   "outputs": [],
   "source": [
    "multiplicands = (2, 2, 2, 3, 3, 5)\n",
    "product = 1\n",
    "for mult in multiplicands:\n",
    "    product = product * mult\n",
    "product"
   ]
  },
  {
   "cell_type": "markdown",
   "id": "d71370d1",
   "metadata": {},
   "source": [
    "Puedes incluso recorrer cada carácter en una cadena de texto:"
   ]
  },
  {
   "cell_type": "code",
   "execution_count": null,
   "id": "33e9241a",
   "metadata": {},
   "outputs": [],
   "source": [
    "s = 'steganograpHy is the practicE of conceaLing a file, message, \\\n",
    "    image, or video within another fiLe, message, image, Or video. data goten from the Librarie UbiquItouS teganography'\n",
    "msg = ''\n",
    "# print all the uppercase letters in s, one at a time\n",
    "for char in s:\n",
    "    if char.isupper():\n",
    "        print(char, end='')  "
   ]
  },
  {
   "cell_type": "markdown",
   "id": "598e836c",
   "metadata": {},
   "source": [
    "range()\n",
    "\n",
    "range() es una función que devuelve una secuencia de números. Es muy útil para escribir bucles.\n",
    "\n",
    "Por ejemplo, si queremos repetir alguna acción 5 veces:"
   ]
  },
  {
   "cell_type": "code",
   "execution_count": null,
   "id": "1e779e2a",
   "metadata": {},
   "outputs": [],
   "source": [
    "for i in range(5):\n",
    "    print('Haciendo un trabajo importante. i =', i)"
   ]
  },
  {
   "cell_type": "markdown",
   "id": "904b2dd5",
   "metadata": {},
   "source": [
    "# **while loop**"
   ]
  },
  {
   "cell_type": "markdown",
   "id": "e2f66225",
   "metadata": {},
   "source": [
    "### Bucles while\n",
    "\n",
    "El otro tipo de bucle en Python es el bucle while, que itera hasta que se cumple una condición:"
   ]
  },
  {
   "cell_type": "code",
   "execution_count": null,
   "id": "a0d3d642",
   "metadata": {},
   "outputs": [],
   "source": [
    "i = 0\n",
    "while i < 10:\n",
    "    print(i, end=' ')\n",
    "    i += 1 # incrementa el valor de i por 1"
   ]
  },
  {
   "cell_type": "markdown",
   "id": "06a7db54",
   "metadata": {},
   "source": [
    "El argumento del bucle `while` se evalúa como una declaración booleana, y el bucle se ejecuta hasta que la declaración se evalúa como `False`."
   ]
  },
  {
   "cell_type": "markdown",
   "id": "1f491c79",
   "metadata": {},
   "source": [
    "# **List comprehensions**\n",
    "\n",
    "Las list comprehensions son una de las características más queridas y únicas de Python. La forma más fácil de entenderlas es probablemente viendo algunos ejemplos.\n"
   ]
  },
  {
   "cell_type": "code",
   "execution_count": 16,
   "id": "adce7eb3",
   "metadata": {},
   "outputs": [
    {
     "name": "stdout",
     "output_type": "stream",
     "text": [
      "[0, 1, 4, 9, 16, 25, 36, 49, 64, 81]\n"
     ]
    }
   ],
   "source": [
    "cuadrados = [x**2 for x in range(10)]\n",
    "print(cuadrados)"
   ]
  },
  {
   "cell_type": "code",
   "execution_count": 43,
   "id": "fab6da9b",
   "metadata": {},
   "outputs": [
    {
     "data": {
      "text/plain": [
       "[0, 1, 4, 9, 16, 25, 36, 49, 64, 81]"
      ]
     },
     "execution_count": 43,
     "metadata": {},
     "output_type": "execute_result"
    }
   ],
   "source": [
    "cuadra2 = []\n",
    "for y in range(10):\n",
    "    cuadra2.append(y**2)\n",
    "cuadra2"
   ]
  },
  {
   "cell_type": "markdown",
   "id": "6d105ebb",
   "metadata": {},
   "source": [
    "Podemos también agregar una condición `if`:"
   ]
  },
  {
   "cell_type": "code",
   "execution_count": 51,
   "id": "0e2e0ec1",
   "metadata": {},
   "outputs": [
    {
     "data": {
      "text/plain": [
       "['Mercury', 'Venus', 'Earth', 'Mars', 'Jupiter', 'Saturn', 'Uranus', 'Neptune']"
      ]
     },
     "execution_count": 51,
     "metadata": {},
     "output_type": "execute_result"
    }
   ],
   "source": [
    "planets"
   ]
  },
  {
   "cell_type": "code",
   "execution_count": 49,
   "id": "8fafcdc2",
   "metadata": {},
   "outputs": [
    {
     "data": {
      "text/plain": [
       "['Saturn', 'Uranus']"
      ]
     },
     "execution_count": 49,
     "metadata": {},
     "output_type": "execute_result"
    }
   ],
   "source": [
    "short_l_planets = [planet for planet in planets if len(planet) == 6] # Mustra los planetas que tienen menos de 6 letras\n",
    "short_l_planets"
   ]
  },
  {
   "cell_type": "markdown",
   "id": "f03e8e32",
   "metadata": {},
   "source": [
    "Aquí hay un ejemplo de cómo filtrar con una condición `if` y aplicar alguna transformación a la variable del bucle:"
   ]
  },
  {
   "cell_type": "code",
   "execution_count": 59,
   "id": "ec5f01c4",
   "metadata": {},
   "outputs": [
    {
     "data": {
      "text/plain": [
       "['Mercury!', 'Jupiter!', 'Neptune!']"
      ]
     },
     "execution_count": 59,
     "metadata": {},
     "output_type": "execute_result"
    }
   ],
   "source": [
    "# str.upper() devuelve una versión de un texto en mayúsculas.\n",
    "\n",
    "upper_planets = [planet.title() + '!' for planet in planets if len(planet) > 6]\n",
    "upper_planets"
   ]
  },
  {
   "cell_type": "markdown",
   "id": "5ac8775c",
   "metadata": {},
   "source": [
    "Se escribir esto en una sola línea, pero la estructura podría parecer más clara si se divide en 3 líneas:"
   ]
  },
  {
   "cell_type": "code",
   "execution_count": 63,
   "id": "a698413a",
   "metadata": {},
   "outputs": [
    {
     "data": {
      "text/plain": [
       "['SATURN!', 'URANUS!']"
      ]
     },
     "execution_count": 63,
     "metadata": {},
     "output_type": "execute_result"
    }
   ],
   "source": [
    "[\n",
    "    planet.upper() + '!' \n",
    "    for planet in planets \n",
    "    if len(planet) == 6\n",
    "    \n",
    "]\n",
    "\n"
   ]
  },
  {
   "cell_type": "markdown",
   "id": "02d6588d",
   "metadata": {},
   "source": [
    "La expresión de la izquierda no tiene por qué involucrar a la variable del bucle (aunque sería bastante inusual que no lo hiciera). ¿Qué crees que evaluará la siguiente expresión? Presiona el botón 'output' para comprobarlo."
   ]
  },
  {
   "cell_type": "code",
   "execution_count": 64,
   "id": "c431ea5d",
   "metadata": {},
   "outputs": [
    {
     "data": {
      "text/plain": [
       "[32, 32, 32, 32, 32, 32, 32, 32]"
      ]
     },
     "execution_count": 64,
     "metadata": {},
     "output_type": "execute_result"
    }
   ],
   "source": [
    "[32 for planet in planets]"
   ]
  },
  {
   "cell_type": "markdown",
   "id": "b81e0028",
   "metadata": {},
   "source": [
    "Las list comprehensions combinadas con funciones como `min`, `max` y `sum` pueden dar lugar a impresionantes soluciones de una sola línea para problemas que de otro modo requerirían varias líneas de código.\n",
    "\n",
    "Por ejemplo, compara las siguientes dos celdas de código que hacen lo mismo."
   ]
  },
  {
   "cell_type": "code",
   "execution_count": 1,
   "id": "ccb7a8d6",
   "metadata": {},
   "outputs": [],
   "source": [
    "def count_negatives(nums):\n",
    "    \"\"\"Devuelve el número de números negativos en la lista dada.\n",
    "\n",
    "    >>> contar_negativos([5, -1, -2, 0, 3])\n",
    "    2\n",
    "    \"\"\"\n",
    "    n_negative = 0\n",
    "    for num in nums:\n",
    "        if num < 0:\n",
    "            n_negative = n_negative + 1\n",
    "    return n_negative"
   ]
  },
  {
   "cell_type": "code",
   "execution_count": 7,
   "id": "a2266ea7",
   "metadata": {},
   "outputs": [
    {
     "name": "stdout",
     "output_type": "stream",
     "text": [
      "2\n"
     ]
    }
   ],
   "source": [
    "nega = [5, -1, -2, 0, 3]\n",
    "n_negative = [neg for neg in nega if neg < 0]\n",
    "print(len(n_negative))"
   ]
  },
  {
   "cell_type": "code",
   "execution_count": 13,
   "id": "750cff29",
   "metadata": {},
   "outputs": [],
   "source": [
    "def negative(nums):\n",
    "    return len([ne for ne in nums if ne < 0])"
   ]
  },
  {
   "cell_type": "code",
   "execution_count": 14,
   "id": "e720968c",
   "metadata": {},
   "outputs": [
    {
     "data": {
      "text/plain": [
       "2"
      ]
     },
     "execution_count": 14,
     "metadata": {},
     "output_type": "execute_result"
    }
   ],
   "source": [
    "negative([5, -1, -2, 0, 3])"
   ]
  },
  {
   "cell_type": "markdown",
   "id": "9c7041a0",
   "metadata": {},
   "source": [
    "Mucho mejor, ¿verdad?\n",
    "\n",
    "Pues si todo lo que nos importa es minimizar la longitud de nuestro código, ¡esta tercera solución es aún mejor!"
   ]
  },
  {
   "cell_type": "code",
   "execution_count": 15,
   "id": "5b368f2f",
   "metadata": {},
   "outputs": [],
   "source": [
    "def count_negatives(nums):\n",
    "    # Recordatorio: en los ejercicios de \"booleanos y condicionales\", \n",
    "    # aprendimos sobre una peculiaridad de Python donde calcula algo como \n",
    "    # Verdadero + Verdadero + Falso + Verdadero como 3.\n",
    "    return sum([num < 0 for num in nums])"
   ]
  },
  {
   "cell_type": "code",
   "execution_count": 17,
   "id": "912429e7",
   "metadata": {},
   "outputs": [
    {
     "data": {
      "text/plain": [
       "2"
      ]
     },
     "execution_count": 17,
     "metadata": {},
     "output_type": "execute_result"
    }
   ],
   "source": [
    "count_negatives(nega)"
   ]
  },
  {
   "cell_type": "markdown",
   "id": "cabfcca4",
   "metadata": {},
   "source": [
    "Cuál de estas soluciones es la \"mejor\" es completamente subjetivo. Resolver un problema con menos código siempre es agradable, pero vale la pena tener en cuenta las siguientes líneas de [The Zen of Python](https://en.wikipedia.org/wiki/Zen_of_Python):\n",
    "\n",
    "* La legibilidad cuenta.\n",
    "* Lo explícito es mejor que lo implícito.\n",
    "\n",
    "Por lo tanto, usa estas herramientas para hacer programas compactos y legibles. Pero cuando tengas que elegir, favorece el código que sea fácil de entender para los demás."
   ]
  },
  {
   "cell_type": "code",
   "execution_count": null,
   "id": "8e393487",
   "metadata": {},
   "outputs": [
    {
     "name": "stdout",
     "output_type": "stream",
     "text": [
      "The Zen of Python, by Tim Peters\n",
      "\n",
      "Beautiful is better than ugly.\n",
      "Explicit is better than implicit.\n",
      "Simple is better than complex.\n",
      "Complex is better than complicated.\n",
      "Flat is better than nested.\n",
      "Sparse is better than dense.\n",
      "Readability counts.\n",
      "Special cases aren't special enough to break the rules.\n",
      "Although practicality beats purity.\n",
      "Errors should never pass silently.\n",
      "Unless explicitly silenced.\n",
      "In the face of ambiguity, refuse the temptation to guess.\n",
      "There should be one-- and preferably only one --obvious way to do it.\n",
      "Although that way may not be obvious at first unless you're Dutch.\n",
      "Now is better than never.\n",
      "Although never is often better than *right* now.\n",
      "If the implementation is hard to explain, it's a bad idea.\n",
      "If the implementation is easy to explain, it may be a good idea.\n",
      "Namespaces are one honking great idea -- let's do more of those!\n"
     ]
    }
   ],
   "source": [
    "# Ejecuta este código para conocer The Zen of Python. \n",
    "import this"
   ]
  },
  {
   "cell_type": "markdown",
   "id": "502f95d2",
   "metadata": {},
   "source": [
    "El Zen de Python, por Tim Peters\n",
    "\n",
    "    Hermoso es mejor que feo.\n",
    "\n",
    "    Explícito es mejor que implícito.\n",
    "\n",
    "    Simple es mejor que complejo.\n",
    "\n",
    "    Complejo es mejor que complicado.\n",
    "\n",
    "    Plano es mejor que anidado.\n",
    "\n",
    "    Disperso es mejor que denso.\n",
    "\n",
    "    La legibilidad cuenta.\n",
    "\n",
    "    Los casos especiales no son lo suficientemente especiales como para romper las reglas.\n",
    "\n",
    "    Aunque la practicidad le gana a la pureza.\n",
    "\n",
    "    Los errores nunca deben pasar silenciosamente.\n",
    "\n",
    "    A menos que sean silenciados explícitamente.\n",
    "\n",
    "    Ante la ambigüedad, rechaza la tentación de adivinar.\n",
    "\n",
    "    Debería haber una, y preferiblemente solo una, forma obvia de hacerlo.\n",
    "\n",
    "    Aunque esa forma puede no ser obvia al principio a menos que seas holandés.\n",
    "\n",
    "    Ahora es mejor que nunca.\n",
    "\n",
    "    Aunque nunca es a menudo mejor que justo ahora.\n",
    "\n",
    "    Si la implementación es difícil de explicar, es una mala idea.\n",
    "\n",
    "    Si la implementación es fácil de explicar, puede ser una buena idea.\n",
    "\n",
    "    Los espacios de nombres son una gran idea, ¡hagamos más de esos!\n",
    "\n"
   ]
  }
 ],
 "metadata": {
  "kernelspec": {
   "display_name": "base",
   "language": "python",
   "name": "python3"
  },
  "language_info": {
   "codemirror_mode": {
    "name": "ipython",
    "version": 3
   },
   "file_extension": ".py",
   "mimetype": "text/x-python",
   "name": "python",
   "nbconvert_exporter": "python",
   "pygments_lexer": "ipython3",
   "version": "3.13.2"
  }
 },
 "nbformat": 4,
 "nbformat_minor": 5
}
