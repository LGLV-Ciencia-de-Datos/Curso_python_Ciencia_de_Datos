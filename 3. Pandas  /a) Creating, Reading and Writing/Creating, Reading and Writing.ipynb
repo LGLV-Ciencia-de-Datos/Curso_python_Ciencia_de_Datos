{
  "nbformat": 4,
  "nbformat_minor": 0,
  "metadata": {
    "colab": {
      "provenance": [],
      "authorship_tag": "ABX9TyNViw2mNlX4bpU//dLGsTaE",
      "include_colab_link": true
    },
    "kernelspec": {
      "name": "python3",
      "display_name": "Python 3"
    },
    "language_info": {
      "name": "python"
    }
  },
  "cells": [
    {
      "cell_type": "markdown",
      "metadata": {
        "id": "view-in-github",
        "colab_type": "text"
      },
      "source": [
        "<a href=\"https://colab.research.google.com/github/LGLV-Ciencia-de-Datos/Curso_python_Ciencia_de_Datos/blob/main/3.%20Pandas%20%20/a)%20Creating%2C%20Reading%20and%20Writing/Creating%2C%20Reading%20and%20Writing.ipynb\" target=\"_parent\"><img src=\"https://colab.research.google.com/assets/colab-badge.svg\" alt=\"Open In Colab\"/></a>"
      ]
    },
    {
      "cell_type": "markdown",
      "source": [
        "# **Creating, Reading and Writing**\n",
        "No puedes trabajar con datos si no puedes leerlos. Comienza aquí."
      ],
      "metadata": {
        "id": "5EjOesR_QaOA"
      }
    },
    {
      "cell_type": "markdown",
      "source": [
        "# **Introducción**\n",
        "\n",
        "En este micro-curso, aprenderás todo sobre pandas, la biblioteca de Python más popular para el análisis de datos.\n",
        "\n",
        "A lo largo del curso, completarás varios ejercicios prácticos con datos del mundo real. Te recomendamos que trabajes en los ejercicios mientras lees los tutoriales correspondientes."
      ],
      "metadata": {
        "id": "foiybfmAQv2j"
      }
    },
    {
      "cell_type": "markdown",
      "source": [
        "## Para comenzar.\n",
        "\n",
        "Para usar pandas, normalmente empezarás con la siguiente línea de código."
      ],
      "metadata": {
        "id": "Ltlgr_hKRiff"
      }
    },
    {
      "cell_type": "code",
      "execution_count": null,
      "metadata": {
        "id": "xsN7omYjQVOS"
      },
      "outputs": [],
      "source": []
    },
    {
      "cell_type": "markdown",
      "source": [
        "## **Creando datos** (Craeting)\n",
        "\n",
        "Hay dos objetos principales en pandas: el `DataFrame` y la `Series`."
      ],
      "metadata": {
        "id": "4MUsWENbR3T7"
      }
    },
    {
      "cell_type": "markdown",
      "source": [
        "### **DataFrame**\n",
        "\n",
        "Un DataFrame es una tabla. Contiene una matriz de entradas individuales, cada una con un valor determinado. Cada entrada corresponde a una fila (o registro) y una columna.\n",
        "\n",
        "Por ejemplo, considera el siguiente DataFrame simple:"
      ],
      "metadata": {
        "id": "GRJPXb5RR9kA"
      }
    },
    {
      "cell_type": "code",
      "source": [
        "pd.DataFrame({'Yes': [50, 21], 'No': [131, 2]})"
      ],
      "metadata": {
        "id": "cAdSHfyRSU4L"
      },
      "execution_count": null,
      "outputs": []
    },
    {
      "cell_type": "markdown",
      "source": [
        "En este ejemplo, la entrada \"0, No\" tiene el valor de 131. La entrada \"0, Yes\" tiene un valor de 50, y así sucesivamente.\n",
        "\n",
        "Las entradas de un DataFrame no se limitan a números enteros. Por ejemplo, aquí hay un DataFrame cuyos valores son cadenas de texto:"
      ],
      "metadata": {
        "id": "1-Qv9XWFSUeg"
      }
    },
    {
      "cell_type": "code",
      "source": [
        "pd.DataFrame({'Bob': ['I liked it.', 'It was awful.'], 'Sue': ['Pretty good.', 'Bland.']})"
      ],
      "metadata": {
        "id": "S7rtF0bsTBZH"
      },
      "execution_count": null,
      "outputs": []
    },
    {
      "cell_type": "markdown",
      "source": [
        "Estamos utilizando el constructor `pd.DataFrame()` para generar estos objetos de DataFrame. La sintaxis para declarar uno nuevo es un diccionario cuyas claves son los nombres de las columnas (Bob y Sue en este ejemplo) y cuyos valores son una lista de entradas. Esta es la forma estándar de construir un nuevo DataFrame, y la que es más probable que encuentres.\n",
        "\n",
        "El constructor de diccionario-lista asigna valores a las etiquetas de las columnas, pero solo usa un conteo ascendente desde 0 (0, 1, 2, 3, ...) para las etiquetas de las filas. A veces esto está bien, pero a menudo querremos asignar estas etiquetas nosotros mismos.\n",
        "\n",
        "La lista de etiquetas de fila utilizada en un DataFrame se conoce como Índice. Podemos asignarle valores usando un parámetro `index` en nuestro constructor:"
      ],
      "metadata": {
        "id": "1hbnaSu8S-8M"
      }
    },
    {
      "cell_type": "code",
      "source": [
        "pd.DataFrame({'Bob': ['I liked it.', 'It was awful.'],\n",
        "              'Sue': ['Pretty good.', 'Bland.']},\n",
        "             index=['Product A', 'Product B'])"
      ],
      "metadata": {
        "id": "o-pFD5J-UDLr"
      },
      "execution_count": null,
      "outputs": []
    },
    {
      "cell_type": "markdown",
      "source": [
        "### **Series**\n",
        "Una Serie, por el contrario, es una secuencia de valores de datos. Si un DataFrame es una tabla, una Series es una lista. Y de hecho, puedes crear una con nada más que una lista:\n"
      ],
      "metadata": {
        "id": "Pd9pFr5_UnCz"
      }
    },
    {
      "cell_type": "code",
      "source": [
        "pd.Series([1, 2, 3, 4, 5])"
      ],
      "metadata": {
        "id": "I9nmd0lLU7Ef"
      },
      "execution_count": null,
      "outputs": []
    },
    {
      "cell_type": "markdown",
      "source": [
        "Una Series es, en esencia, una sola columna de un DataFrame. Por lo tanto, puedes asignar etiquetas a las filas de la Series de la misma manera que antes, utilizando el parámetro `index`. Sin embargo, una Series no tiene nombre de columna, solo tiene un nombre general:"
      ],
      "metadata": {
        "id": "aa9pfYtSVQP5"
      }
    },
    {
      "cell_type": "code",
      "source": [
        "pd.Series([30, 35, 40], index=['2015 Sales', '2016 Sales', '2017 Sales'], name='Product A')"
      ],
      "metadata": {
        "id": "3hlmSopeViBr"
      },
      "execution_count": null,
      "outputs": []
    },
    {
      "cell_type": "markdown",
      "source": [
        "La Series y el DataFrame están íntimamente relacionados. Es útil pensar en un DataFrame como si fuera simplemente un montón de Series \"unidas\". Veremos más sobre esto en la siguiente sección de este tutorial."
      ],
      "metadata": {
        "id": "pdZxKsdKV0X_"
      }
    },
    {
      "cell_type": "markdown",
      "source": [
        "## **Lectura de archivos de datos** (Reading)\n",
        "\n",
        "Poder crear un DataFrame o una Serie manualmente es útil. Sin embargo, la mayor parte del tiempo, no crearemos nuestros propios datos a mano. En cambio, trabajaremos con datos que ya existen.\n",
        "\n",
        "Los datos pueden ser almacenados en una gran variedad de formas y formatos. El más básico de ellos es, por mucho, el humilde archivo **CSV** (del inglés Comma-Separated Values, o \"valores separados por comas\"). Cuando abres un archivo **CSV**, obtienes algo que se ve así:"
      ],
      "metadata": {
        "id": "Kb1mUKn8V1Rx"
      }
    },
    {
      "cell_type": "markdown",
      "source": [
        "    Product A,Product B,Product C,\n",
        "\n",
        "    30,21,9,\n",
        "    35,34,1,\n",
        "    41,11,11"
      ],
      "metadata": {
        "id": "Sn3C23uWXAPc"
      }
    },
    {
      "cell_type": "code",
      "source": [
        "wine_reviews = pd.read_csv(\"https://raw.githubusercontent.com/stoltzmaniac/wine-reviews-kaggle/refs/heads/master/winemag-data_first150k.csv\")"
      ],
      "metadata": {
        "id": "NgblnYaqWZQw"
      },
      "execution_count": null,
      "outputs": []
    },
    {
      "cell_type": "markdown",
      "source": [
        "Podemos usar el atributo `shape` para verificar qué tan grande es el DataFrame resultante:"
      ],
      "metadata": {
        "id": "dvu6loFdY7B9"
      }
    },
    {
      "cell_type": "code",
      "source": [
        "wine_reviews.shape"
      ],
      "metadata": {
        "id": "RtVEsDXBZDza"
      },
      "execution_count": null,
      "outputs": []
    },
    {
      "cell_type": "code",
      "source": [
        "print(wine_reviews.shape[0]*wine_reviews.shape[1])"
      ],
      "metadata": {
        "id": "rqLG1IQyaQvi"
      },
      "execution_count": null,
      "outputs": []
    },
    {
      "cell_type": "markdown",
      "source": [
        "Así que nuestro nuevo DataFrame tiene 150,000 registros distribuidos en 11 columnas diferentes. ¡Son casi 1.7 millones de entradas!\n",
        "\n",
        "Podemos examinar el contenido del DataFrame resultante usando el comando `head()`, que toma las primeras cinco filas:"
      ],
      "metadata": {
        "id": "tX0w-36yZXlv"
      }
    },
    {
      "cell_type": "code",
      "source": [
        "wine_reviews.head()"
      ],
      "metadata": {
        "id": "63vMTETpZWvA"
      },
      "execution_count": null,
      "outputs": []
    },
    {
      "cell_type": "markdown",
      "source": [
        "La función `pd.read_csv()` está bien dotada, con más de 30 parámetros opcionales que puedes especificar. Por ejemplo, en este conjunto de datos, puedes ver que el archivo CSV tiene un índice incorporado que pandas no detectó automáticamente. Para hacer que pandas use esa columna como índice (en lugar de crear uno nuevo desde cero), podemos especificar un `index_col`."
      ],
      "metadata": {
        "id": "Xi5R2r8NbhsL"
      }
    },
    {
      "cell_type": "code",
      "source": [
        "pd.read_csv(\"https://raw.githubusercontent.com/stoltzmaniac/wine-reviews-kaggle/refs/heads/master/winemag-data_first150k.csv\", index_col=0).head()"
      ],
      "metadata": {
        "id": "JOFVkf5ZbwEI"
      },
      "execution_count": null,
      "outputs": []
    },
    {
      "cell_type": "code",
      "source": [
        "wine_reviews.columns"
      ],
      "metadata": {
        "colab": {
          "base_uri": "https://localhost:8080/"
        },
        "id": "Ub0RYNqKe0dj",
        "outputId": "9b949e98-2010-4495-f17f-9648cad321bc"
      },
      "execution_count": null,
      "outputs": [
        {
          "output_type": "execute_result",
          "data": {
            "text/plain": [
              "Index(['Unnamed: 0', 'country', 'description', 'designation', 'points',\n",
              "       'price', 'province', 'region_1', 'region_2', 'variety', 'winery'],\n",
              "      dtype='object')"
            ]
          },
          "metadata": {},
          "execution_count": 18
        }
      ]
    }
  ]
}