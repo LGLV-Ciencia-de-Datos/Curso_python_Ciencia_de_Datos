{
  "nbformat": 4,
  "nbformat_minor": 0,
  "metadata": {
    "colab": {
      "provenance": [],
      "authorship_tag": "ABX9TyMay0oU9AxrUQ0NbjHaBgg4",
      "include_colab_link": true
    },
    "kernelspec": {
      "name": "python3",
      "display_name": "Python 3"
    },
    "language_info": {
      "name": "python"
    }
  },
  "cells": [
    {
      "cell_type": "markdown",
      "metadata": {
        "id": "view-in-github",
        "colab_type": "text"
      },
      "source": [
        "<a href=\"https://colab.research.google.com/github/LGLV-Ciencia-de-Datos/Curso_python_Ciencia_de_Datos/blob/main/Grouping%20and%20Sorting/d)%20Grouping%20and%20Sorting.ipynb\" target=\"_parent\"><img src=\"https://colab.research.google.com/assets/colab-badge.svg\" alt=\"Open In Colab\"/></a>"
      ]
    },
    {
      "cell_type": "markdown",
      "source": [
        "# **Agrupación y clasificación** (Grouping and Sorting)\n",
        "Aumenta tu nivel de conocimiento. Cuanto más complejo sea el conjunto de datos, más importante es esto."
      ],
      "metadata": {
        "id": "8xDTEujjvG-y"
      }
    },
    {
      "cell_type": "markdown",
      "source": [
        "### **Introducción**\n",
        "\n",
        "Los mapas nos permiten transformar los datos en un DataFrame o Series de un valor a la vez para una columna entera. Sin embargo, a menudo queremos agrupar nuestros datos y luego hacer algo específico con el grupo en el que se encuentran los datos.\n",
        "\n",
        "Como aprenderá, hacemos esto con la operación `groupby()`. También cubriremos algunos temas adicionales, como formas más complejas de indexar sus DataFrames, junto con la forma de ordenar sus datos."
      ],
      "metadata": {
        "id": "4qHGtO8ZvABR"
      }
    },
    {
      "cell_type": "markdown",
      "source": [
        "### **Análisis por grupo** (Groupwise analysis).\n",
        "Una función que hemos estado usando mucho hasta ahora es `value_counts()`. Podemos replicar lo que hace `value_counts()` haciendo lo siguiente:"
      ],
      "metadata": {
        "id": "-qC96UFHvvDe"
      }
    },
    {
      "cell_type": "code",
      "source": [],
      "metadata": {
        "id": "sCV8X4hbvuZu"
      },
      "execution_count": null,
      "outputs": []
    },
    {
      "cell_type": "code",
      "execution_count": null,
      "metadata": {
        "id": "zBXYRksKu76I"
      },
      "outputs": [],
      "source": [
        "reviews = pd.read_csv('https://raw.githubusercontent.com/davestroud/Wine/refs/heads/master/winemag-data-130k-v2.csv', index_col = 0)\n",
        "# pd.set_option(\"display.max_rows\", 5)\n",
        "#reviews"
      ]
    },
    {
      "cell_type": "code",
      "source": [
        "# reviews.groupby('points').points.count()"
      ],
      "metadata": {
        "id": "CIpzy_JVwR_b"
      },
      "execution_count": null,
      "outputs": []
    },
    {
      "cell_type": "markdown",
      "source": [
        "`groupby()` creó un grupo de reseñas que asignaba la misma cantidad de puntos a los vinos dados. Luego, para cada uno de estos grupos, tomamos la columna de puntos y contamos cuántas veces apareció. `value_counts()` es simplemente un atajo para esta operación de `groupby()`.\n",
        "\n",
        "Podemos usar cualquiera de las funciones de resumen que hemos usado antes con estos datos. Por ejemplo, para obtener el vino más barato en cada categoría de valor de puntos, podemos hacer lo siguiente:"
      ],
      "metadata": {
        "id": "SCCsiNmwxEV3"
      }
    },
    {
      "cell_type": "code",
      "source": [
        "# reviews.groupby('points').price.min()"
      ],
      "metadata": {
        "id": "qVTP1NfbxDlk"
      },
      "execution_count": null,
      "outputs": []
    },
    {
      "cell_type": "code",
      "source": [
        "reviews.columns"
      ],
      "metadata": {
        "id": "i-1nyiPExg1U"
      },
      "execution_count": null,
      "outputs": []
    },
    {
      "cell_type": "markdown",
      "source": [
        "Puedes pensar en cada grupo que generamos como una porción de nuestro DataFrame que contiene solo datos con valores que coinciden. Este DataFrame es accesible directamente a través del método `apply()`, y luego podemos manipular los datos de la forma que mejor nos parezca. Por ejemplo, aquí tienes una forma de seleccionar el nombre del primer vino reseñado de cada bodega en el conjunto de datos:"
      ],
      "metadata": {
        "id": "lVvd87qXymDg"
      }
    },
    {
      "cell_type": "code",
      "source": [
        "# reviews.groupby('winery').apply(lambda df: df.title.iloc[0])"
      ],
      "metadata": {
        "id": "cKrZxtpbylWR"
      },
      "execution_count": null,
      "outputs": []
    },
    {
      "cell_type": "markdown",
      "source": [
        "Para un control aún más detallado, también puedes agrupar por más de una columna. Por ejemplo, aquí te mostramos cómo seleccionaríamos el mejor vino por país y provincia:"
      ],
      "metadata": {
        "id": "C3gCCaqh0RR8"
      }
    },
    {
      "cell_type": "code",
      "source": [
        "# reviews.groupby(['country', 'province']).apply(lambda df: df.loc[df.points.idxmax()])"
      ],
      "metadata": {
        "id": "D2-_DySv0Xz8"
      },
      "execution_count": null,
      "outputs": []
    },
    {
      "cell_type": "markdown",
      "source": [
        "Otro método de `groupby()` que vale la pena mencionar es `agg()`, que te permite ejecutar un montón de funciones diferentes en tu DataFrame de forma simultánea. Por ejemplo, podemos generar un resumen estadístico simple del conjunto de datos de la siguiente manera:"
      ],
      "metadata": {
        "id": "ngKgLpOG1K9P"
      }
    },
    {
      "cell_type": "code",
      "source": [
        "# reviews.groupby(['country']).price.agg([len, min, max])"
      ],
      "metadata": {
        "id": "qmNB4bB91QuR"
      },
      "execution_count": null,
      "outputs": []
    },
    {
      "cell_type": "markdown",
      "source": [
        "El uso eficaz de `groupby()` te permitirá hacer muchas cosas realmente poderosas con tu conjunto de datos."
      ],
      "metadata": {
        "id": "69eVFHI72dal"
      }
    },
    {
      "cell_type": "markdown",
      "source": [
        "### **Multi-índice** (Multi-indexes)\n",
        "\n",
        "En todos los ejemplos que hemos visto hasta ahora, hemos estado trabajando con objetos DataFrame o Series que tienen un índice de una sola etiqueta. `groupby()` es ligeramente diferente en el sentido de que, dependiendo de la operación que ejecutemos, a veces dará como resultado lo que se llama un multi-índice."
      ],
      "metadata": {
        "id": "OCGilIZt2jLe"
      }
    },
    {
      "cell_type": "markdown",
      "source": [
        "Un multi-índice se diferencia de un índice regular en que tiene múltiples niveles. Por ejemplo:"
      ],
      "metadata": {
        "id": "ESoJV1iG2_pq"
      }
    },
    {
      "cell_type": "code",
      "source": [
        "# countries_reviewed = reviews.groupby(['country', 'province']).description.agg([len])\n",
        "# countries_reviewed"
      ],
      "metadata": {
        "id": "P55R2f8j1g66"
      },
      "execution_count": null,
      "outputs": []
    },
    {
      "cell_type": "code",
      "source": [
        "# mi = countries_reviewed.index\n",
        "# type(mi)"
      ],
      "metadata": {
        "id": "gkRXbOoO4IeQ"
      },
      "execution_count": null,
      "outputs": []
    },
    {
      "cell_type": "markdown",
      "source": [
        "Los multi-índices tienen varios métodos para manejar su estructura jerárquica que no existen para los índices de un solo nivel. También requieren dos niveles de etiquetas para recuperar un valor. Trabajar con la salida de un multi-índice es un \"error común\" para los usuarios nuevos de pandas.\n",
        "\n",
        "Los casos de uso para un multi-índice se detallan junto con las instrucciones para usarlos en la sección [MultiIndex / Advanced Selection](https://pandas.pydata.org/pandas-docs/stable/user_guide/advanced.html) de la documentación de pandas.\n",
        "\n",
        "Sin embargo, en general, el método de multi-índice que usarás con más frecuencia es el que sirve para convertirlo de nuevo en un índice regular, el método `reset_index()`:"
      ],
      "metadata": {
        "id": "l93HYSI84n5i"
      }
    },
    {
      "cell_type": "markdown",
      "source": [
        "### **Ordenando** (Sorting)\n",
        "\n",
        "Mirando de nuevo el dataframe countries_reviewed, podemos ver que la agrupación devuelve los datos en el orden del índice, no en el orden de los valores. Es decir, al generar el resultado de un groupby, el orden de las filas depende de los valores del índice, no de los datos.\n",
        "\n",
        "Para obtener los datos en el orden que deseamos, podemos ordenarlos nosotros mismos. El método `sort_values()` es útil para esto.\n"
      ],
      "metadata": {
        "id": "kTyJsBTR5egs"
      }
    },
    {
      "cell_type": "code",
      "source": [
        "# countries_reviewed = countries_reviewed.reset_index()\n",
        "# countries_reviewed.sort_values(by='len')"
      ],
      "metadata": {
        "id": "Vitatz7i45QT"
      },
      "execution_count": null,
      "outputs": []
    },
    {
      "cell_type": "markdown",
      "source": [
        "De forma predeterminada, `sort_values()` ordena de forma ascendente, donde los valores más bajos van primero. Sin embargo, la mayoría de las veces queremos una clasificación descendente, donde los números más altos van primero. Eso se hace así:"
      ],
      "metadata": {
        "id": "0pabpKa0QV7E"
      }
    },
    {
      "cell_type": "code",
      "source": [
        "# countries_reviewed.sort_values(by='len', ascending=False)"
      ],
      "metadata": {
        "id": "fTyMGPLhQVru"
      },
      "execution_count": null,
      "outputs": []
    },
    {
      "cell_type": "markdown",
      "source": [
        "Para ordenar por valores de índice, usa el método complementario `sort_index()`. Este método tiene los mismos argumentos y orden predeterminado."
      ],
      "metadata": {
        "id": "Ckhvn50SQ6dN"
      }
    },
    {
      "cell_type": "code",
      "source": [
        "# countries_reviewed.sort_index()"
      ],
      "metadata": {
        "id": "6Cey8B-KQ-V6"
      },
      "execution_count": null,
      "outputs": []
    },
    {
      "cell_type": "markdown",
      "source": [
        "Finalmente, ten en cuenta que puedes ordenar por más de una columna a la vez."
      ],
      "metadata": {
        "id": "GvXFvAyNRMGV"
      }
    },
    {
      "cell_type": "code",
      "source": [
        "# countries_reviewed.sort_values(by=['country', 'len'])"
      ],
      "metadata": {
        "id": "KLDw2LqYRM6Q"
      },
      "execution_count": null,
      "outputs": []
    }
  ]
}